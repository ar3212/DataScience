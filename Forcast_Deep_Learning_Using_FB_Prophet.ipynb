{
  "nbformat": 4,
  "nbformat_minor": 0,
  "metadata": {
    "kernelspec": {
      "display_name": "Python 3",
      "language": "python",
      "name": "python3"
    },
    "language_info": {
      "codemirror_mode": {
        "name": "ipython",
        "version": 3
      },
      "file_extension": ".py",
      "mimetype": "text/x-python",
      "name": "python",
      "nbconvert_exporter": "python",
      "pygments_lexer": "ipython3",
      "version": "3.7.6"
    },
    "colab": {
      "name": "Forcast Deep Learning Using FB Prophet.ipynb",
      "provenance": [],
      "include_colab_link": true
    }
  },
  "cells": [
    {
      "cell_type": "markdown",
      "metadata": {
        "id": "view-in-github",
        "colab_type": "text"
      },
      "source": [
        "<a href=\"https://colab.research.google.com/github/zar7364/DataScience/blob/main/Forcast_Deep_Learning_Using_FB_Prophet.ipynb\" target=\"_parent\"><img src=\"https://colab.research.google.com/assets/colab-badge.svg\" alt=\"Open In Colab\"/></a>"
      ]
    },
    {
      "cell_type": "code",
      "metadata": {
        "id": "I6voJbsPhPuf"
      },
      "source": [
        "from google.colab import drive"
      ],
      "execution_count": 9,
      "outputs": []
    },
    {
      "cell_type": "code",
      "metadata": {
        "colab": {
          "base_uri": "https://localhost:8080/"
        },
        "id": "2El_ssBkhw33",
        "outputId": "ee3b9fd2-c49e-4668-f920-8aebbd92a2dc"
      },
      "source": [
        "drive.mount(\"/content/drive/\")"
      ],
      "execution_count": 10,
      "outputs": [
        {
          "output_type": "stream",
          "text": [
            "Drive already mounted at /content/drive/; to attempt to forcibly remount, call drive.mount(\"/content/drive/\", force_remount=True).\n"
          ],
          "name": "stdout"
        }
      ]
    },
    {
      "cell_type": "code",
      "metadata": {
        "id": "IwwRvCSehNcE"
      },
      "source": [
        "import numpy as np\n",
        "import pandas as pd\n",
        "from fbprophet import Prophet"
      ],
      "execution_count": 11,
      "outputs": []
    },
    {
      "cell_type": "code",
      "metadata": {
        "id": "sdjchOD0imIy"
      },
      "source": [
        "data=(\"/content/drive/My Drive/Colab Notebooks/TimeSeries/Banana.csv\")"
      ],
      "execution_count": 25,
      "outputs": []
    },
    {
      "cell_type": "code",
      "metadata": {
        "id": "nsfGov2DhNcE"
      },
      "source": [
        "data=pd.read_csv(data)"
      ],
      "execution_count": 26,
      "outputs": []
    },
    {
      "cell_type": "code",
      "metadata": {
        "id": "nq4Bu72WhNcF",
        "colab": {
          "base_uri": "https://localhost:8080/",
          "height": 206
        },
        "outputId": "96bb68b4-b479-440b-ab8b-0e1144159723"
      },
      "source": [
        "data.tail()"
      ],
      "execution_count": 27,
      "outputs": [
        {
          "output_type": "execute_result",
          "data": {
            "text/html": [
              "<div>\n",
              "<style scoped>\n",
              "    .dataframe tbody tr th:only-of-type {\n",
              "        vertical-align: middle;\n",
              "    }\n",
              "\n",
              "    .dataframe tbody tr th {\n",
              "        vertical-align: top;\n",
              "    }\n",
              "\n",
              "    .dataframe thead th {\n",
              "        text-align: right;\n",
              "    }\n",
              "</style>\n",
              "<table border=\"1\" class=\"dataframe\">\n",
              "  <thead>\n",
              "    <tr style=\"text-align: right;\">\n",
              "      <th></th>\n",
              "      <th>Price Date</th>\n",
              "      <th>States</th>\n",
              "      <th>Commodity</th>\n",
              "      <th>Modal Price (Rs./Quintal)</th>\n",
              "    </tr>\n",
              "  </thead>\n",
              "  <tbody>\n",
              "    <tr>\n",
              "      <th>1856</th>\n",
              "      <td>06 Jan 2014</td>\n",
              "      <td>Delhi</td>\n",
              "      <td>Banana</td>\n",
              "      <td>1600</td>\n",
              "    </tr>\n",
              "    <tr>\n",
              "      <th>1857</th>\n",
              "      <td>04 Jan 2014</td>\n",
              "      <td>Delhi</td>\n",
              "      <td>Banana</td>\n",
              "      <td>1700</td>\n",
              "    </tr>\n",
              "    <tr>\n",
              "      <th>1858</th>\n",
              "      <td>03 Jan 2014</td>\n",
              "      <td>Delhi</td>\n",
              "      <td>Banana</td>\n",
              "      <td>1700</td>\n",
              "    </tr>\n",
              "    <tr>\n",
              "      <th>1859</th>\n",
              "      <td>02 Jan 2014</td>\n",
              "      <td>Delhi</td>\n",
              "      <td>Banana</td>\n",
              "      <td>1700</td>\n",
              "    </tr>\n",
              "    <tr>\n",
              "      <th>1860</th>\n",
              "      <td>01 Jan 2014</td>\n",
              "      <td>Delhi</td>\n",
              "      <td>Banana</td>\n",
              "      <td>1680</td>\n",
              "    </tr>\n",
              "  </tbody>\n",
              "</table>\n",
              "</div>"
            ],
            "text/plain": [
              "       Price Date States Commodity  Modal Price (Rs./Quintal)\n",
              "1856  06 Jan 2014  Delhi    Banana                       1600\n",
              "1857  04 Jan 2014  Delhi    Banana                       1700\n",
              "1858  03 Jan 2014  Delhi    Banana                       1700\n",
              "1859  02 Jan 2014  Delhi    Banana                       1700\n",
              "1860  01 Jan 2014  Delhi    Banana                       1680"
            ]
          },
          "metadata": {
            "tags": []
          },
          "execution_count": 27
        }
      ]
    },
    {
      "cell_type": "code",
      "metadata": {
        "id": "oxg-Kg-HhNcG",
        "colab": {
          "base_uri": "https://localhost:8080/",
          "height": 206
        },
        "outputId": "661d093e-e46b-46a9-820b-f7d94e76e2ee"
      },
      "source": [
        "df=data.drop(['States','Commodity'], axis=1)\n",
        "df.head()"
      ],
      "execution_count": 29,
      "outputs": [
        {
          "output_type": "execute_result",
          "data": {
            "text/html": [
              "<div>\n",
              "<style scoped>\n",
              "    .dataframe tbody tr th:only-of-type {\n",
              "        vertical-align: middle;\n",
              "    }\n",
              "\n",
              "    .dataframe tbody tr th {\n",
              "        vertical-align: top;\n",
              "    }\n",
              "\n",
              "    .dataframe thead th {\n",
              "        text-align: right;\n",
              "    }\n",
              "</style>\n",
              "<table border=\"1\" class=\"dataframe\">\n",
              "  <thead>\n",
              "    <tr style=\"text-align: right;\">\n",
              "      <th></th>\n",
              "      <th>Price Date</th>\n",
              "      <th>Modal Price (Rs./Quintal)</th>\n",
              "    </tr>\n",
              "  </thead>\n",
              "  <tbody>\n",
              "    <tr>\n",
              "      <th>0</th>\n",
              "      <td>14 Jul 2020</td>\n",
              "      <td>1550</td>\n",
              "    </tr>\n",
              "    <tr>\n",
              "      <th>1</th>\n",
              "      <td>13 Jul 2020</td>\n",
              "      <td>1500</td>\n",
              "    </tr>\n",
              "    <tr>\n",
              "      <th>2</th>\n",
              "      <td>11 Jul 2020</td>\n",
              "      <td>1500</td>\n",
              "    </tr>\n",
              "    <tr>\n",
              "      <th>3</th>\n",
              "      <td>10 Jul 2020</td>\n",
              "      <td>1500</td>\n",
              "    </tr>\n",
              "    <tr>\n",
              "      <th>4</th>\n",
              "      <td>09 Jul 2020</td>\n",
              "      <td>1400</td>\n",
              "    </tr>\n",
              "  </tbody>\n",
              "</table>\n",
              "</div>"
            ],
            "text/plain": [
              "    Price Date  Modal Price (Rs./Quintal)\n",
              "0  14 Jul 2020                       1550\n",
              "1  13 Jul 2020                       1500\n",
              "2  11 Jul 2020                       1500\n",
              "3  10 Jul 2020                       1500\n",
              "4  09 Jul 2020                       1400"
            ]
          },
          "metadata": {
            "tags": []
          },
          "execution_count": 29
        }
      ]
    },
    {
      "cell_type": "code",
      "metadata": {
        "id": "cF8j0dZYhNcG",
        "colab": {
          "base_uri": "https://localhost:8080/",
          "height": 206
        },
        "outputId": "cb76c3e1-4054-401d-8534-351e981635ba"
      },
      "source": [
        "df.tail()"
      ],
      "execution_count": 30,
      "outputs": [
        {
          "output_type": "execute_result",
          "data": {
            "text/html": [
              "<div>\n",
              "<style scoped>\n",
              "    .dataframe tbody tr th:only-of-type {\n",
              "        vertical-align: middle;\n",
              "    }\n",
              "\n",
              "    .dataframe tbody tr th {\n",
              "        vertical-align: top;\n",
              "    }\n",
              "\n",
              "    .dataframe thead th {\n",
              "        text-align: right;\n",
              "    }\n",
              "</style>\n",
              "<table border=\"1\" class=\"dataframe\">\n",
              "  <thead>\n",
              "    <tr style=\"text-align: right;\">\n",
              "      <th></th>\n",
              "      <th>Price Date</th>\n",
              "      <th>Modal Price (Rs./Quintal)</th>\n",
              "    </tr>\n",
              "  </thead>\n",
              "  <tbody>\n",
              "    <tr>\n",
              "      <th>1856</th>\n",
              "      <td>06 Jan 2014</td>\n",
              "      <td>1600</td>\n",
              "    </tr>\n",
              "    <tr>\n",
              "      <th>1857</th>\n",
              "      <td>04 Jan 2014</td>\n",
              "      <td>1700</td>\n",
              "    </tr>\n",
              "    <tr>\n",
              "      <th>1858</th>\n",
              "      <td>03 Jan 2014</td>\n",
              "      <td>1700</td>\n",
              "    </tr>\n",
              "    <tr>\n",
              "      <th>1859</th>\n",
              "      <td>02 Jan 2014</td>\n",
              "      <td>1700</td>\n",
              "    </tr>\n",
              "    <tr>\n",
              "      <th>1860</th>\n",
              "      <td>01 Jan 2014</td>\n",
              "      <td>1680</td>\n",
              "    </tr>\n",
              "  </tbody>\n",
              "</table>\n",
              "</div>"
            ],
            "text/plain": [
              "       Price Date  Modal Price (Rs./Quintal)\n",
              "1856  06 Jan 2014                       1600\n",
              "1857  04 Jan 2014                       1700\n",
              "1858  03 Jan 2014                       1700\n",
              "1859  02 Jan 2014                       1700\n",
              "1860  01 Jan 2014                       1680"
            ]
          },
          "metadata": {
            "tags": []
          },
          "execution_count": 30
        }
      ]
    },
    {
      "cell_type": "code",
      "metadata": {
        "id": "2f8aOJvdhNcH",
        "colab": {
          "base_uri": "https://localhost:8080/",
          "height": 424
        },
        "outputId": "83b89864-0fb7-4c85-8b08-9f22c8c8959a"
      },
      "source": [
        "df"
      ],
      "execution_count": 31,
      "outputs": [
        {
          "output_type": "execute_result",
          "data": {
            "text/html": [
              "<div>\n",
              "<style scoped>\n",
              "    .dataframe tbody tr th:only-of-type {\n",
              "        vertical-align: middle;\n",
              "    }\n",
              "\n",
              "    .dataframe tbody tr th {\n",
              "        vertical-align: top;\n",
              "    }\n",
              "\n",
              "    .dataframe thead th {\n",
              "        text-align: right;\n",
              "    }\n",
              "</style>\n",
              "<table border=\"1\" class=\"dataframe\">\n",
              "  <thead>\n",
              "    <tr style=\"text-align: right;\">\n",
              "      <th></th>\n",
              "      <th>Price Date</th>\n",
              "      <th>Modal Price (Rs./Quintal)</th>\n",
              "    </tr>\n",
              "  </thead>\n",
              "  <tbody>\n",
              "    <tr>\n",
              "      <th>0</th>\n",
              "      <td>14 Jul 2020</td>\n",
              "      <td>1550</td>\n",
              "    </tr>\n",
              "    <tr>\n",
              "      <th>1</th>\n",
              "      <td>13 Jul 2020</td>\n",
              "      <td>1500</td>\n",
              "    </tr>\n",
              "    <tr>\n",
              "      <th>2</th>\n",
              "      <td>11 Jul 2020</td>\n",
              "      <td>1500</td>\n",
              "    </tr>\n",
              "    <tr>\n",
              "      <th>3</th>\n",
              "      <td>10 Jul 2020</td>\n",
              "      <td>1500</td>\n",
              "    </tr>\n",
              "    <tr>\n",
              "      <th>4</th>\n",
              "      <td>09 Jul 2020</td>\n",
              "      <td>1400</td>\n",
              "    </tr>\n",
              "    <tr>\n",
              "      <th>...</th>\n",
              "      <td>...</td>\n",
              "      <td>...</td>\n",
              "    </tr>\n",
              "    <tr>\n",
              "      <th>1856</th>\n",
              "      <td>06 Jan 2014</td>\n",
              "      <td>1600</td>\n",
              "    </tr>\n",
              "    <tr>\n",
              "      <th>1857</th>\n",
              "      <td>04 Jan 2014</td>\n",
              "      <td>1700</td>\n",
              "    </tr>\n",
              "    <tr>\n",
              "      <th>1858</th>\n",
              "      <td>03 Jan 2014</td>\n",
              "      <td>1700</td>\n",
              "    </tr>\n",
              "    <tr>\n",
              "      <th>1859</th>\n",
              "      <td>02 Jan 2014</td>\n",
              "      <td>1700</td>\n",
              "    </tr>\n",
              "    <tr>\n",
              "      <th>1860</th>\n",
              "      <td>01 Jan 2014</td>\n",
              "      <td>1680</td>\n",
              "    </tr>\n",
              "  </tbody>\n",
              "</table>\n",
              "<p>1861 rows × 2 columns</p>\n",
              "</div>"
            ],
            "text/plain": [
              "       Price Date  Modal Price (Rs./Quintal)\n",
              "0     14 Jul 2020                       1550\n",
              "1     13 Jul 2020                       1500\n",
              "2     11 Jul 2020                       1500\n",
              "3     10 Jul 2020                       1500\n",
              "4     09 Jul 2020                       1400\n",
              "...           ...                        ...\n",
              "1856  06 Jan 2014                       1600\n",
              "1857  04 Jan 2014                       1700\n",
              "1858  03 Jan 2014                       1700\n",
              "1859  02 Jan 2014                       1700\n",
              "1860  01 Jan 2014                       1680\n",
              "\n",
              "[1861 rows x 2 columns]"
            ]
          },
          "metadata": {
            "tags": []
          },
          "execution_count": 31
        }
      ]
    },
    {
      "cell_type": "code",
      "metadata": {
        "id": "lMDsMsGdhNcH"
      },
      "source": [
        "df.reset_index(level=0, inplace=True)"
      ],
      "execution_count": 32,
      "outputs": []
    },
    {
      "cell_type": "code",
      "metadata": {
        "id": "HU_JPexehNcH",
        "colab": {
          "base_uri": "https://localhost:8080/",
          "height": 424
        },
        "outputId": "c8e17435-d10d-431b-b96a-ae9b22d48ec4"
      },
      "source": [
        "dataq=df.sort_values(['index'],ascending=False)\n",
        "dataq"
      ],
      "execution_count": 33,
      "outputs": [
        {
          "output_type": "execute_result",
          "data": {
            "text/html": [
              "<div>\n",
              "<style scoped>\n",
              "    .dataframe tbody tr th:only-of-type {\n",
              "        vertical-align: middle;\n",
              "    }\n",
              "\n",
              "    .dataframe tbody tr th {\n",
              "        vertical-align: top;\n",
              "    }\n",
              "\n",
              "    .dataframe thead th {\n",
              "        text-align: right;\n",
              "    }\n",
              "</style>\n",
              "<table border=\"1\" class=\"dataframe\">\n",
              "  <thead>\n",
              "    <tr style=\"text-align: right;\">\n",
              "      <th></th>\n",
              "      <th>index</th>\n",
              "      <th>Price Date</th>\n",
              "      <th>Modal Price (Rs./Quintal)</th>\n",
              "    </tr>\n",
              "  </thead>\n",
              "  <tbody>\n",
              "    <tr>\n",
              "      <th>1860</th>\n",
              "      <td>1860</td>\n",
              "      <td>01 Jan 2014</td>\n",
              "      <td>1680</td>\n",
              "    </tr>\n",
              "    <tr>\n",
              "      <th>1859</th>\n",
              "      <td>1859</td>\n",
              "      <td>02 Jan 2014</td>\n",
              "      <td>1700</td>\n",
              "    </tr>\n",
              "    <tr>\n",
              "      <th>1858</th>\n",
              "      <td>1858</td>\n",
              "      <td>03 Jan 2014</td>\n",
              "      <td>1700</td>\n",
              "    </tr>\n",
              "    <tr>\n",
              "      <th>1857</th>\n",
              "      <td>1857</td>\n",
              "      <td>04 Jan 2014</td>\n",
              "      <td>1700</td>\n",
              "    </tr>\n",
              "    <tr>\n",
              "      <th>1856</th>\n",
              "      <td>1856</td>\n",
              "      <td>06 Jan 2014</td>\n",
              "      <td>1600</td>\n",
              "    </tr>\n",
              "    <tr>\n",
              "      <th>...</th>\n",
              "      <td>...</td>\n",
              "      <td>...</td>\n",
              "      <td>...</td>\n",
              "    </tr>\n",
              "    <tr>\n",
              "      <th>4</th>\n",
              "      <td>4</td>\n",
              "      <td>09 Jul 2020</td>\n",
              "      <td>1400</td>\n",
              "    </tr>\n",
              "    <tr>\n",
              "      <th>3</th>\n",
              "      <td>3</td>\n",
              "      <td>10 Jul 2020</td>\n",
              "      <td>1500</td>\n",
              "    </tr>\n",
              "    <tr>\n",
              "      <th>2</th>\n",
              "      <td>2</td>\n",
              "      <td>11 Jul 2020</td>\n",
              "      <td>1500</td>\n",
              "    </tr>\n",
              "    <tr>\n",
              "      <th>1</th>\n",
              "      <td>1</td>\n",
              "      <td>13 Jul 2020</td>\n",
              "      <td>1500</td>\n",
              "    </tr>\n",
              "    <tr>\n",
              "      <th>0</th>\n",
              "      <td>0</td>\n",
              "      <td>14 Jul 2020</td>\n",
              "      <td>1550</td>\n",
              "    </tr>\n",
              "  </tbody>\n",
              "</table>\n",
              "<p>1861 rows × 3 columns</p>\n",
              "</div>"
            ],
            "text/plain": [
              "      index   Price Date  Modal Price (Rs./Quintal)\n",
              "1860   1860  01 Jan 2014                       1680\n",
              "1859   1859  02 Jan 2014                       1700\n",
              "1858   1858  03 Jan 2014                       1700\n",
              "1857   1857  04 Jan 2014                       1700\n",
              "1856   1856  06 Jan 2014                       1600\n",
              "...     ...          ...                        ...\n",
              "4         4  09 Jul 2020                       1400\n",
              "3         3  10 Jul 2020                       1500\n",
              "2         2  11 Jul 2020                       1500\n",
              "1         1  13 Jul 2020                       1500\n",
              "0         0  14 Jul 2020                       1550\n",
              "\n",
              "[1861 rows x 3 columns]"
            ]
          },
          "metadata": {
            "tags": []
          },
          "execution_count": 33
        }
      ]
    },
    {
      "cell_type": "code",
      "metadata": {
        "id": "xVNHXLNYhNcH",
        "colab": {
          "base_uri": "https://localhost:8080/"
        },
        "outputId": "1f948712-d5ba-4cc4-d34b-4c33a982b140"
      },
      "source": [
        "dataq.columns"
      ],
      "execution_count": 34,
      "outputs": [
        {
          "output_type": "execute_result",
          "data": {
            "text/plain": [
              "Index(['index', 'Price Date', 'Modal Price (Rs./Quintal)'], dtype='object')"
            ]
          },
          "metadata": {
            "tags": []
          },
          "execution_count": 34
        }
      ]
    },
    {
      "cell_type": "code",
      "metadata": {
        "id": "rKQxt6ighNcI",
        "colab": {
          "base_uri": "https://localhost:8080/",
          "height": 424
        },
        "outputId": "3222c560-33bc-49ce-ee3f-eb759ea2e47e"
      },
      "source": [
        "dataq.drop(['index'],axis=1)"
      ],
      "execution_count": 35,
      "outputs": [
        {
          "output_type": "execute_result",
          "data": {
            "text/html": [
              "<div>\n",
              "<style scoped>\n",
              "    .dataframe tbody tr th:only-of-type {\n",
              "        vertical-align: middle;\n",
              "    }\n",
              "\n",
              "    .dataframe tbody tr th {\n",
              "        vertical-align: top;\n",
              "    }\n",
              "\n",
              "    .dataframe thead th {\n",
              "        text-align: right;\n",
              "    }\n",
              "</style>\n",
              "<table border=\"1\" class=\"dataframe\">\n",
              "  <thead>\n",
              "    <tr style=\"text-align: right;\">\n",
              "      <th></th>\n",
              "      <th>Price Date</th>\n",
              "      <th>Modal Price (Rs./Quintal)</th>\n",
              "    </tr>\n",
              "  </thead>\n",
              "  <tbody>\n",
              "    <tr>\n",
              "      <th>1860</th>\n",
              "      <td>01 Jan 2014</td>\n",
              "      <td>1680</td>\n",
              "    </tr>\n",
              "    <tr>\n",
              "      <th>1859</th>\n",
              "      <td>02 Jan 2014</td>\n",
              "      <td>1700</td>\n",
              "    </tr>\n",
              "    <tr>\n",
              "      <th>1858</th>\n",
              "      <td>03 Jan 2014</td>\n",
              "      <td>1700</td>\n",
              "    </tr>\n",
              "    <tr>\n",
              "      <th>1857</th>\n",
              "      <td>04 Jan 2014</td>\n",
              "      <td>1700</td>\n",
              "    </tr>\n",
              "    <tr>\n",
              "      <th>1856</th>\n",
              "      <td>06 Jan 2014</td>\n",
              "      <td>1600</td>\n",
              "    </tr>\n",
              "    <tr>\n",
              "      <th>...</th>\n",
              "      <td>...</td>\n",
              "      <td>...</td>\n",
              "    </tr>\n",
              "    <tr>\n",
              "      <th>4</th>\n",
              "      <td>09 Jul 2020</td>\n",
              "      <td>1400</td>\n",
              "    </tr>\n",
              "    <tr>\n",
              "      <th>3</th>\n",
              "      <td>10 Jul 2020</td>\n",
              "      <td>1500</td>\n",
              "    </tr>\n",
              "    <tr>\n",
              "      <th>2</th>\n",
              "      <td>11 Jul 2020</td>\n",
              "      <td>1500</td>\n",
              "    </tr>\n",
              "    <tr>\n",
              "      <th>1</th>\n",
              "      <td>13 Jul 2020</td>\n",
              "      <td>1500</td>\n",
              "    </tr>\n",
              "    <tr>\n",
              "      <th>0</th>\n",
              "      <td>14 Jul 2020</td>\n",
              "      <td>1550</td>\n",
              "    </tr>\n",
              "  </tbody>\n",
              "</table>\n",
              "<p>1861 rows × 2 columns</p>\n",
              "</div>"
            ],
            "text/plain": [
              "       Price Date  Modal Price (Rs./Quintal)\n",
              "1860  01 Jan 2014                       1680\n",
              "1859  02 Jan 2014                       1700\n",
              "1858  03 Jan 2014                       1700\n",
              "1857  04 Jan 2014                       1700\n",
              "1856  06 Jan 2014                       1600\n",
              "...           ...                        ...\n",
              "4     09 Jul 2020                       1400\n",
              "3     10 Jul 2020                       1500\n",
              "2     11 Jul 2020                       1500\n",
              "1     13 Jul 2020                       1500\n",
              "0     14 Jul 2020                       1550\n",
              "\n",
              "[1861 rows x 2 columns]"
            ]
          },
          "metadata": {
            "tags": []
          },
          "execution_count": 35
        }
      ]
    },
    {
      "cell_type": "code",
      "metadata": {
        "id": "SFf-FCuehNcI",
        "colab": {
          "base_uri": "https://localhost:8080/",
          "height": 455
        },
        "outputId": "ae7859b6-b1bf-451b-9be8-2fb5a117506b"
      },
      "source": [
        "hola=dataq.set_index('Price Date')\n",
        "hola"
      ],
      "execution_count": 36,
      "outputs": [
        {
          "output_type": "execute_result",
          "data": {
            "text/html": [
              "<div>\n",
              "<style scoped>\n",
              "    .dataframe tbody tr th:only-of-type {\n",
              "        vertical-align: middle;\n",
              "    }\n",
              "\n",
              "    .dataframe tbody tr th {\n",
              "        vertical-align: top;\n",
              "    }\n",
              "\n",
              "    .dataframe thead th {\n",
              "        text-align: right;\n",
              "    }\n",
              "</style>\n",
              "<table border=\"1\" class=\"dataframe\">\n",
              "  <thead>\n",
              "    <tr style=\"text-align: right;\">\n",
              "      <th></th>\n",
              "      <th>index</th>\n",
              "      <th>Modal Price (Rs./Quintal)</th>\n",
              "    </tr>\n",
              "    <tr>\n",
              "      <th>Price Date</th>\n",
              "      <th></th>\n",
              "      <th></th>\n",
              "    </tr>\n",
              "  </thead>\n",
              "  <tbody>\n",
              "    <tr>\n",
              "      <th>01 Jan 2014</th>\n",
              "      <td>1860</td>\n",
              "      <td>1680</td>\n",
              "    </tr>\n",
              "    <tr>\n",
              "      <th>02 Jan 2014</th>\n",
              "      <td>1859</td>\n",
              "      <td>1700</td>\n",
              "    </tr>\n",
              "    <tr>\n",
              "      <th>03 Jan 2014</th>\n",
              "      <td>1858</td>\n",
              "      <td>1700</td>\n",
              "    </tr>\n",
              "    <tr>\n",
              "      <th>04 Jan 2014</th>\n",
              "      <td>1857</td>\n",
              "      <td>1700</td>\n",
              "    </tr>\n",
              "    <tr>\n",
              "      <th>06 Jan 2014</th>\n",
              "      <td>1856</td>\n",
              "      <td>1600</td>\n",
              "    </tr>\n",
              "    <tr>\n",
              "      <th>...</th>\n",
              "      <td>...</td>\n",
              "      <td>...</td>\n",
              "    </tr>\n",
              "    <tr>\n",
              "      <th>09 Jul 2020</th>\n",
              "      <td>4</td>\n",
              "      <td>1400</td>\n",
              "    </tr>\n",
              "    <tr>\n",
              "      <th>10 Jul 2020</th>\n",
              "      <td>3</td>\n",
              "      <td>1500</td>\n",
              "    </tr>\n",
              "    <tr>\n",
              "      <th>11 Jul 2020</th>\n",
              "      <td>2</td>\n",
              "      <td>1500</td>\n",
              "    </tr>\n",
              "    <tr>\n",
              "      <th>13 Jul 2020</th>\n",
              "      <td>1</td>\n",
              "      <td>1500</td>\n",
              "    </tr>\n",
              "    <tr>\n",
              "      <th>14 Jul 2020</th>\n",
              "      <td>0</td>\n",
              "      <td>1550</td>\n",
              "    </tr>\n",
              "  </tbody>\n",
              "</table>\n",
              "<p>1861 rows × 2 columns</p>\n",
              "</div>"
            ],
            "text/plain": [
              "             index  Modal Price (Rs./Quintal)\n",
              "Price Date                                   \n",
              "01 Jan 2014   1860                       1680\n",
              "02 Jan 2014   1859                       1700\n",
              "03 Jan 2014   1858                       1700\n",
              "04 Jan 2014   1857                       1700\n",
              "06 Jan 2014   1856                       1600\n",
              "...            ...                        ...\n",
              "09 Jul 2020      4                       1400\n",
              "10 Jul 2020      3                       1500\n",
              "11 Jul 2020      2                       1500\n",
              "13 Jul 2020      1                       1500\n",
              "14 Jul 2020      0                       1550\n",
              "\n",
              "[1861 rows x 2 columns]"
            ]
          },
          "metadata": {
            "tags": []
          },
          "execution_count": 36
        }
      ]
    },
    {
      "cell_type": "code",
      "metadata": {
        "id": "5XcdnyuChNcI",
        "colab": {
          "base_uri": "https://localhost:8080/",
          "height": 455
        },
        "outputId": "097c65c6-37b6-4cd7-aa81-521ebafafd1d"
      },
      "source": [
        "datafix=hola.drop(['index'], axis=1)\n",
        "datafix"
      ],
      "execution_count": 37,
      "outputs": [
        {
          "output_type": "execute_result",
          "data": {
            "text/html": [
              "<div>\n",
              "<style scoped>\n",
              "    .dataframe tbody tr th:only-of-type {\n",
              "        vertical-align: middle;\n",
              "    }\n",
              "\n",
              "    .dataframe tbody tr th {\n",
              "        vertical-align: top;\n",
              "    }\n",
              "\n",
              "    .dataframe thead th {\n",
              "        text-align: right;\n",
              "    }\n",
              "</style>\n",
              "<table border=\"1\" class=\"dataframe\">\n",
              "  <thead>\n",
              "    <tr style=\"text-align: right;\">\n",
              "      <th></th>\n",
              "      <th>Modal Price (Rs./Quintal)</th>\n",
              "    </tr>\n",
              "    <tr>\n",
              "      <th>Price Date</th>\n",
              "      <th></th>\n",
              "    </tr>\n",
              "  </thead>\n",
              "  <tbody>\n",
              "    <tr>\n",
              "      <th>01 Jan 2014</th>\n",
              "      <td>1680</td>\n",
              "    </tr>\n",
              "    <tr>\n",
              "      <th>02 Jan 2014</th>\n",
              "      <td>1700</td>\n",
              "    </tr>\n",
              "    <tr>\n",
              "      <th>03 Jan 2014</th>\n",
              "      <td>1700</td>\n",
              "    </tr>\n",
              "    <tr>\n",
              "      <th>04 Jan 2014</th>\n",
              "      <td>1700</td>\n",
              "    </tr>\n",
              "    <tr>\n",
              "      <th>06 Jan 2014</th>\n",
              "      <td>1600</td>\n",
              "    </tr>\n",
              "    <tr>\n",
              "      <th>...</th>\n",
              "      <td>...</td>\n",
              "    </tr>\n",
              "    <tr>\n",
              "      <th>09 Jul 2020</th>\n",
              "      <td>1400</td>\n",
              "    </tr>\n",
              "    <tr>\n",
              "      <th>10 Jul 2020</th>\n",
              "      <td>1500</td>\n",
              "    </tr>\n",
              "    <tr>\n",
              "      <th>11 Jul 2020</th>\n",
              "      <td>1500</td>\n",
              "    </tr>\n",
              "    <tr>\n",
              "      <th>13 Jul 2020</th>\n",
              "      <td>1500</td>\n",
              "    </tr>\n",
              "    <tr>\n",
              "      <th>14 Jul 2020</th>\n",
              "      <td>1550</td>\n",
              "    </tr>\n",
              "  </tbody>\n",
              "</table>\n",
              "<p>1861 rows × 1 columns</p>\n",
              "</div>"
            ],
            "text/plain": [
              "             Modal Price (Rs./Quintal)\n",
              "Price Date                            \n",
              "01 Jan 2014                       1680\n",
              "02 Jan 2014                       1700\n",
              "03 Jan 2014                       1700\n",
              "04 Jan 2014                       1700\n",
              "06 Jan 2014                       1600\n",
              "...                                ...\n",
              "09 Jul 2020                       1400\n",
              "10 Jul 2020                       1500\n",
              "11 Jul 2020                       1500\n",
              "13 Jul 2020                       1500\n",
              "14 Jul 2020                       1550\n",
              "\n",
              "[1861 rows x 1 columns]"
            ]
          },
          "metadata": {
            "tags": []
          },
          "execution_count": 37
        }
      ]
    },
    {
      "cell_type": "code",
      "metadata": {
        "id": "opIvOXDOhNcI",
        "colab": {
          "base_uri": "https://localhost:8080/",
          "height": 300
        },
        "outputId": "102c3cce-1c33-4e94-8e57-f6f9ec1653cf"
      },
      "source": [
        "datafix.describe()"
      ],
      "execution_count": 38,
      "outputs": [
        {
          "output_type": "execute_result",
          "data": {
            "text/html": [
              "<div>\n",
              "<style scoped>\n",
              "    .dataframe tbody tr th:only-of-type {\n",
              "        vertical-align: middle;\n",
              "    }\n",
              "\n",
              "    .dataframe tbody tr th {\n",
              "        vertical-align: top;\n",
              "    }\n",
              "\n",
              "    .dataframe thead th {\n",
              "        text-align: right;\n",
              "    }\n",
              "</style>\n",
              "<table border=\"1\" class=\"dataframe\">\n",
              "  <thead>\n",
              "    <tr style=\"text-align: right;\">\n",
              "      <th></th>\n",
              "      <th>Modal Price (Rs./Quintal)</th>\n",
              "    </tr>\n",
              "  </thead>\n",
              "  <tbody>\n",
              "    <tr>\n",
              "      <th>count</th>\n",
              "      <td>1861.000000</td>\n",
              "    </tr>\n",
              "    <tr>\n",
              "      <th>mean</th>\n",
              "      <td>1319.111768</td>\n",
              "    </tr>\n",
              "    <tr>\n",
              "      <th>std</th>\n",
              "      <td>320.037151</td>\n",
              "    </tr>\n",
              "    <tr>\n",
              "      <th>min</th>\n",
              "      <td>650.000000</td>\n",
              "    </tr>\n",
              "    <tr>\n",
              "      <th>25%</th>\n",
              "      <td>1080.000000</td>\n",
              "    </tr>\n",
              "    <tr>\n",
              "      <th>50%</th>\n",
              "      <td>1283.000000</td>\n",
              "    </tr>\n",
              "    <tr>\n",
              "      <th>75%</th>\n",
              "      <td>1500.000000</td>\n",
              "    </tr>\n",
              "    <tr>\n",
              "      <th>max</th>\n",
              "      <td>2275.000000</td>\n",
              "    </tr>\n",
              "  </tbody>\n",
              "</table>\n",
              "</div>"
            ],
            "text/plain": [
              "       Modal Price (Rs./Quintal)\n",
              "count                1861.000000\n",
              "mean                 1319.111768\n",
              "std                   320.037151\n",
              "min                   650.000000\n",
              "25%                  1080.000000\n",
              "50%                  1283.000000\n",
              "75%                  1500.000000\n",
              "max                  2275.000000"
            ]
          },
          "metadata": {
            "tags": []
          },
          "execution_count": 38
        }
      ]
    },
    {
      "cell_type": "code",
      "metadata": {
        "id": "HPJ7pGMPhNcJ",
        "colab": {
          "base_uri": "https://localhost:8080/",
          "height": 515
        },
        "outputId": "fbbd1c76-702f-473c-e7f9-1a746ca725e6"
      },
      "source": [
        "datafix.plot(figsize=(15,8))"
      ],
      "execution_count": 39,
      "outputs": [
        {
          "output_type": "execute_result",
          "data": {
            "text/plain": [
              "<matplotlib.axes._subplots.AxesSubplot at 0x7f5d3beeedd8>"
            ]
          },
          "metadata": {
            "tags": []
          },
          "execution_count": 39
        },
        {
          "output_type": "display_data",
          "data": {
            "image/png": "[encoded data removed]",
            "text/plain": [
              "<Figure size 1080x576 with 1 Axes>"
            ]
          },
          "metadata": {
            "tags": [],
            "needs_background": "light"
          }
        }
      ]
    },
    {
      "cell_type": "code",
      "metadata": {
        "id": "SQlbZ6a4hNcJ",
        "colab": {
          "base_uri": "https://localhost:8080/",
          "height": 424
        },
        "outputId": "6a1b0e5e-7990-41f3-d93e-bc15335df361"
      },
      "source": [
        "datafix.reset_index(level=0, inplace=True)\n",
        "datafix"
      ],
      "execution_count": 40,
      "outputs": [
        {
          "output_type": "execute_result",
          "data": {
            "text/html": [
              "<div>\n",
              "<style scoped>\n",
              "    .dataframe tbody tr th:only-of-type {\n",
              "        vertical-align: middle;\n",
              "    }\n",
              "\n",
              "    .dataframe tbody tr th {\n",
              "        vertical-align: top;\n",
              "    }\n",
              "\n",
              "    .dataframe thead th {\n",
              "        text-align: right;\n",
              "    }\n",
              "</style>\n",
              "<table border=\"1\" class=\"dataframe\">\n",
              "  <thead>\n",
              "    <tr style=\"text-align: right;\">\n",
              "      <th></th>\n",
              "      <th>Price Date</th>\n",
              "      <th>Modal Price (Rs./Quintal)</th>\n",
              "    </tr>\n",
              "  </thead>\n",
              "  <tbody>\n",
              "    <tr>\n",
              "      <th>0</th>\n",
              "      <td>01 Jan 2014</td>\n",
              "      <td>1680</td>\n",
              "    </tr>\n",
              "    <tr>\n",
              "      <th>1</th>\n",
              "      <td>02 Jan 2014</td>\n",
              "      <td>1700</td>\n",
              "    </tr>\n",
              "    <tr>\n",
              "      <th>2</th>\n",
              "      <td>03 Jan 2014</td>\n",
              "      <td>1700</td>\n",
              "    </tr>\n",
              "    <tr>\n",
              "      <th>3</th>\n",
              "      <td>04 Jan 2014</td>\n",
              "      <td>1700</td>\n",
              "    </tr>\n",
              "    <tr>\n",
              "      <th>4</th>\n",
              "      <td>06 Jan 2014</td>\n",
              "      <td>1600</td>\n",
              "    </tr>\n",
              "    <tr>\n",
              "      <th>...</th>\n",
              "      <td>...</td>\n",
              "      <td>...</td>\n",
              "    </tr>\n",
              "    <tr>\n",
              "      <th>1856</th>\n",
              "      <td>09 Jul 2020</td>\n",
              "      <td>1400</td>\n",
              "    </tr>\n",
              "    <tr>\n",
              "      <th>1857</th>\n",
              "      <td>10 Jul 2020</td>\n",
              "      <td>1500</td>\n",
              "    </tr>\n",
              "    <tr>\n",
              "      <th>1858</th>\n",
              "      <td>11 Jul 2020</td>\n",
              "      <td>1500</td>\n",
              "    </tr>\n",
              "    <tr>\n",
              "      <th>1859</th>\n",
              "      <td>13 Jul 2020</td>\n",
              "      <td>1500</td>\n",
              "    </tr>\n",
              "    <tr>\n",
              "      <th>1860</th>\n",
              "      <td>14 Jul 2020</td>\n",
              "      <td>1550</td>\n",
              "    </tr>\n",
              "  </tbody>\n",
              "</table>\n",
              "<p>1861 rows × 2 columns</p>\n",
              "</div>"
            ],
            "text/plain": [
              "       Price Date  Modal Price (Rs./Quintal)\n",
              "0     01 Jan 2014                       1680\n",
              "1     02 Jan 2014                       1700\n",
              "2     03 Jan 2014                       1700\n",
              "3     04 Jan 2014                       1700\n",
              "4     06 Jan 2014                       1600\n",
              "...           ...                        ...\n",
              "1856  09 Jul 2020                       1400\n",
              "1857  10 Jul 2020                       1500\n",
              "1858  11 Jul 2020                       1500\n",
              "1859  13 Jul 2020                       1500\n",
              "1860  14 Jul 2020                       1550\n",
              "\n",
              "[1861 rows x 2 columns]"
            ]
          },
          "metadata": {
            "tags": []
          },
          "execution_count": 40
        }
      ]
    },
    {
      "cell_type": "code",
      "metadata": {
        "id": "dpsHWlIIhNcJ",
        "colab": {
          "base_uri": "https://localhost:8080/"
        },
        "outputId": "31649107-745d-4eee-a14f-5367002d6b0c"
      },
      "source": [
        "datafix.columns"
      ],
      "execution_count": 41,
      "outputs": [
        {
          "output_type": "execute_result",
          "data": {
            "text/plain": [
              "Index(['Price Date', 'Modal Price (Rs./Quintal)'], dtype='object')"
            ]
          },
          "metadata": {
            "tags": []
          },
          "execution_count": 41
        }
      ]
    },
    {
      "cell_type": "code",
      "metadata": {
        "id": "A3iXpotwhNcJ"
      },
      "source": [
        "datafix.rename(columns = {'Price Date':'ds','Modal Price (Rs./Quintal)':'y'},inplace = True)"
      ],
      "execution_count": 42,
      "outputs": []
    },
    {
      "cell_type": "code",
      "metadata": {
        "id": "cCLG33ejhNcJ",
        "colab": {
          "base_uri": "https://localhost:8080/",
          "height": 424
        },
        "outputId": "19b0bcda-64d6-4c71-aaac-ebc95a3df320"
      },
      "source": [
        "datafix"
      ],
      "execution_count": 43,
      "outputs": [
        {
          "output_type": "execute_result",
          "data": {
            "text/html": [
              "<div>\n",
              "<style scoped>\n",
              "    .dataframe tbody tr th:only-of-type {\n",
              "        vertical-align: middle;\n",
              "    }\n",
              "\n",
              "    .dataframe tbody tr th {\n",
              "        vertical-align: top;\n",
              "    }\n",
              "\n",
              "    .dataframe thead th {\n",
              "        text-align: right;\n",
              "    }\n",
              "</style>\n",
              "<table border=\"1\" class=\"dataframe\">\n",
              "  <thead>\n",
              "    <tr style=\"text-align: right;\">\n",
              "      <th></th>\n",
              "      <th>ds</th>\n",
              "      <th>y</th>\n",
              "    </tr>\n",
              "  </thead>\n",
              "  <tbody>\n",
              "    <tr>\n",
              "      <th>0</th>\n",
              "      <td>01 Jan 2014</td>\n",
              "      <td>1680</td>\n",
              "    </tr>\n",
              "    <tr>\n",
              "      <th>1</th>\n",
              "      <td>02 Jan 2014</td>\n",
              "      <td>1700</td>\n",
              "    </tr>\n",
              "    <tr>\n",
              "      <th>2</th>\n",
              "      <td>03 Jan 2014</td>\n",
              "      <td>1700</td>\n",
              "    </tr>\n",
              "    <tr>\n",
              "      <th>3</th>\n",
              "      <td>04 Jan 2014</td>\n",
              "      <td>1700</td>\n",
              "    </tr>\n",
              "    <tr>\n",
              "      <th>4</th>\n",
              "      <td>06 Jan 2014</td>\n",
              "      <td>1600</td>\n",
              "    </tr>\n",
              "    <tr>\n",
              "      <th>...</th>\n",
              "      <td>...</td>\n",
              "      <td>...</td>\n",
              "    </tr>\n",
              "    <tr>\n",
              "      <th>1856</th>\n",
              "      <td>09 Jul 2020</td>\n",
              "      <td>1400</td>\n",
              "    </tr>\n",
              "    <tr>\n",
              "      <th>1857</th>\n",
              "      <td>10 Jul 2020</td>\n",
              "      <td>1500</td>\n",
              "    </tr>\n",
              "    <tr>\n",
              "      <th>1858</th>\n",
              "      <td>11 Jul 2020</td>\n",
              "      <td>1500</td>\n",
              "    </tr>\n",
              "    <tr>\n",
              "      <th>1859</th>\n",
              "      <td>13 Jul 2020</td>\n",
              "      <td>1500</td>\n",
              "    </tr>\n",
              "    <tr>\n",
              "      <th>1860</th>\n",
              "      <td>14 Jul 2020</td>\n",
              "      <td>1550</td>\n",
              "    </tr>\n",
              "  </tbody>\n",
              "</table>\n",
              "<p>1861 rows × 2 columns</p>\n",
              "</div>"
            ],
            "text/plain": [
              "               ds     y\n",
              "0     01 Jan 2014  1680\n",
              "1     02 Jan 2014  1700\n",
              "2     03 Jan 2014  1700\n",
              "3     04 Jan 2014  1700\n",
              "4     06 Jan 2014  1600\n",
              "...           ...   ...\n",
              "1856  09 Jul 2020  1400\n",
              "1857  10 Jul 2020  1500\n",
              "1858  11 Jul 2020  1500\n",
              "1859  13 Jul 2020  1500\n",
              "1860  14 Jul 2020  1550\n",
              "\n",
              "[1861 rows x 2 columns]"
            ]
          },
          "metadata": {
            "tags": []
          },
          "execution_count": 43
        }
      ]
    },
    {
      "cell_type": "code",
      "metadata": {
        "id": "4YKfz4eghNcJ",
        "colab": {
          "base_uri": "https://localhost:8080/"
        },
        "outputId": "55499ee1-f133-46df-d609-6fa02ff63394"
      },
      "source": [
        "model=Prophet()\n",
        "model.fit(datafix)\n",
        "future=model.make_future_dataframe(periods=10,freq='d')"
      ],
      "execution_count": 44,
      "outputs": [
        {
          "output_type": "stream",
          "text": [
            "INFO:numexpr.utils:NumExpr defaulting to 2 threads.\n",
            "INFO:fbprophet:Disabling daily seasonality. Run prophet with daily_seasonality=True to override this.\n"
          ],
          "name": "stderr"
        }
      ]
    },
    {
      "cell_type": "code",
      "metadata": {
        "id": "ImtR2ENMhNcJ",
        "colab": {
          "base_uri": "https://localhost:8080/",
          "height": 424
        },
        "outputId": "1a0a70c4-19a3-4138-90f5-8b46e39b3676"
      },
      "source": [
        "future"
      ],
      "execution_count": 45,
      "outputs": [
        {
          "output_type": "execute_result",
          "data": {
            "text/html": [
              "<div>\n",
              "<style scoped>\n",
              "    .dataframe tbody tr th:only-of-type {\n",
              "        vertical-align: middle;\n",
              "    }\n",
              "\n",
              "    .dataframe tbody tr th {\n",
              "        vertical-align: top;\n",
              "    }\n",
              "\n",
              "    .dataframe thead th {\n",
              "        text-align: right;\n",
              "    }\n",
              "</style>\n",
              "<table border=\"1\" class=\"dataframe\">\n",
              "  <thead>\n",
              "    <tr style=\"text-align: right;\">\n",
              "      <th></th>\n",
              "      <th>ds</th>\n",
              "    </tr>\n",
              "  </thead>\n",
              "  <tbody>\n",
              "    <tr>\n",
              "      <th>0</th>\n",
              "      <td>2014-01-01</td>\n",
              "    </tr>\n",
              "    <tr>\n",
              "      <th>1</th>\n",
              "      <td>2014-01-02</td>\n",
              "    </tr>\n",
              "    <tr>\n",
              "      <th>2</th>\n",
              "      <td>2014-01-03</td>\n",
              "    </tr>\n",
              "    <tr>\n",
              "      <th>3</th>\n",
              "      <td>2014-01-04</td>\n",
              "    </tr>\n",
              "    <tr>\n",
              "      <th>4</th>\n",
              "      <td>2014-01-06</td>\n",
              "    </tr>\n",
              "    <tr>\n",
              "      <th>...</th>\n",
              "      <td>...</td>\n",
              "    </tr>\n",
              "    <tr>\n",
              "      <th>1841</th>\n",
              "      <td>2020-07-20</td>\n",
              "    </tr>\n",
              "    <tr>\n",
              "      <th>1842</th>\n",
              "      <td>2020-07-21</td>\n",
              "    </tr>\n",
              "    <tr>\n",
              "      <th>1843</th>\n",
              "      <td>2020-07-22</td>\n",
              "    </tr>\n",
              "    <tr>\n",
              "      <th>1844</th>\n",
              "      <td>2020-07-23</td>\n",
              "    </tr>\n",
              "    <tr>\n",
              "      <th>1845</th>\n",
              "      <td>2020-07-24</td>\n",
              "    </tr>\n",
              "  </tbody>\n",
              "</table>\n",
              "<p>1846 rows × 1 columns</p>\n",
              "</div>"
            ],
            "text/plain": [
              "             ds\n",
              "0    2014-01-01\n",
              "1    2014-01-02\n",
              "2    2014-01-03\n",
              "3    2014-01-04\n",
              "4    2014-01-06\n",
              "...         ...\n",
              "1841 2020-07-20\n",
              "1842 2020-07-21\n",
              "1843 2020-07-22\n",
              "1844 2020-07-23\n",
              "1845 2020-07-24\n",
              "\n",
              "[1846 rows x 1 columns]"
            ]
          },
          "metadata": {
            "tags": []
          },
          "execution_count": 45
        }
      ]
    },
    {
      "cell_type": "code",
      "metadata": {
        "id": "JUUY9K2xhNcK",
        "colab": {
          "base_uri": "https://localhost:8080/",
          "height": 415
        },
        "outputId": "ed0fde28-072a-4881-8c97-db6dc1823839"
      },
      "source": [
        "forecast = model.predict(future)\n",
        "forecast.tail(11)"
      ],
      "execution_count": 46,
      "outputs": [
        {
          "output_type": "execute_result",
          "data": {
            "text/html": [
              "<div>\n",
              "<style scoped>\n",
              "    .dataframe tbody tr th:only-of-type {\n",
              "        vertical-align: middle;\n",
              "    }\n",
              "\n",
              "    .dataframe tbody tr th {\n",
              "        vertical-align: top;\n",
              "    }\n",
              "\n",
              "    .dataframe thead th {\n",
              "        text-align: right;\n",
              "    }\n",
              "</style>\n",
              "<table border=\"1\" class=\"dataframe\">\n",
              "  <thead>\n",
              "    <tr style=\"text-align: right;\">\n",
              "      <th></th>\n",
              "      <th>ds</th>\n",
              "      <th>trend</th>\n",
              "      <th>yhat_lower</th>\n",
              "      <th>yhat_upper</th>\n",
              "      <th>trend_lower</th>\n",
              "      <th>trend_upper</th>\n",
              "      <th>additive_terms</th>\n",
              "      <th>additive_terms_lower</th>\n",
              "      <th>additive_terms_upper</th>\n",
              "      <th>weekly</th>\n",
              "      <th>weekly_lower</th>\n",
              "      <th>weekly_upper</th>\n",
              "      <th>yearly</th>\n",
              "      <th>yearly_lower</th>\n",
              "      <th>yearly_upper</th>\n",
              "      <th>multiplicative_terms</th>\n",
              "      <th>multiplicative_terms_lower</th>\n",
              "      <th>multiplicative_terms_upper</th>\n",
              "      <th>yhat</th>\n",
              "    </tr>\n",
              "  </thead>\n",
              "  <tbody>\n",
              "    <tr>\n",
              "      <th>1835</th>\n",
              "      <td>2020-07-14</td>\n",
              "      <td>1679.273950</td>\n",
              "      <td>1360.165559</td>\n",
              "      <td>2006.021749</td>\n",
              "      <td>1679.273950</td>\n",
              "      <td>1679.273950</td>\n",
              "      <td>3.202946</td>\n",
              "      <td>3.202946</td>\n",
              "      <td>3.202946</td>\n",
              "      <td>23.400214</td>\n",
              "      <td>23.400214</td>\n",
              "      <td>23.400214</td>\n",
              "      <td>-20.197268</td>\n",
              "      <td>-20.197268</td>\n",
              "      <td>-20.197268</td>\n",
              "      <td>0.0</td>\n",
              "      <td>0.0</td>\n",
              "      <td>0.0</td>\n",
              "      <td>1682.476896</td>\n",
              "    </tr>\n",
              "    <tr>\n",
              "      <th>1836</th>\n",
              "      <td>2020-07-15</td>\n",
              "      <td>1680.467677</td>\n",
              "      <td>1394.530724</td>\n",
              "      <td>2007.621668</td>\n",
              "      <td>1680.467677</td>\n",
              "      <td>1680.467677</td>\n",
              "      <td>7.145471</td>\n",
              "      <td>7.145471</td>\n",
              "      <td>7.145471</td>\n",
              "      <td>22.345068</td>\n",
              "      <td>22.345068</td>\n",
              "      <td>22.345068</td>\n",
              "      <td>-15.199597</td>\n",
              "      <td>-15.199597</td>\n",
              "      <td>-15.199597</td>\n",
              "      <td>0.0</td>\n",
              "      <td>0.0</td>\n",
              "      <td>0.0</td>\n",
              "      <td>1687.613148</td>\n",
              "    </tr>\n",
              "    <tr>\n",
              "      <th>1837</th>\n",
              "      <td>2020-07-16</td>\n",
              "      <td>1681.661404</td>\n",
              "      <td>1369.695334</td>\n",
              "      <td>2014.357458</td>\n",
              "      <td>1681.661404</td>\n",
              "      <td>1681.661404</td>\n",
              "      <td>29.486197</td>\n",
              "      <td>29.486197</td>\n",
              "      <td>29.486197</td>\n",
              "      <td>39.284781</td>\n",
              "      <td>39.284781</td>\n",
              "      <td>39.284781</td>\n",
              "      <td>-9.798585</td>\n",
              "      <td>-9.798585</td>\n",
              "      <td>-9.798585</td>\n",
              "      <td>0.0</td>\n",
              "      <td>0.0</td>\n",
              "      <td>0.0</td>\n",
              "      <td>1711.147601</td>\n",
              "    </tr>\n",
              "    <tr>\n",
              "      <th>1838</th>\n",
              "      <td>2020-07-17</td>\n",
              "      <td>1682.855131</td>\n",
              "      <td>1430.571228</td>\n",
              "      <td>2035.288665</td>\n",
              "      <td>1682.855131</td>\n",
              "      <td>1682.855131</td>\n",
              "      <td>32.210419</td>\n",
              "      <td>32.210419</td>\n",
              "      <td>32.210419</td>\n",
              "      <td>36.223640</td>\n",
              "      <td>36.223640</td>\n",
              "      <td>36.223640</td>\n",
              "      <td>-4.013221</td>\n",
              "      <td>-4.013221</td>\n",
              "      <td>-4.013221</td>\n",
              "      <td>0.0</td>\n",
              "      <td>0.0</td>\n",
              "      <td>0.0</td>\n",
              "      <td>1715.065550</td>\n",
              "    </tr>\n",
              "    <tr>\n",
              "      <th>1839</th>\n",
              "      <td>2020-07-18</td>\n",
              "      <td>1684.048859</td>\n",
              "      <td>1366.368659</td>\n",
              "      <td>2020.635813</td>\n",
              "      <td>1684.048859</td>\n",
              "      <td>1684.048859</td>\n",
              "      <td>29.719176</td>\n",
              "      <td>29.719176</td>\n",
              "      <td>29.719176</td>\n",
              "      <td>27.589952</td>\n",
              "      <td>27.589952</td>\n",
              "      <td>27.589952</td>\n",
              "      <td>2.129223</td>\n",
              "      <td>2.129223</td>\n",
              "      <td>2.129223</td>\n",
              "      <td>0.0</td>\n",
              "      <td>0.0</td>\n",
              "      <td>0.0</td>\n",
              "      <td>1713.768034</td>\n",
              "    </tr>\n",
              "    <tr>\n",
              "      <th>1840</th>\n",
              "      <td>2020-07-19</td>\n",
              "      <td>1685.242586</td>\n",
              "      <td>1199.763893</td>\n",
              "      <td>1835.739647</td>\n",
              "      <td>1685.242586</td>\n",
              "      <td>1685.242586</td>\n",
              "      <td>-163.459364</td>\n",
              "      <td>-163.459364</td>\n",
              "      <td>-163.459364</td>\n",
              "      <td>-172.053102</td>\n",
              "      <td>-172.053102</td>\n",
              "      <td>-172.053102</td>\n",
              "      <td>8.593738</td>\n",
              "      <td>8.593738</td>\n",
              "      <td>8.593738</td>\n",
              "      <td>0.0</td>\n",
              "      <td>0.0</td>\n",
              "      <td>0.0</td>\n",
              "      <td>1521.783222</td>\n",
              "    </tr>\n",
              "    <tr>\n",
              "      <th>1841</th>\n",
              "      <td>2020-07-20</td>\n",
              "      <td>1686.436313</td>\n",
              "      <td>1416.680863</td>\n",
              "      <td>2053.369749</td>\n",
              "      <td>1686.436313</td>\n",
              "      <td>1686.436313</td>\n",
              "      <td>38.547683</td>\n",
              "      <td>38.547683</td>\n",
              "      <td>38.547683</td>\n",
              "      <td>23.209447</td>\n",
              "      <td>23.209447</td>\n",
              "      <td>23.209447</td>\n",
              "      <td>15.338236</td>\n",
              "      <td>15.338236</td>\n",
              "      <td>15.338236</td>\n",
              "      <td>0.0</td>\n",
              "      <td>0.0</td>\n",
              "      <td>0.0</td>\n",
              "      <td>1724.983995</td>\n",
              "    </tr>\n",
              "    <tr>\n",
              "      <th>1842</th>\n",
              "      <td>2020-07-21</td>\n",
              "      <td>1687.630040</td>\n",
              "      <td>1390.744448</td>\n",
              "      <td>2045.489266</td>\n",
              "      <td>1687.630040</td>\n",
              "      <td>1687.630040</td>\n",
              "      <td>45.714556</td>\n",
              "      <td>45.714556</td>\n",
              "      <td>45.714556</td>\n",
              "      <td>23.400214</td>\n",
              "      <td>23.400214</td>\n",
              "      <td>23.400214</td>\n",
              "      <td>22.314342</td>\n",
              "      <td>22.314342</td>\n",
              "      <td>22.314342</td>\n",
              "      <td>0.0</td>\n",
              "      <td>0.0</td>\n",
              "      <td>0.0</td>\n",
              "      <td>1733.344596</td>\n",
              "    </tr>\n",
              "    <tr>\n",
              "      <th>1843</th>\n",
              "      <td>2020-07-22</td>\n",
              "      <td>1688.823767</td>\n",
              "      <td>1429.391326</td>\n",
              "      <td>2065.049974</td>\n",
              "      <td>1688.823767</td>\n",
              "      <td>1688.823767</td>\n",
              "      <td>51.813344</td>\n",
              "      <td>51.813344</td>\n",
              "      <td>51.813344</td>\n",
              "      <td>22.345068</td>\n",
              "      <td>22.345068</td>\n",
              "      <td>22.345068</td>\n",
              "      <td>29.468276</td>\n",
              "      <td>29.468276</td>\n",
              "      <td>29.468276</td>\n",
              "      <td>0.0</td>\n",
              "      <td>0.0</td>\n",
              "      <td>0.0</td>\n",
              "      <td>1740.637111</td>\n",
              "    </tr>\n",
              "    <tr>\n",
              "      <th>1844</th>\n",
              "      <td>2020-07-23</td>\n",
              "      <td>1690.017494</td>\n",
              "      <td>1436.959074</td>\n",
              "      <td>2062.595983</td>\n",
              "      <td>1690.017494</td>\n",
              "      <td>1690.017494</td>\n",
              "      <td>76.026597</td>\n",
              "      <td>76.026597</td>\n",
              "      <td>76.026597</td>\n",
              "      <td>39.284781</td>\n",
              "      <td>39.284781</td>\n",
              "      <td>39.284781</td>\n",
              "      <td>36.741815</td>\n",
              "      <td>36.741815</td>\n",
              "      <td>36.741815</td>\n",
              "      <td>0.0</td>\n",
              "      <td>0.0</td>\n",
              "      <td>0.0</td>\n",
              "      <td>1766.044091</td>\n",
              "    </tr>\n",
              "    <tr>\n",
              "      <th>1845</th>\n",
              "      <td>2020-07-24</td>\n",
              "      <td>1691.211221</td>\n",
              "      <td>1426.620914</td>\n",
              "      <td>2116.351732</td>\n",
              "      <td>1691.211221</td>\n",
              "      <td>1691.211221</td>\n",
              "      <td>80.296961</td>\n",
              "      <td>80.296961</td>\n",
              "      <td>80.296961</td>\n",
              "      <td>36.223640</td>\n",
              "      <td>36.223640</td>\n",
              "      <td>36.223640</td>\n",
              "      <td>44.073321</td>\n",
              "      <td>44.073321</td>\n",
              "      <td>44.073321</td>\n",
              "      <td>0.0</td>\n",
              "      <td>0.0</td>\n",
              "      <td>0.0</td>\n",
              "      <td>1771.508183</td>\n",
              "    </tr>\n",
              "  </tbody>\n",
              "</table>\n",
              "</div>"
            ],
            "text/plain": [
              "             ds        trend  ...  multiplicative_terms_upper         yhat\n",
              "1835 2020-07-14  1679.273950  ...                         0.0  1682.476896\n",
              "1836 2020-07-15  1680.467677  ...                         0.0  1687.613148\n",
              "1837 2020-07-16  1681.661404  ...                         0.0  1711.147601\n",
              "1838 2020-07-17  1682.855131  ...                         0.0  1715.065550\n",
              "1839 2020-07-18  1684.048859  ...                         0.0  1713.768034\n",
              "1840 2020-07-19  1685.242586  ...                         0.0  1521.783222\n",
              "1841 2020-07-20  1686.436313  ...                         0.0  1724.983995\n",
              "1842 2020-07-21  1687.630040  ...                         0.0  1733.344596\n",
              "1843 2020-07-22  1688.823767  ...                         0.0  1740.637111\n",
              "1844 2020-07-23  1690.017494  ...                         0.0  1766.044091\n",
              "1845 2020-07-24  1691.211221  ...                         0.0  1771.508183\n",
              "\n",
              "[11 rows x 19 columns]"
            ]
          },
          "metadata": {
            "tags": []
          },
          "execution_count": 46
        }
      ]
    },
    {
      "cell_type": "code",
      "metadata": {
        "id": "OdUMyxqohNcK",
        "colab": {
          "base_uri": "https://localhost:8080/",
          "height": 441
        },
        "outputId": "6ee81bf1-2a98-4992-d6fe-85ab5ff375f5"
      },
      "source": [
        "fig1 = model.plot(forecast)"
      ],
      "execution_count": 47,
      "outputs": [
        {
          "output_type": "display_data",
          "data": {
            "image/png": "[encoded data removed]",
            "text/plain": [
              "<Figure size 720x432 with 1 Axes>"
            ]
          },
          "metadata": {
            "tags": []
          }
        }
      ]
    },
    {
      "cell_type": "code",
      "metadata": {
        "id": "sN2xnf24hNcK",
        "colab": {
          "base_uri": "https://localhost:8080/",
          "height": 657
        },
        "outputId": "d81b9b08-5df8-41f8-8524-02856fa86dd3"
      },
      "source": [
        "fig2 = model.plot_components(forecast)"
      ],
      "execution_count": 48,
      "outputs": [
        {
          "output_type": "display_data",
          "data": {
            "image/png": "[encoded data removed]",
            "text/plain": [
              "<Figure size 648x648 with 3 Axes>"
            ]
          },
          "metadata": {
            "tags": []
          }
        }
      ]
    },
    {
      "cell_type": "code",
      "metadata": {
        "id": "4fNY80BchNcK",
        "colab": {
          "base_uri": "https://localhost:8080/"
        },
        "outputId": "37696354-0f49-4f15-dd4e-37d794b0caf1"
      },
      "source": [
        "forecast.columns"
      ],
      "execution_count": 49,
      "outputs": [
        {
          "output_type": "execute_result",
          "data": {
            "text/plain": [
              "Index(['ds', 'trend', 'yhat_lower', 'yhat_upper', 'trend_lower', 'trend_upper',\n",
              "       'additive_terms', 'additive_terms_lower', 'additive_terms_upper',\n",
              "       'weekly', 'weekly_lower', 'weekly_upper', 'yearly', 'yearly_lower',\n",
              "       'yearly_upper', 'multiplicative_terms', 'multiplicative_terms_lower',\n",
              "       'multiplicative_terms_upper', 'yhat'],\n",
              "      dtype='object')"
            ]
          },
          "metadata": {
            "tags": []
          },
          "execution_count": 49
        }
      ]
    },
    {
      "cell_type": "code",
      "metadata": {
        "id": "vIaifodphNcL"
      },
      "source": [
        "ab=forecast.drop(['trend', 'yhat_lower', 'yhat_upper', 'trend_lower', 'trend_upper',\n",
        "       'additive_terms', 'additive_terms_lower', 'additive_terms_upper',\n",
        "       'weekly', 'weekly_lower', 'weekly_upper', 'yearly', 'yearly_lower',\n",
        "       'yearly_upper', 'multiplicative_terms', 'multiplicative_terms_lower',\n",
        "       'multiplicative_terms_upper'],axis=1)"
      ],
      "execution_count": 50,
      "outputs": []
    },
    {
      "cell_type": "code",
      "metadata": {
        "id": "xlpFe8TohNcL",
        "colab": {
          "base_uri": "https://localhost:8080/",
          "height": 424
        },
        "outputId": "8b416ba7-f20a-437b-fb4d-6aa3a1e9f53d"
      },
      "source": [
        "ab"
      ],
      "execution_count": 51,
      "outputs": [
        {
          "output_type": "execute_result",
          "data": {
            "text/html": [
              "<div>\n",
              "<style scoped>\n",
              "    .dataframe tbody tr th:only-of-type {\n",
              "        vertical-align: middle;\n",
              "    }\n",
              "\n",
              "    .dataframe tbody tr th {\n",
              "        vertical-align: top;\n",
              "    }\n",
              "\n",
              "    .dataframe thead th {\n",
              "        text-align: right;\n",
              "    }\n",
              "</style>\n",
              "<table border=\"1\" class=\"dataframe\">\n",
              "  <thead>\n",
              "    <tr style=\"text-align: right;\">\n",
              "      <th></th>\n",
              "      <th>ds</th>\n",
              "      <th>yhat</th>\n",
              "    </tr>\n",
              "  </thead>\n",
              "  <tbody>\n",
              "    <tr>\n",
              "      <th>0</th>\n",
              "      <td>2014-01-01</td>\n",
              "      <td>1476.008772</td>\n",
              "    </tr>\n",
              "    <tr>\n",
              "      <th>1</th>\n",
              "      <td>2014-01-02</td>\n",
              "      <td>1498.914939</td>\n",
              "    </tr>\n",
              "    <tr>\n",
              "      <th>2</th>\n",
              "      <td>2014-01-03</td>\n",
              "      <td>1501.983363</td>\n",
              "    </tr>\n",
              "    <tr>\n",
              "      <th>3</th>\n",
              "      <td>2014-01-04</td>\n",
              "      <td>1499.552313</td>\n",
              "    </tr>\n",
              "    <tr>\n",
              "      <th>4</th>\n",
              "      <td>2014-01-06</td>\n",
              "      <td>1507.481085</td>\n",
              "    </tr>\n",
              "    <tr>\n",
              "      <th>...</th>\n",
              "      <td>...</td>\n",
              "      <td>...</td>\n",
              "    </tr>\n",
              "    <tr>\n",
              "      <th>1841</th>\n",
              "      <td>2020-07-20</td>\n",
              "      <td>1724.983995</td>\n",
              "    </tr>\n",
              "    <tr>\n",
              "      <th>1842</th>\n",
              "      <td>2020-07-21</td>\n",
              "      <td>1733.344596</td>\n",
              "    </tr>\n",
              "    <tr>\n",
              "      <th>1843</th>\n",
              "      <td>2020-07-22</td>\n",
              "      <td>1740.637111</td>\n",
              "    </tr>\n",
              "    <tr>\n",
              "      <th>1844</th>\n",
              "      <td>2020-07-23</td>\n",
              "      <td>1766.044091</td>\n",
              "    </tr>\n",
              "    <tr>\n",
              "      <th>1845</th>\n",
              "      <td>2020-07-24</td>\n",
              "      <td>1771.508183</td>\n",
              "    </tr>\n",
              "  </tbody>\n",
              "</table>\n",
              "<p>1846 rows × 2 columns</p>\n",
              "</div>"
            ],
            "text/plain": [
              "             ds         yhat\n",
              "0    2014-01-01  1476.008772\n",
              "1    2014-01-02  1498.914939\n",
              "2    2014-01-03  1501.983363\n",
              "3    2014-01-04  1499.552313\n",
              "4    2014-01-06  1507.481085\n",
              "...         ...          ...\n",
              "1841 2020-07-20  1724.983995\n",
              "1842 2020-07-21  1733.344596\n",
              "1843 2020-07-22  1740.637111\n",
              "1844 2020-07-23  1766.044091\n",
              "1845 2020-07-24  1771.508183\n",
              "\n",
              "[1846 rows x 2 columns]"
            ]
          },
          "metadata": {
            "tags": []
          },
          "execution_count": 51
        }
      ]
    },
    {
      "cell_type": "code",
      "metadata": {
        "id": "MSWRrLG_hNcL",
        "colab": {
          "base_uri": "https://localhost:8080/",
          "height": 363
        },
        "outputId": "b57fbc3d-a93f-43d0-b80a-95288d181789"
      },
      "source": [
        "p=ab.tail(10)\n",
        "p\n"
      ],
      "execution_count": 52,
      "outputs": [
        {
          "output_type": "execute_result",
          "data": {
            "text/html": [
              "<div>\n",
              "<style scoped>\n",
              "    .dataframe tbody tr th:only-of-type {\n",
              "        vertical-align: middle;\n",
              "    }\n",
              "\n",
              "    .dataframe tbody tr th {\n",
              "        vertical-align: top;\n",
              "    }\n",
              "\n",
              "    .dataframe thead th {\n",
              "        text-align: right;\n",
              "    }\n",
              "</style>\n",
              "<table border=\"1\" class=\"dataframe\">\n",
              "  <thead>\n",
              "    <tr style=\"text-align: right;\">\n",
              "      <th></th>\n",
              "      <th>ds</th>\n",
              "      <th>yhat</th>\n",
              "    </tr>\n",
              "  </thead>\n",
              "  <tbody>\n",
              "    <tr>\n",
              "      <th>1836</th>\n",
              "      <td>2020-07-15</td>\n",
              "      <td>1687.613148</td>\n",
              "    </tr>\n",
              "    <tr>\n",
              "      <th>1837</th>\n",
              "      <td>2020-07-16</td>\n",
              "      <td>1711.147601</td>\n",
              "    </tr>\n",
              "    <tr>\n",
              "      <th>1838</th>\n",
              "      <td>2020-07-17</td>\n",
              "      <td>1715.065550</td>\n",
              "    </tr>\n",
              "    <tr>\n",
              "      <th>1839</th>\n",
              "      <td>2020-07-18</td>\n",
              "      <td>1713.768034</td>\n",
              "    </tr>\n",
              "    <tr>\n",
              "      <th>1840</th>\n",
              "      <td>2020-07-19</td>\n",
              "      <td>1521.783222</td>\n",
              "    </tr>\n",
              "    <tr>\n",
              "      <th>1841</th>\n",
              "      <td>2020-07-20</td>\n",
              "      <td>1724.983995</td>\n",
              "    </tr>\n",
              "    <tr>\n",
              "      <th>1842</th>\n",
              "      <td>2020-07-21</td>\n",
              "      <td>1733.344596</td>\n",
              "    </tr>\n",
              "    <tr>\n",
              "      <th>1843</th>\n",
              "      <td>2020-07-22</td>\n",
              "      <td>1740.637111</td>\n",
              "    </tr>\n",
              "    <tr>\n",
              "      <th>1844</th>\n",
              "      <td>2020-07-23</td>\n",
              "      <td>1766.044091</td>\n",
              "    </tr>\n",
              "    <tr>\n",
              "      <th>1845</th>\n",
              "      <td>2020-07-24</td>\n",
              "      <td>1771.508183</td>\n",
              "    </tr>\n",
              "  </tbody>\n",
              "</table>\n",
              "</div>"
            ],
            "text/plain": [
              "             ds         yhat\n",
              "1836 2020-07-15  1687.613148\n",
              "1837 2020-07-16  1711.147601\n",
              "1838 2020-07-17  1715.065550\n",
              "1839 2020-07-18  1713.768034\n",
              "1840 2020-07-19  1521.783222\n",
              "1841 2020-07-20  1724.983995\n",
              "1842 2020-07-21  1733.344596\n",
              "1843 2020-07-22  1740.637111\n",
              "1844 2020-07-23  1766.044091\n",
              "1845 2020-07-24  1771.508183"
            ]
          },
          "metadata": {
            "tags": []
          },
          "execution_count": 52
        }
      ]
    },
    {
      "cell_type": "code",
      "metadata": {
        "id": "1T4NFT3ghNcM"
      },
      "source": [
        "p=p.set_index('ds')"
      ],
      "execution_count": 53,
      "outputs": []
    },
    {
      "cell_type": "code",
      "metadata": {
        "id": "Fac0XUR_hNcM",
        "colab": {
          "base_uri": "https://localhost:8080/",
          "height": 395
        },
        "outputId": "230624b5-5717-4f43-ab3c-fff338dc39db"
      },
      "source": [
        "p"
      ],
      "execution_count": 54,
      "outputs": [
        {
          "output_type": "execute_result",
          "data": {
            "text/html": [
              "<div>\n",
              "<style scoped>\n",
              "    .dataframe tbody tr th:only-of-type {\n",
              "        vertical-align: middle;\n",
              "    }\n",
              "\n",
              "    .dataframe tbody tr th {\n",
              "        vertical-align: top;\n",
              "    }\n",
              "\n",
              "    .dataframe thead th {\n",
              "        text-align: right;\n",
              "    }\n",
              "</style>\n",
              "<table border=\"1\" class=\"dataframe\">\n",
              "  <thead>\n",
              "    <tr style=\"text-align: right;\">\n",
              "      <th></th>\n",
              "      <th>yhat</th>\n",
              "    </tr>\n",
              "    <tr>\n",
              "      <th>ds</th>\n",
              "      <th></th>\n",
              "    </tr>\n",
              "  </thead>\n",
              "  <tbody>\n",
              "    <tr>\n",
              "      <th>2020-07-15</th>\n",
              "      <td>1687.613148</td>\n",
              "    </tr>\n",
              "    <tr>\n",
              "      <th>2020-07-16</th>\n",
              "      <td>1711.147601</td>\n",
              "    </tr>\n",
              "    <tr>\n",
              "      <th>2020-07-17</th>\n",
              "      <td>1715.065550</td>\n",
              "    </tr>\n",
              "    <tr>\n",
              "      <th>2020-07-18</th>\n",
              "      <td>1713.768034</td>\n",
              "    </tr>\n",
              "    <tr>\n",
              "      <th>2020-07-19</th>\n",
              "      <td>1521.783222</td>\n",
              "    </tr>\n",
              "    <tr>\n",
              "      <th>2020-07-20</th>\n",
              "      <td>1724.983995</td>\n",
              "    </tr>\n",
              "    <tr>\n",
              "      <th>2020-07-21</th>\n",
              "      <td>1733.344596</td>\n",
              "    </tr>\n",
              "    <tr>\n",
              "      <th>2020-07-22</th>\n",
              "      <td>1740.637111</td>\n",
              "    </tr>\n",
              "    <tr>\n",
              "      <th>2020-07-23</th>\n",
              "      <td>1766.044091</td>\n",
              "    </tr>\n",
              "    <tr>\n",
              "      <th>2020-07-24</th>\n",
              "      <td>1771.508183</td>\n",
              "    </tr>\n",
              "  </tbody>\n",
              "</table>\n",
              "</div>"
            ],
            "text/plain": [
              "                   yhat\n",
              "ds                     \n",
              "2020-07-15  1687.613148\n",
              "2020-07-16  1711.147601\n",
              "2020-07-17  1715.065550\n",
              "2020-07-18  1713.768034\n",
              "2020-07-19  1521.783222\n",
              "2020-07-20  1724.983995\n",
              "2020-07-21  1733.344596\n",
              "2020-07-22  1740.637111\n",
              "2020-07-23  1766.044091\n",
              "2020-07-24  1771.508183"
            ]
          },
          "metadata": {
            "tags": []
          },
          "execution_count": 54
        }
      ]
    },
    {
      "cell_type": "code",
      "metadata": {
        "id": "0KjCfOs8hNcM",
        "colab": {
          "base_uri": "https://localhost:8080/"
        },
        "outputId": "7a974b75-f84f-4e32-ba42-fbb01fcb3e80"
      },
      "source": [
        "finala=df\n",
        "finala=finala.drop(['index'],axis=1)\n",
        "finala.shape\n",
        "finala.dtypes"
      ],
      "execution_count": 55,
      "outputs": [
        {
          "output_type": "execute_result",
          "data": {
            "text/plain": [
              "Price Date                   object\n",
              "Modal Price (Rs./Quintal)     int64\n",
              "dtype: object"
            ]
          },
          "metadata": {
            "tags": []
          },
          "execution_count": 55
        }
      ]
    },
    {
      "cell_type": "code",
      "metadata": {
        "id": "VMtqkOTqhNcM"
      },
      "source": [
        "# convert the 'Date' column to datetime format \n",
        "finala['Price Date']= pd.to_datetime(finala['Price Date']) \n"
      ],
      "execution_count": 56,
      "outputs": []
    },
    {
      "cell_type": "code",
      "metadata": {
        "id": "XPyE67PQhNcM",
        "colab": {
          "base_uri": "https://localhost:8080/"
        },
        "outputId": "ee9f1f36-d340-4e0f-d1b9-0df3c492d8e9"
      },
      "source": [
        "finala.dtypes"
      ],
      "execution_count": 57,
      "outputs": [
        {
          "output_type": "execute_result",
          "data": {
            "text/plain": [
              "Price Date                   datetime64[ns]\n",
              "Modal Price (Rs./Quintal)             int64\n",
              "dtype: object"
            ]
          },
          "metadata": {
            "tags": []
          },
          "execution_count": 57
        }
      ]
    },
    {
      "cell_type": "code",
      "metadata": {
        "id": "gUajf3WlhNcM",
        "colab": {
          "base_uri": "https://localhost:8080/"
        },
        "outputId": "7913af8a-bcec-44aa-f84d-71d32611fa21"
      },
      "source": [
        "finala.columns"
      ],
      "execution_count": 58,
      "outputs": [
        {
          "output_type": "execute_result",
          "data": {
            "text/plain": [
              "Index(['Price Date', 'Modal Price (Rs./Quintal)'], dtype='object')"
            ]
          },
          "metadata": {
            "tags": []
          },
          "execution_count": 58
        }
      ]
    },
    {
      "cell_type": "code",
      "metadata": {
        "id": "VpQwuO7ohNcM",
        "colab": {
          "base_uri": "https://localhost:8080/",
          "height": 424
        },
        "outputId": "ec2c7165-41f8-4e71-cd77-0b5b9bfbfffb"
      },
      "source": [
        "finala=finala.rename(columns={'Price Date':'ds','Modal Price (Rs./Quintal)':'y'})\n",
        "h=finala.sort_values('ds')\n",
        "h"
      ],
      "execution_count": 59,
      "outputs": [
        {
          "output_type": "execute_result",
          "data": {
            "text/html": [
              "<div>\n",
              "<style scoped>\n",
              "    .dataframe tbody tr th:only-of-type {\n",
              "        vertical-align: middle;\n",
              "    }\n",
              "\n",
              "    .dataframe tbody tr th {\n",
              "        vertical-align: top;\n",
              "    }\n",
              "\n",
              "    .dataframe thead th {\n",
              "        text-align: right;\n",
              "    }\n",
              "</style>\n",
              "<table border=\"1\" class=\"dataframe\">\n",
              "  <thead>\n",
              "    <tr style=\"text-align: right;\">\n",
              "      <th></th>\n",
              "      <th>ds</th>\n",
              "      <th>y</th>\n",
              "    </tr>\n",
              "  </thead>\n",
              "  <tbody>\n",
              "    <tr>\n",
              "      <th>1860</th>\n",
              "      <td>2014-01-01</td>\n",
              "      <td>1680</td>\n",
              "    </tr>\n",
              "    <tr>\n",
              "      <th>1859</th>\n",
              "      <td>2014-01-02</td>\n",
              "      <td>1700</td>\n",
              "    </tr>\n",
              "    <tr>\n",
              "      <th>1858</th>\n",
              "      <td>2014-01-03</td>\n",
              "      <td>1700</td>\n",
              "    </tr>\n",
              "    <tr>\n",
              "      <th>1857</th>\n",
              "      <td>2014-01-04</td>\n",
              "      <td>1700</td>\n",
              "    </tr>\n",
              "    <tr>\n",
              "      <th>1856</th>\n",
              "      <td>2014-01-06</td>\n",
              "      <td>1600</td>\n",
              "    </tr>\n",
              "    <tr>\n",
              "      <th>...</th>\n",
              "      <td>...</td>\n",
              "      <td>...</td>\n",
              "    </tr>\n",
              "    <tr>\n",
              "      <th>4</th>\n",
              "      <td>2020-07-09</td>\n",
              "      <td>1400</td>\n",
              "    </tr>\n",
              "    <tr>\n",
              "      <th>3</th>\n",
              "      <td>2020-07-10</td>\n",
              "      <td>1500</td>\n",
              "    </tr>\n",
              "    <tr>\n",
              "      <th>2</th>\n",
              "      <td>2020-07-11</td>\n",
              "      <td>1500</td>\n",
              "    </tr>\n",
              "    <tr>\n",
              "      <th>1</th>\n",
              "      <td>2020-07-13</td>\n",
              "      <td>1500</td>\n",
              "    </tr>\n",
              "    <tr>\n",
              "      <th>0</th>\n",
              "      <td>2020-07-14</td>\n",
              "      <td>1550</td>\n",
              "    </tr>\n",
              "  </tbody>\n",
              "</table>\n",
              "<p>1861 rows × 2 columns</p>\n",
              "</div>"
            ],
            "text/plain": [
              "             ds     y\n",
              "1860 2014-01-01  1680\n",
              "1859 2014-01-02  1700\n",
              "1858 2014-01-03  1700\n",
              "1857 2014-01-04  1700\n",
              "1856 2014-01-06  1600\n",
              "...         ...   ...\n",
              "4    2020-07-09  1400\n",
              "3    2020-07-10  1500\n",
              "2    2020-07-11  1500\n",
              "1    2020-07-13  1500\n",
              "0    2020-07-14  1550\n",
              "\n",
              "[1861 rows x 2 columns]"
            ]
          },
          "metadata": {
            "tags": []
          },
          "execution_count": 59
        }
      ]
    },
    {
      "cell_type": "code",
      "metadata": {
        "id": "0Xb5ReeShNcN",
        "colab": {
          "base_uri": "https://localhost:8080/",
          "height": 455
        },
        "outputId": "e19d3e26-08fd-4abe-e1bd-ddcb1413a4ab"
      },
      "source": [
        "l=h.set_index('ds')\n",
        "l"
      ],
      "execution_count": 60,
      "outputs": [
        {
          "output_type": "execute_result",
          "data": {
            "text/html": [
              "<div>\n",
              "<style scoped>\n",
              "    .dataframe tbody tr th:only-of-type {\n",
              "        vertical-align: middle;\n",
              "    }\n",
              "\n",
              "    .dataframe tbody tr th {\n",
              "        vertical-align: top;\n",
              "    }\n",
              "\n",
              "    .dataframe thead th {\n",
              "        text-align: right;\n",
              "    }\n",
              "</style>\n",
              "<table border=\"1\" class=\"dataframe\">\n",
              "  <thead>\n",
              "    <tr style=\"text-align: right;\">\n",
              "      <th></th>\n",
              "      <th>y</th>\n",
              "    </tr>\n",
              "    <tr>\n",
              "      <th>ds</th>\n",
              "      <th></th>\n",
              "    </tr>\n",
              "  </thead>\n",
              "  <tbody>\n",
              "    <tr>\n",
              "      <th>2014-01-01</th>\n",
              "      <td>1680</td>\n",
              "    </tr>\n",
              "    <tr>\n",
              "      <th>2014-01-02</th>\n",
              "      <td>1700</td>\n",
              "    </tr>\n",
              "    <tr>\n",
              "      <th>2014-01-03</th>\n",
              "      <td>1700</td>\n",
              "    </tr>\n",
              "    <tr>\n",
              "      <th>2014-01-04</th>\n",
              "      <td>1700</td>\n",
              "    </tr>\n",
              "    <tr>\n",
              "      <th>2014-01-06</th>\n",
              "      <td>1600</td>\n",
              "    </tr>\n",
              "    <tr>\n",
              "      <th>...</th>\n",
              "      <td>...</td>\n",
              "    </tr>\n",
              "    <tr>\n",
              "      <th>2020-07-09</th>\n",
              "      <td>1400</td>\n",
              "    </tr>\n",
              "    <tr>\n",
              "      <th>2020-07-10</th>\n",
              "      <td>1500</td>\n",
              "    </tr>\n",
              "    <tr>\n",
              "      <th>2020-07-11</th>\n",
              "      <td>1500</td>\n",
              "    </tr>\n",
              "    <tr>\n",
              "      <th>2020-07-13</th>\n",
              "      <td>1500</td>\n",
              "    </tr>\n",
              "    <tr>\n",
              "      <th>2020-07-14</th>\n",
              "      <td>1550</td>\n",
              "    </tr>\n",
              "  </tbody>\n",
              "</table>\n",
              "<p>1861 rows × 1 columns</p>\n",
              "</div>"
            ],
            "text/plain": [
              "               y\n",
              "ds              \n",
              "2014-01-01  1680\n",
              "2014-01-02  1700\n",
              "2014-01-03  1700\n",
              "2014-01-04  1700\n",
              "2014-01-06  1600\n",
              "...          ...\n",
              "2020-07-09  1400\n",
              "2020-07-10  1500\n",
              "2020-07-11  1500\n",
              "2020-07-13  1500\n",
              "2020-07-14  1550\n",
              "\n",
              "[1861 rows x 1 columns]"
            ]
          },
          "metadata": {
            "tags": []
          },
          "execution_count": 60
        }
      ]
    },
    {
      "cell_type": "code",
      "metadata": {
        "id": "NoHaoV8chNcN",
        "colab": {
          "base_uri": "https://localhost:8080/",
          "height": 424
        },
        "outputId": "91094f04-0b58-4da9-b341-9a0e06f93843"
      },
      "source": [
        "i=l.reset_index(level=0)\n",
        "i\n"
      ],
      "execution_count": 61,
      "outputs": [
        {
          "output_type": "execute_result",
          "data": {
            "text/html": [
              "<div>\n",
              "<style scoped>\n",
              "    .dataframe tbody tr th:only-of-type {\n",
              "        vertical-align: middle;\n",
              "    }\n",
              "\n",
              "    .dataframe tbody tr th {\n",
              "        vertical-align: top;\n",
              "    }\n",
              "\n",
              "    .dataframe thead th {\n",
              "        text-align: right;\n",
              "    }\n",
              "</style>\n",
              "<table border=\"1\" class=\"dataframe\">\n",
              "  <thead>\n",
              "    <tr style=\"text-align: right;\">\n",
              "      <th></th>\n",
              "      <th>ds</th>\n",
              "      <th>y</th>\n",
              "    </tr>\n",
              "  </thead>\n",
              "  <tbody>\n",
              "    <tr>\n",
              "      <th>0</th>\n",
              "      <td>2014-01-01</td>\n",
              "      <td>1680</td>\n",
              "    </tr>\n",
              "    <tr>\n",
              "      <th>1</th>\n",
              "      <td>2014-01-02</td>\n",
              "      <td>1700</td>\n",
              "    </tr>\n",
              "    <tr>\n",
              "      <th>2</th>\n",
              "      <td>2014-01-03</td>\n",
              "      <td>1700</td>\n",
              "    </tr>\n",
              "    <tr>\n",
              "      <th>3</th>\n",
              "      <td>2014-01-04</td>\n",
              "      <td>1700</td>\n",
              "    </tr>\n",
              "    <tr>\n",
              "      <th>4</th>\n",
              "      <td>2014-01-06</td>\n",
              "      <td>1600</td>\n",
              "    </tr>\n",
              "    <tr>\n",
              "      <th>...</th>\n",
              "      <td>...</td>\n",
              "      <td>...</td>\n",
              "    </tr>\n",
              "    <tr>\n",
              "      <th>1856</th>\n",
              "      <td>2020-07-09</td>\n",
              "      <td>1400</td>\n",
              "    </tr>\n",
              "    <tr>\n",
              "      <th>1857</th>\n",
              "      <td>2020-07-10</td>\n",
              "      <td>1500</td>\n",
              "    </tr>\n",
              "    <tr>\n",
              "      <th>1858</th>\n",
              "      <td>2020-07-11</td>\n",
              "      <td>1500</td>\n",
              "    </tr>\n",
              "    <tr>\n",
              "      <th>1859</th>\n",
              "      <td>2020-07-13</td>\n",
              "      <td>1500</td>\n",
              "    </tr>\n",
              "    <tr>\n",
              "      <th>1860</th>\n",
              "      <td>2020-07-14</td>\n",
              "      <td>1550</td>\n",
              "    </tr>\n",
              "  </tbody>\n",
              "</table>\n",
              "<p>1861 rows × 2 columns</p>\n",
              "</div>"
            ],
            "text/plain": [
              "             ds     y\n",
              "0    2014-01-01  1680\n",
              "1    2014-01-02  1700\n",
              "2    2014-01-03  1700\n",
              "3    2014-01-04  1700\n",
              "4    2014-01-06  1600\n",
              "...         ...   ...\n",
              "1856 2020-07-09  1400\n",
              "1857 2020-07-10  1500\n",
              "1858 2020-07-11  1500\n",
              "1859 2020-07-13  1500\n",
              "1860 2020-07-14  1550\n",
              "\n",
              "[1861 rows x 2 columns]"
            ]
          },
          "metadata": {
            "tags": []
          },
          "execution_count": 61
        }
      ]
    },
    {
      "cell_type": "code",
      "metadata": {
        "id": "gh52DLjmhNcN",
        "colab": {
          "base_uri": "https://localhost:8080/",
          "height": 363
        },
        "outputId": "9bf218b5-bc86-49e8-fa0c-44e8e863dbf9"
      },
      "source": [
        "y=p.reset_index(level=0)\n",
        "y"
      ],
      "execution_count": 62,
      "outputs": [
        {
          "output_type": "execute_result",
          "data": {
            "text/html": [
              "<div>\n",
              "<style scoped>\n",
              "    .dataframe tbody tr th:only-of-type {\n",
              "        vertical-align: middle;\n",
              "    }\n",
              "\n",
              "    .dataframe tbody tr th {\n",
              "        vertical-align: top;\n",
              "    }\n",
              "\n",
              "    .dataframe thead th {\n",
              "        text-align: right;\n",
              "    }\n",
              "</style>\n",
              "<table border=\"1\" class=\"dataframe\">\n",
              "  <thead>\n",
              "    <tr style=\"text-align: right;\">\n",
              "      <th></th>\n",
              "      <th>ds</th>\n",
              "      <th>yhat</th>\n",
              "    </tr>\n",
              "  </thead>\n",
              "  <tbody>\n",
              "    <tr>\n",
              "      <th>0</th>\n",
              "      <td>2020-07-15</td>\n",
              "      <td>1687.613148</td>\n",
              "    </tr>\n",
              "    <tr>\n",
              "      <th>1</th>\n",
              "      <td>2020-07-16</td>\n",
              "      <td>1711.147601</td>\n",
              "    </tr>\n",
              "    <tr>\n",
              "      <th>2</th>\n",
              "      <td>2020-07-17</td>\n",
              "      <td>1715.065550</td>\n",
              "    </tr>\n",
              "    <tr>\n",
              "      <th>3</th>\n",
              "      <td>2020-07-18</td>\n",
              "      <td>1713.768034</td>\n",
              "    </tr>\n",
              "    <tr>\n",
              "      <th>4</th>\n",
              "      <td>2020-07-19</td>\n",
              "      <td>1521.783222</td>\n",
              "    </tr>\n",
              "    <tr>\n",
              "      <th>5</th>\n",
              "      <td>2020-07-20</td>\n",
              "      <td>1724.983995</td>\n",
              "    </tr>\n",
              "    <tr>\n",
              "      <th>6</th>\n",
              "      <td>2020-07-21</td>\n",
              "      <td>1733.344596</td>\n",
              "    </tr>\n",
              "    <tr>\n",
              "      <th>7</th>\n",
              "      <td>2020-07-22</td>\n",
              "      <td>1740.637111</td>\n",
              "    </tr>\n",
              "    <tr>\n",
              "      <th>8</th>\n",
              "      <td>2020-07-23</td>\n",
              "      <td>1766.044091</td>\n",
              "    </tr>\n",
              "    <tr>\n",
              "      <th>9</th>\n",
              "      <td>2020-07-24</td>\n",
              "      <td>1771.508183</td>\n",
              "    </tr>\n",
              "  </tbody>\n",
              "</table>\n",
              "</div>"
            ],
            "text/plain": [
              "          ds         yhat\n",
              "0 2020-07-15  1687.613148\n",
              "1 2020-07-16  1711.147601\n",
              "2 2020-07-17  1715.065550\n",
              "3 2020-07-18  1713.768034\n",
              "4 2020-07-19  1521.783222\n",
              "5 2020-07-20  1724.983995\n",
              "6 2020-07-21  1733.344596\n",
              "7 2020-07-22  1740.637111\n",
              "8 2020-07-23  1766.044091\n",
              "9 2020-07-24  1771.508183"
            ]
          },
          "metadata": {
            "tags": []
          },
          "execution_count": 62
        }
      ]
    },
    {
      "cell_type": "code",
      "metadata": {
        "id": "wySZjlSghNcN"
      },
      "source": [
        "frames = [i,y]"
      ],
      "execution_count": 63,
      "outputs": []
    },
    {
      "cell_type": "code",
      "metadata": {
        "id": "FeBwFrchhNcN",
        "colab": {
          "base_uri": "https://localhost:8080/",
          "height": 677
        },
        "outputId": "9428f350-a074-4116-df70-c1ed3920443d"
      },
      "source": [
        "result = pd.concat(frames)\n",
        "result.tail(20)"
      ],
      "execution_count": 64,
      "outputs": [
        {
          "output_type": "execute_result",
          "data": {
            "text/html": [
              "<div>\n",
              "<style scoped>\n",
              "    .dataframe tbody tr th:only-of-type {\n",
              "        vertical-align: middle;\n",
              "    }\n",
              "\n",
              "    .dataframe tbody tr th {\n",
              "        vertical-align: top;\n",
              "    }\n",
              "\n",
              "    .dataframe thead th {\n",
              "        text-align: right;\n",
              "    }\n",
              "</style>\n",
              "<table border=\"1\" class=\"dataframe\">\n",
              "  <thead>\n",
              "    <tr style=\"text-align: right;\">\n",
              "      <th></th>\n",
              "      <th>ds</th>\n",
              "      <th>y</th>\n",
              "      <th>yhat</th>\n",
              "    </tr>\n",
              "  </thead>\n",
              "  <tbody>\n",
              "    <tr>\n",
              "      <th>1851</th>\n",
              "      <td>2020-07-03</td>\n",
              "      <td>1300.0</td>\n",
              "      <td>NaN</td>\n",
              "    </tr>\n",
              "    <tr>\n",
              "      <th>1852</th>\n",
              "      <td>2020-07-04</td>\n",
              "      <td>1300.0</td>\n",
              "      <td>NaN</td>\n",
              "    </tr>\n",
              "    <tr>\n",
              "      <th>1853</th>\n",
              "      <td>2020-07-06</td>\n",
              "      <td>1300.0</td>\n",
              "      <td>NaN</td>\n",
              "    </tr>\n",
              "    <tr>\n",
              "      <th>1854</th>\n",
              "      <td>2020-07-07</td>\n",
              "      <td>1350.0</td>\n",
              "      <td>NaN</td>\n",
              "    </tr>\n",
              "    <tr>\n",
              "      <th>1855</th>\n",
              "      <td>2020-07-08</td>\n",
              "      <td>1350.0</td>\n",
              "      <td>NaN</td>\n",
              "    </tr>\n",
              "    <tr>\n",
              "      <th>1856</th>\n",
              "      <td>2020-07-09</td>\n",
              "      <td>1400.0</td>\n",
              "      <td>NaN</td>\n",
              "    </tr>\n",
              "    <tr>\n",
              "      <th>1857</th>\n",
              "      <td>2020-07-10</td>\n",
              "      <td>1500.0</td>\n",
              "      <td>NaN</td>\n",
              "    </tr>\n",
              "    <tr>\n",
              "      <th>1858</th>\n",
              "      <td>2020-07-11</td>\n",
              "      <td>1500.0</td>\n",
              "      <td>NaN</td>\n",
              "    </tr>\n",
              "    <tr>\n",
              "      <th>1859</th>\n",
              "      <td>2020-07-13</td>\n",
              "      <td>1500.0</td>\n",
              "      <td>NaN</td>\n",
              "    </tr>\n",
              "    <tr>\n",
              "      <th>1860</th>\n",
              "      <td>2020-07-14</td>\n",
              "      <td>1550.0</td>\n",
              "      <td>NaN</td>\n",
              "    </tr>\n",
              "    <tr>\n",
              "      <th>0</th>\n",
              "      <td>2020-07-15</td>\n",
              "      <td>NaN</td>\n",
              "      <td>1687.613148</td>\n",
              "    </tr>\n",
              "    <tr>\n",
              "      <th>1</th>\n",
              "      <td>2020-07-16</td>\n",
              "      <td>NaN</td>\n",
              "      <td>1711.147601</td>\n",
              "    </tr>\n",
              "    <tr>\n",
              "      <th>2</th>\n",
              "      <td>2020-07-17</td>\n",
              "      <td>NaN</td>\n",
              "      <td>1715.065550</td>\n",
              "    </tr>\n",
              "    <tr>\n",
              "      <th>3</th>\n",
              "      <td>2020-07-18</td>\n",
              "      <td>NaN</td>\n",
              "      <td>1713.768034</td>\n",
              "    </tr>\n",
              "    <tr>\n",
              "      <th>4</th>\n",
              "      <td>2020-07-19</td>\n",
              "      <td>NaN</td>\n",
              "      <td>1521.783222</td>\n",
              "    </tr>\n",
              "    <tr>\n",
              "      <th>5</th>\n",
              "      <td>2020-07-20</td>\n",
              "      <td>NaN</td>\n",
              "      <td>1724.983995</td>\n",
              "    </tr>\n",
              "    <tr>\n",
              "      <th>6</th>\n",
              "      <td>2020-07-21</td>\n",
              "      <td>NaN</td>\n",
              "      <td>1733.344596</td>\n",
              "    </tr>\n",
              "    <tr>\n",
              "      <th>7</th>\n",
              "      <td>2020-07-22</td>\n",
              "      <td>NaN</td>\n",
              "      <td>1740.637111</td>\n",
              "    </tr>\n",
              "    <tr>\n",
              "      <th>8</th>\n",
              "      <td>2020-07-23</td>\n",
              "      <td>NaN</td>\n",
              "      <td>1766.044091</td>\n",
              "    </tr>\n",
              "    <tr>\n",
              "      <th>9</th>\n",
              "      <td>2020-07-24</td>\n",
              "      <td>NaN</td>\n",
              "      <td>1771.508183</td>\n",
              "    </tr>\n",
              "  </tbody>\n",
              "</table>\n",
              "</div>"
            ],
            "text/plain": [
              "             ds       y         yhat\n",
              "1851 2020-07-03  1300.0          NaN\n",
              "1852 2020-07-04  1300.0          NaN\n",
              "1853 2020-07-06  1300.0          NaN\n",
              "1854 2020-07-07  1350.0          NaN\n",
              "1855 2020-07-08  1350.0          NaN\n",
              "1856 2020-07-09  1400.0          NaN\n",
              "1857 2020-07-10  1500.0          NaN\n",
              "1858 2020-07-11  1500.0          NaN\n",
              "1859 2020-07-13  1500.0          NaN\n",
              "1860 2020-07-14  1550.0          NaN\n",
              "0    2020-07-15     NaN  1687.613148\n",
              "1    2020-07-16     NaN  1711.147601\n",
              "2    2020-07-17     NaN  1715.065550\n",
              "3    2020-07-18     NaN  1713.768034\n",
              "4    2020-07-19     NaN  1521.783222\n",
              "5    2020-07-20     NaN  1724.983995\n",
              "6    2020-07-21     NaN  1733.344596\n",
              "7    2020-07-22     NaN  1740.637111\n",
              "8    2020-07-23     NaN  1766.044091\n",
              "9    2020-07-24     NaN  1771.508183"
            ]
          },
          "metadata": {
            "tags": []
          },
          "execution_count": 64
        }
      ]
    },
    {
      "cell_type": "code",
      "metadata": {
        "id": "8Isrzwz7hNcN",
        "colab": {
          "base_uri": "https://localhost:8080/",
          "height": 455
        },
        "outputId": "6113c7f3-45af-46aa-b44d-ec7583ea1996"
      },
      "source": [
        "hasil=result.set_index('ds')\n",
        "hasil"
      ],
      "execution_count": 66,
      "outputs": [
        {
          "output_type": "execute_result",
          "data": {
            "text/html": [
              "<div>\n",
              "<style scoped>\n",
              "    .dataframe tbody tr th:only-of-type {\n",
              "        vertical-align: middle;\n",
              "    }\n",
              "\n",
              "    .dataframe tbody tr th {\n",
              "        vertical-align: top;\n",
              "    }\n",
              "\n",
              "    .dataframe thead th {\n",
              "        text-align: right;\n",
              "    }\n",
              "</style>\n",
              "<table border=\"1\" class=\"dataframe\">\n",
              "  <thead>\n",
              "    <tr style=\"text-align: right;\">\n",
              "      <th></th>\n",
              "      <th>y</th>\n",
              "      <th>yhat</th>\n",
              "    </tr>\n",
              "    <tr>\n",
              "      <th>ds</th>\n",
              "      <th></th>\n",
              "      <th></th>\n",
              "    </tr>\n",
              "  </thead>\n",
              "  <tbody>\n",
              "    <tr>\n",
              "      <th>2014-01-01</th>\n",
              "      <td>1680.0</td>\n",
              "      <td>NaN</td>\n",
              "    </tr>\n",
              "    <tr>\n",
              "      <th>2014-01-02</th>\n",
              "      <td>1700.0</td>\n",
              "      <td>NaN</td>\n",
              "    </tr>\n",
              "    <tr>\n",
              "      <th>2014-01-03</th>\n",
              "      <td>1700.0</td>\n",
              "      <td>NaN</td>\n",
              "    </tr>\n",
              "    <tr>\n",
              "      <th>2014-01-04</th>\n",
              "      <td>1700.0</td>\n",
              "      <td>NaN</td>\n",
              "    </tr>\n",
              "    <tr>\n",
              "      <th>2014-01-06</th>\n",
              "      <td>1600.0</td>\n",
              "      <td>NaN</td>\n",
              "    </tr>\n",
              "    <tr>\n",
              "      <th>...</th>\n",
              "      <td>...</td>\n",
              "      <td>...</td>\n",
              "    </tr>\n",
              "    <tr>\n",
              "      <th>2020-07-20</th>\n",
              "      <td>NaN</td>\n",
              "      <td>1724.983995</td>\n",
              "    </tr>\n",
              "    <tr>\n",
              "      <th>2020-07-21</th>\n",
              "      <td>NaN</td>\n",
              "      <td>1733.344596</td>\n",
              "    </tr>\n",
              "    <tr>\n",
              "      <th>2020-07-22</th>\n",
              "      <td>NaN</td>\n",
              "      <td>1740.637111</td>\n",
              "    </tr>\n",
              "    <tr>\n",
              "      <th>2020-07-23</th>\n",
              "      <td>NaN</td>\n",
              "      <td>1766.044091</td>\n",
              "    </tr>\n",
              "    <tr>\n",
              "      <th>2020-07-24</th>\n",
              "      <td>NaN</td>\n",
              "      <td>1771.508183</td>\n",
              "    </tr>\n",
              "  </tbody>\n",
              "</table>\n",
              "<p>1871 rows × 2 columns</p>\n",
              "</div>"
            ],
            "text/plain": [
              "                 y         yhat\n",
              "ds                             \n",
              "2014-01-01  1680.0          NaN\n",
              "2014-01-02  1700.0          NaN\n",
              "2014-01-03  1700.0          NaN\n",
              "2014-01-04  1700.0          NaN\n",
              "2014-01-06  1600.0          NaN\n",
              "...            ...          ...\n",
              "2020-07-20     NaN  1724.983995\n",
              "2020-07-21     NaN  1733.344596\n",
              "2020-07-22     NaN  1740.637111\n",
              "2020-07-23     NaN  1766.044091\n",
              "2020-07-24     NaN  1771.508183\n",
              "\n",
              "[1871 rows x 2 columns]"
            ]
          },
          "metadata": {
            "tags": []
          },
          "execution_count": 66
        }
      ]
    },
    {
      "cell_type": "code",
      "metadata": {
        "id": "wp8GHDp0hNcN",
        "colab": {
          "base_uri": "https://localhost:8080/",
          "height": 483
        },
        "outputId": "ab1779d6-f292-4f8c-be3f-dee4275a6519"
      },
      "source": [
        "hasil\n",
        "\n",
        "\n",
        "hasil.rename(columns={'y': 'Actual', 'yhat': 'Forcast'}, inplace=True)\n",
        "hasil.plot(figsize=(18,8))"
      ],
      "execution_count": 67,
      "outputs": [
        {
          "output_type": "execute_result",
          "data": {
            "text/plain": [
              "<matplotlib.axes._subplots.AxesSubplot at 0x7f5d2abb2470>"
            ]
          },
          "metadata": {
            "tags": []
          },
          "execution_count": 67
        },
        {
          "output_type": "display_data",
          "data": {
            "image/png": "[encoded data removed]",
            "text/plain": [
              "<Figure size 1296x576 with 1 Axes>"
            ]
          },
          "metadata": {
            "tags": [],
            "needs_background": "light"
          }
        }
      ]
    },
    {
      "cell_type": "code",
      "metadata": {
        "id": "Nwd93anihNcP"
      },
      "source": [
        ""
      ],
      "execution_count": null,
      "outputs": []
    },
    {
      "cell_type": "code",
      "metadata": {
        "id": "WwngyO30hNcP"
      },
      "source": [
        ""
      ],
      "execution_count": null,
      "outputs": []
    },
    {
      "cell_type": "code",
      "metadata": {
        "id": "WC2sb2hshNcP"
      },
      "source": [
        ""
      ],
      "execution_count": null,
      "outputs": []
    }
  ]
}