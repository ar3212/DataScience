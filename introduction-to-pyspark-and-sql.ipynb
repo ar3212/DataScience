{
 "cells": [
  {
   "cell_type": "code",
   "execution_count": 1,
   "metadata": {
    "_cell_guid": "b1076dfc-b9ad-4769-8c92-a6c4dae69d19",
    "_uuid": "8f2839f25d086af736a60e9eeb907d3b93b6e0e5",
    "execution": {
     "iopub.execute_input": "2021-01-16T23:21:05.622108Z",
     "iopub.status.busy": "2021-01-16T23:21:05.619490Z",
     "iopub.status.idle": "2021-01-16T23:21:05.641752Z",
     "shell.execute_reply": "2021-01-16T23:21:05.640995Z"
    },
    "papermill": {
     "duration": 0.040258,
     "end_time": "2021-01-16T23:21:05.641878",
     "exception": false,
     "start_time": "2021-01-16T23:21:05.601620",
     "status": "completed"
    },
    "tags": []
   },
   "outputs": [
    {
     "name": "stdout",
     "output_type": "stream",
     "text": [
      "/kaggle/input/customer-propensity-to-purchase-data/training_sample.csv\n",
      "/kaggle/input/customer-propensity-to-purchase-data/testing_sample.csv\n",
      "/kaggle/input/groceries-dataset/Groceries_dataset.csv\n"
     ]
    }
   ],
   "source": [
    "# This Python 3 environment comes with many helpful analytics libraries installed\n",
    "# It is defined by the kaggle/python Docker image: https://github.com/kaggle/docker-python\n",
    "# For example, here's several helpful packages to load\n",
    "\n",
    "import numpy as np # linear algebra\n",
    "import pandas as pd # data processing, CSV file I/O (e.g. pd.read_csv)\n",
    "\n",
    "# Input data files are available in the read-only \"../input/\" directory\n",
    "# For example, running this (by clicking run or pressing Shift+Enter) will list all files under the input directory\n",
    "\n",
    "import os\n",
    "for dirname, _, filenames in os.walk('/kaggle/input'):\n",
    "    for filename in filenames:\n",
    "        print(os.path.join(dirname, filename))\n",
    "\n",
    "# You can write up to 20GB to the current directory (/kaggle/working/) that gets preserved as output when you create a version using \"Save & Run All\" \n",
    "# You can also write temporary files to /kaggle/temp/, but they won't be saved outside of the current session"
   ]
  },
  {
   "cell_type": "code",
   "execution_count": 2,
   "metadata": {
    "execution": {
     "iopub.execute_input": "2021-01-16T23:21:05.667214Z",
     "iopub.status.busy": "2021-01-16T23:21:05.666365Z",
     "iopub.status.idle": "2021-01-16T23:21:49.718871Z",
     "shell.execute_reply": "2021-01-16T23:21:49.719685Z"
    },
    "papermill": {
     "duration": 44.067483,
     "end_time": "2021-01-16T23:21:49.719841",
     "exception": false,
     "start_time": "2021-01-16T23:21:05.652358",
     "status": "completed"
    },
    "tags": []
   },
   "outputs": [
    {
     "name": "stdout",
     "output_type": "stream",
     "text": [
      "Collecting pyspark\r\n",
      "  Downloading pyspark-3.0.1.tar.gz (204.2 MB)\r\n",
      "\u001b[K     |████████████████████████████████| 204.2 MB 25 kB/s \r\n",
      "\u001b[?25hCollecting py4j==0.10.9\r\n",
      "  Downloading py4j-0.10.9-py2.py3-none-any.whl (198 kB)\r\n",
      "\u001b[K     |████████████████████████████████| 198 kB 39.0 MB/s \r\n",
      "\u001b[?25hBuilding wheels for collected packages: pyspark\r\n",
      "  Building wheel for pyspark (setup.py) ... \u001b[?25l-\b \b\\\b \b|\b \b/\b \b-\b \b\\\b \b|\b \b/\b \b-\b \b\\\b \b|\b \b/\b \b-\b \b\\\b \b|\b \b/\b \b-\b \b\\\b \b|\b \b/\b \b-\b \b\\\b \b|\b \b/\b \b-\b \b\\\b \b|\b \b/\b \b-\b \b\\\b \b|\b \b/\b \b-\b \b\\\b \b|\b \b/\b \b-\b \b\\\b \b|\b \b/\b \b-\b \b\\\b \b|\b \b/\b \b-\b \b\\\b \b|\b \b/\b \b-\b \b\\\b \b|\b \b/\b \b-\b \b\\\b \b|\b \b/\b \bdone\r\n",
      "\u001b[?25h  Created wheel for pyspark: filename=pyspark-3.0.1-py2.py3-none-any.whl size=204612244 sha256=e8e05700a9f68710861e9ccce1fe2c7f638c69ad359a535dfda45cb470b7fd72\r\n",
      "  Stored in directory: /root/.cache/pip/wheels/5e/34/fa/b37b5cef503fc5148b478b2495043ba61b079120b7ff379f9b\r\n",
      "Successfully built pyspark\r\n",
      "Installing collected packages: py4j, pyspark\r\n",
      "Successfully installed py4j-0.10.9 pyspark-3.0.1\r\n",
      "\u001b[33mWARNING: You are using pip version 20.3.1; however, version 20.3.3 is available.\r\n",
      "You should consider upgrading via the '/opt/conda/bin/python -m pip install --upgrade pip' command.\u001b[0m\r\n",
      "Note: you may need to restart the kernel to use updated packages.\n"
     ]
    }
   ],
   "source": [
    "pip install pyspark"
   ]
  },
  {
   "cell_type": "code",
   "execution_count": 3,
   "metadata": {
    "execution": {
     "iopub.execute_input": "2021-01-16T23:21:50.015366Z",
     "iopub.status.busy": "2021-01-16T23:21:50.014688Z",
     "iopub.status.idle": "2021-01-16T23:21:50.166725Z",
     "shell.execute_reply": "2021-01-16T23:21:50.166185Z"
    },
    "papermill": {
     "duration": 0.301743,
     "end_time": "2021-01-16T23:21:50.166841",
     "exception": false,
     "start_time": "2021-01-16T23:21:49.865098",
     "status": "completed"
    },
    "tags": []
   },
   "outputs": [],
   "source": [
    "#Import module\n",
    "from pyspark.sql import SparkSession\n",
    "from pyspark.sql.types import *"
   ]
  },
  {
   "cell_type": "code",
   "execution_count": 4,
   "metadata": {
    "execution": {
     "iopub.execute_input": "2021-01-16T23:21:50.453007Z",
     "iopub.status.busy": "2021-01-16T23:21:50.452289Z",
     "iopub.status.idle": "2021-01-16T23:21:56.758160Z",
     "shell.execute_reply": "2021-01-16T23:21:56.757017Z"
    },
    "papermill": {
     "duration": 6.451051,
     "end_time": "2021-01-16T23:21:56.758341",
     "exception": false,
     "start_time": "2021-01-16T23:21:50.307290",
     "status": "completed"
    },
    "tags": []
   },
   "outputs": [],
   "source": [
    "spark=SparkSession.builder.master('local').appName('Intro to Pyspark').getOrCreate()"
   ]
  },
  {
   "cell_type": "code",
   "execution_count": 5,
   "metadata": {
    "execution": {
     "iopub.execute_input": "2021-01-16T23:21:57.047569Z",
     "iopub.status.busy": "2021-01-16T23:21:57.046800Z",
     "iopub.status.idle": "2021-01-16T23:22:06.373734Z",
     "shell.execute_reply": "2021-01-16T23:22:06.374621Z"
    },
    "papermill": {
     "duration": 9.472466,
     "end_time": "2021-01-16T23:22:06.374843",
     "exception": false,
     "start_time": "2021-01-16T23:21:56.902377",
     "status": "completed"
    },
    "tags": []
   },
   "outputs": [
    {
     "name": "stdout",
     "output_type": "stream",
     "text": [
      "+--------------------+-----------------+---------------+-----------------+-------+------------+------------------+------------------+-------------------+------------------+-----------------------+-----------------------+----------------------+-------+------------+--------------+------------+-------------------+------------+-------------+---------------+-------------+--------------+------+-------+\n",
      "|              UserID|basket_icon_click|basket_add_list|basket_add_detail|sort_by|image_picker|account_page_click|promo_banner_click|detail_wishlist_add|list_size_dropdown|closed_minibasket_click|checked_delivery_detail|checked_returns_detail|sign_in|saw_checkout|saw_sizecharts|saw_delivery|saw_account_upgrade|saw_homepage|device_mobile|device_computer|device_tablet|returning_user|loc_uk|ordered|\n",
      "+--------------------+-----------------+---------------+-----------------+-------+------------+------------------+------------------+-------------------+------------------+-----------------------+-----------------------+----------------------+-------+------------+--------------+------------+-------------------+------------+-------------+---------------+-------------+--------------+------+-------+\n",
      "|a720-6b732349-a72...|                0|              0|                0|      0|           0|                 0|                 0|                  0|                 0|                      0|                      1|                     0|      0|           0|             0|           0|                  0|           0|            1|              0|            0|             0|     1|      0|\n",
      "|a0c0-6b73247c-a0c...|                0|              0|                0|      0|           0|                 0|                 0|                  0|                 0|                      0|                      0|                     0|      0|           0|             0|           0|                  0|           0|            1|              0|            0|             0|     1|      0|\n",
      "|86a8-6b735c67-86a...|                0|              0|                0|      0|           0|                 0|                 0|                  0|                 0|                      0|                      0|                     0|      0|           0|             0|           0|                  0|           0|            1|              0|            0|             1|     1|      0|\n",
      "|6a3d-6b736346-6a3...|                0|              0|                0|      0|           0|                 0|                 0|                  0|                 0|                      0|                      0|                     0|      0|           0|             0|           0|                  0|           0|            1|              0|            0|             1|     1|      0|\n",
      "|b74a-6b737717-b74...|                0|              1|                0|      1|           0|                 0|                 0|                  0|                 1|                      0|                      1|                     0|      1|           1|             0|           0|                  0|           1|            0|              0|            1|             0|     1|      1|\n",
      "+--------------------+-----------------+---------------+-----------------+-------+------------+------------------+------------------+-------------------+------------------+-----------------------+-----------------------+----------------------+-------+------------+--------------+------------+-------------------+------------+-------------+---------------+-------------+--------------+------+-------+\n",
      "only showing top 5 rows\n",
      "\n"
     ]
    }
   ],
   "source": [
    "data=spark.read.csv('../input/customer-propensity-to-purchase-data', inferSchema=True, header=True)\n",
    "data.show(5)"
   ]
  },
  {
   "cell_type": "code",
   "execution_count": 6,
   "metadata": {
    "execution": {
     "iopub.execute_input": "2021-01-16T23:22:06.736393Z",
     "iopub.status.busy": "2021-01-16T23:22:06.735749Z",
     "iopub.status.idle": "2021-01-16T23:22:06.760611Z",
     "shell.execute_reply": "2021-01-16T23:22:06.759577Z"
    },
    "papermill": {
     "duration": 0.174788,
     "end_time": "2021-01-16T23:22:06.760824",
     "exception": false,
     "start_time": "2021-01-16T23:22:06.586036",
     "status": "completed"
    },
    "tags": []
   },
   "outputs": [
    {
     "name": "stdout",
     "output_type": "stream",
     "text": [
      "root\n",
      " |-- UserID: string (nullable = true)\n",
      " |-- basket_icon_click: integer (nullable = true)\n",
      " |-- basket_add_list: integer (nullable = true)\n",
      " |-- basket_add_detail: integer (nullable = true)\n",
      " |-- sort_by: integer (nullable = true)\n",
      " |-- image_picker: integer (nullable = true)\n",
      " |-- account_page_click: integer (nullable = true)\n",
      " |-- promo_banner_click: integer (nullable = true)\n",
      " |-- detail_wishlist_add: integer (nullable = true)\n",
      " |-- list_size_dropdown: integer (nullable = true)\n",
      " |-- closed_minibasket_click: integer (nullable = true)\n",
      " |-- checked_delivery_detail: integer (nullable = true)\n",
      " |-- checked_returns_detail: integer (nullable = true)\n",
      " |-- sign_in: integer (nullable = true)\n",
      " |-- saw_checkout: integer (nullable = true)\n",
      " |-- saw_sizecharts: integer (nullable = true)\n",
      " |-- saw_delivery: integer (nullable = true)\n",
      " |-- saw_account_upgrade: integer (nullable = true)\n",
      " |-- saw_homepage: integer (nullable = true)\n",
      " |-- device_mobile: integer (nullable = true)\n",
      " |-- device_computer: integer (nullable = true)\n",
      " |-- device_tablet: integer (nullable = true)\n",
      " |-- returning_user: integer (nullable = true)\n",
      " |-- loc_uk: integer (nullable = true)\n",
      " |-- ordered: integer (nullable = true)\n",
      "\n"
     ]
    }
   ],
   "source": [
    "data.printSchema()"
   ]
  },
  {
   "cell_type": "code",
   "execution_count": 7,
   "metadata": {
    "execution": {
     "iopub.execute_input": "2021-01-16T23:22:07.072003Z",
     "iopub.status.busy": "2021-01-16T23:22:07.071332Z",
     "iopub.status.idle": "2021-01-16T23:22:07.338520Z",
     "shell.execute_reply": "2021-01-16T23:22:07.337832Z"
    },
    "papermill": {
     "duration": 0.416143,
     "end_time": "2021-01-16T23:22:07.338635",
     "exception": false,
     "start_time": "2021-01-16T23:22:06.922492",
     "status": "completed"
    },
    "tags": []
   },
   "outputs": [
    {
     "name": "stdout",
     "output_type": "stream",
     "text": [
      "+--------------------+-------+\n",
      "|              UserId|sign_in|\n",
      "+--------------------+-------+\n",
      "|a720-6b732349-a72...|      0|\n",
      "|a0c0-6b73247c-a0c...|      0|\n",
      "|86a8-6b735c67-86a...|      0|\n",
      "|6a3d-6b736346-6a3...|      0|\n",
      "|b74a-6b737717-b74...|      1|\n",
      "+--------------------+-------+\n",
      "only showing top 5 rows\n",
      "\n"
     ]
    }
   ],
   "source": [
    "#Take two columns\n",
    "df1=data.select('UserId','sign_in')\n",
    "df1.show(5)"
   ]
  },
  {
   "cell_type": "code",
   "execution_count": 8,
   "metadata": {
    "execution": {
     "iopub.execute_input": "2021-01-16T23:22:07.641505Z",
     "iopub.status.busy": "2021-01-16T23:22:07.640838Z",
     "iopub.status.idle": "2021-01-16T23:22:07.972057Z",
     "shell.execute_reply": "2021-01-16T23:22:07.970993Z"
    },
    "papermill": {
     "duration": 0.486597,
     "end_time": "2021-01-16T23:22:07.972247",
     "exception": false,
     "start_time": "2021-01-16T23:22:07.485650",
     "status": "completed"
    },
    "tags": []
   },
   "outputs": [
    {
     "name": "stdout",
     "output_type": "stream",
     "text": [
      "+--------------------+--------------+\n",
      "|              UserId|(ordered + 10)|\n",
      "+--------------------+--------------+\n",
      "|a720-6b732349-a72...|            10|\n",
      "|a0c0-6b73247c-a0c...|            10|\n",
      "|86a8-6b735c67-86a...|            10|\n",
      "|6a3d-6b736346-6a3...|            10|\n",
      "|b74a-6b737717-b74...|            11|\n",
      "|b159-6b73a0d6-b15...|            10|\n",
      "|7775-6b73b976-777...|            10|\n",
      "|4135-6b73ba04-413...|            10|\n",
      "|a01e-6b73d2dc-a01...|            10|\n",
      "|3816-6b73db7d-381...|            10|\n",
      "+--------------------+--------------+\n",
      "only showing top 10 rows\n",
      "\n"
     ]
    }
   ],
   "source": [
    "#Adding value  in some columns\n",
    "df2=data.select(data['UserId'],data['ordered']+10)\n",
    "df2.show(10)"
   ]
  },
  {
   "cell_type": "code",
   "execution_count": 9,
   "metadata": {
    "execution": {
     "iopub.execute_input": "2021-01-16T23:22:08.278280Z",
     "iopub.status.busy": "2021-01-16T23:22:08.277645Z",
     "iopub.status.idle": "2021-01-16T23:22:08.282634Z",
     "shell.execute_reply": "2021-01-16T23:22:08.282054Z"
    },
    "papermill": {
     "duration": 0.157794,
     "end_time": "2021-01-16T23:22:08.282755",
     "exception": false,
     "start_time": "2021-01-16T23:22:08.124961",
     "status": "completed"
    },
    "tags": []
   },
   "outputs": [
    {
     "name": "stdout",
     "output_type": "stream",
     "text": [
      "root\n",
      " |-- UserId: string (nullable = true)\n",
      " |-- (ordered + 10): integer (nullable = true)\n",
      "\n"
     ]
    }
   ],
   "source": [
    "df2.printSchema()"
   ]
  },
  {
   "cell_type": "code",
   "execution_count": 10,
   "metadata": {
    "execution": {
     "iopub.execute_input": "2021-01-16T23:22:08.585856Z",
     "iopub.status.busy": "2021-01-16T23:22:08.585229Z",
     "iopub.status.idle": "2021-01-16T23:22:08.837137Z",
     "shell.execute_reply": "2021-01-16T23:22:08.838302Z"
    },
    "papermill": {
     "duration": 0.406786,
     "end_time": "2021-01-16T23:22:08.838549",
     "exception": false,
     "start_time": "2021-01-16T23:22:08.431763",
     "status": "completed"
    },
    "tags": []
   },
   "outputs": [
    {
     "name": "stdout",
     "output_type": "stream",
     "text": [
      "+--------------------+--------------+\n",
      "|              UserId|(ordered + 10)|\n",
      "+--------------------+--------------+\n",
      "|b74a-6b737717-b74...|            11|\n",
      "|6797-6b7bc767-679...|            11|\n",
      "|c773-6b7d6430-c77...|            11|\n",
      "|aa34-6b760410-aa3...|            11|\n",
      "|47b6-6b76a765-47b...|            11|\n",
      "|b65b-6b616b77-b65...|            11|\n",
      "|8349-6b1e7979-834...|            11|\n",
      "|dac7-6b6a6a9c-dac...|            11|\n",
      "|2092-6b6d3bdd-209...|            11|\n",
      "|9772-6b671537-977...|            11|\n",
      "|8dd7-av081677-8dd...|            11|\n",
      "|av05-av0a3aa5-av0...|            11|\n",
      "|236d-av18738b-236...|            11|\n",
      "|1464-av1b1a0b-146...|            11|\n",
      "|d2d7-av1db2ca-d2d...|            11|\n",
      "|2b59-av165973-2b5...|            11|\n",
      "|c42b-av234940-c42...|            11|\n",
      "|1699-av2c6a20-169...|            11|\n",
      "|7371-av2c8c84-737...|            11|\n",
      "|2089-av27677d-208...|            11|\n",
      "+--------------------+--------------+\n",
      "only showing top 20 rows\n",
      "\n"
     ]
    }
   ],
   "source": [
    "df2.filter(df2['(ordered + 10)']>10).show()"
   ]
  },
  {
   "cell_type": "code",
   "execution_count": 11,
   "metadata": {
    "execution": {
     "iopub.execute_input": "2021-01-16T23:22:09.197757Z",
     "iopub.status.busy": "2021-01-16T23:22:09.196697Z",
     "iopub.status.idle": "2021-01-16T23:22:14.230639Z",
     "shell.execute_reply": "2021-01-16T23:22:14.229229Z"
    },
    "papermill": {
     "duration": 5.191614,
     "end_time": "2021-01-16T23:22:14.230808",
     "exception": false,
     "start_time": "2021-01-16T23:22:09.039194",
     "status": "completed"
    },
    "tags": []
   },
   "outputs": [
    {
     "name": "stdout",
     "output_type": "stream",
     "text": [
      "+--------------+------+\n",
      "|returning_user| count|\n",
      "+--------------+------+\n",
      "|             1|323867|\n",
      "|             0|283189|\n",
      "+--------------+------+\n",
      "\n"
     ]
    }
   ],
   "source": [
    "#Show count of every single User\n",
    "df4=data.select(\"UserId\",\"returning_user\")\n",
    "df4.groupby(df4['returning_user']).count().show(5)"
   ]
  },
  {
   "cell_type": "code",
   "execution_count": 12,
   "metadata": {
    "execution": {
     "iopub.execute_input": "2021-01-16T23:22:14.535777Z",
     "iopub.status.busy": "2021-01-16T23:22:14.534829Z",
     "iopub.status.idle": "2021-01-16T23:22:15.475013Z",
     "shell.execute_reply": "2021-01-16T23:22:15.476744Z"
    },
    "papermill": {
     "duration": 1.091407,
     "end_time": "2021-01-16T23:22:15.476977",
     "exception": false,
     "start_time": "2021-01-16T23:22:14.385570",
     "status": "completed"
    },
    "tags": []
   },
   "outputs": [
    {
     "name": "stdout",
     "output_type": "stream",
     "text": [
      "+--------------------+--------------+---------------+\n",
      "|              UserId|returning_user|basket_add_list|\n",
      "+--------------------+--------------+---------------+\n",
      "|a720-6b732349-a72...|             0|              0|\n",
      "|a0c0-6b73247c-a0c...|             0|              0|\n",
      "|86a8-6b735c67-86a...|             1|              0|\n",
      "|6a3d-6b736346-6a3...|             1|              0|\n",
      "|b74a-6b737717-b74...|             0|              1|\n",
      "+--------------------+--------------+---------------+\n",
      "only showing top 5 rows\n",
      "\n",
      "+--------------------+\n",
      "|              UserId|\n",
      "+--------------------+\n",
      "|a720-6b732349-a72...|\n",
      "|a0c0-6b73247c-a0c...|\n",
      "|86a8-6b735c67-86a...|\n",
      "|6a3d-6b736346-6a3...|\n",
      "|b74a-6b737717-b74...|\n",
      "+--------------------+\n",
      "only showing top 5 rows\n",
      "\n",
      "+--------------------+--------------+\n",
      "|              UserId|returning_user|\n",
      "+--------------------+--------------+\n",
      "|86a8-6b735c67-86a...|             1|\n",
      "|6a3d-6b736346-6a3...|             1|\n",
      "|b159-6b73a0d6-b15...|             1|\n",
      "|7775-6b73b976-777...|             1|\n",
      "|4135-6b73ba04-413...|             1|\n",
      "|4b8a-6b74bd36-4b8...|             1|\n",
      "|6005-6b755dd8-600...|             1|\n",
      "|9675-6b75c307-967...|             1|\n",
      "|3763-6b7641ba-376...|             1|\n",
      "|7009-6b768104-700...|             1|\n",
      "+--------------------+--------------+\n",
      "only showing top 10 rows\n",
      "\n"
     ]
    }
   ],
   "source": [
    "#Manipulate data using SQL\n",
    "df5=data.select(\"UserId\",'returning_user',\"basket_add_list\")\n",
    "df5.show(5)\n",
    "\n",
    "#create temporary view of SQL\n",
    "df5.createOrReplaceTempView('df5sql')\n",
    "\n",
    "#Take the User Id Column\n",
    "user=spark.sql(\"SELECT UserId FROM df5sql\")\n",
    "user.show(5)\n",
    "\n",
    "#filter by user\n",
    "user2=spark.sql(\"SELECT UserId, returning_user FROM df5sql WHERE returning_user =1\")\n",
    "user2.show(10)"
   ]
  },
  {
   "cell_type": "code",
   "execution_count": null,
   "metadata": {
    "papermill": {
     "duration": 0.219666,
     "end_time": "2021-01-16T23:22:15.937622",
     "exception": false,
     "start_time": "2021-01-16T23:22:15.717956",
     "status": "completed"
    },
    "tags": []
   },
   "outputs": [],
   "source": []
  }
 ],
 "metadata": {
  "kernelspec": {
   "display_name": "Python 3",
   "language": "python",
   "name": "python3"
  },
  "language_info": {
   "codemirror_mode": {
    "name": "ipython",
    "version": 3
   },
   "file_extension": ".py",
   "mimetype": "text/x-python",
   "name": "python",
   "nbconvert_exporter": "python",
   "pygments_lexer": "ipython3",
   "version": "3.7.6"
  },
  "papermill": {
   "duration": 75.604902,
   "end_time": "2021-01-16T23:22:16.192818",
   "environment_variables": {},
   "exception": null,
   "input_path": "__notebook__.ipynb",
   "output_path": "__notebook__.ipynb",
   "parameters": {},
   "start_time": "2021-01-16T23:21:00.587916",
   "version": "2.1.0"
  }
 },
 "nbformat": 4,
 "nbformat_minor": 4
}
