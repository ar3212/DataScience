{
 "cells": [
  {
   "cell_type": "code",
   "execution_count": 1,
   "metadata": {
    "_cell_guid": "b1076dfc-b9ad-4769-8c92-a6c4dae69d19",
    "_uuid": "8f2839f25d086af736a60e9eeb907d3b93b6e0e5",
    "execution": {
     "iopub.execute_input": "2021-01-15T10:23:44.403763Z",
     "iopub.status.busy": "2021-01-15T10:23:44.403059Z",
     "iopub.status.idle": "2021-01-15T10:23:44.413496Z",
     "shell.execute_reply": "2021-01-15T10:23:44.414361Z"
    },
    "papermill": {
     "duration": 0.028286,
     "end_time": "2021-01-15T10:23:44.414555",
     "exception": false,
     "start_time": "2021-01-15T10:23:44.386269",
     "status": "completed"
    },
    "tags": []
   },
   "outputs": [
    {
     "name": "stdout",
     "output_type": "stream",
     "text": [
      "/kaggle/input/data-customers/customers.csv\n"
     ]
    }
   ],
   "source": [
    "# This Python 3 environment comes with many helpful analytics libraries installed\n",
    "# It is defined by the kaggle/python Docker image: https://github.com/kaggle/docker-python\n",
    "# For example, here's several helpful packages to load\n",
    "\n",
    "import numpy as np # linear algebra\n",
    "import pandas as pd # data processing, CSV file I/O (e.g. pd.read_csv)\n",
    "\n",
    "# Input data files are available in the read-only \"../input/\" directory\n",
    "# For example, running this (by clicking run or pressing Shift+Enter) will list all files under the input directory\n",
    "\n",
    "import os\n",
    "for dirname, _, filenames in os.walk('/kaggle/input'):\n",
    "    for filename in filenames:\n",
    "        print(os.path.join(dirname, filename))\n",
    "\n",
    "# You can write up to 20GB to the current directory (/kaggle/working/) that gets preserved as output when you create a version using \"Save & Run All\" \n",
    "# You can also write temporary files to /kaggle/temp/, but they won't be saved outside of the current session"
   ]
  },
  {
   "cell_type": "code",
   "execution_count": 2,
   "metadata": {
    "_cell_guid": "79c7e3d0-c299-4dcb-8224-4455121ee9b0",
    "_uuid": "d629ff2d2480ee46fbb7e2d37f6b5fab8052498a",
    "execution": {
     "iopub.execute_input": "2021-01-15T10:23:44.444148Z",
     "iopub.status.busy": "2021-01-15T10:23:44.443346Z",
     "iopub.status.idle": "2021-01-15T10:24:26.607160Z",
     "shell.execute_reply": "2021-01-15T10:24:26.606280Z"
    },
    "papermill": {
     "duration": 42.178562,
     "end_time": "2021-01-15T10:24:26.607325",
     "exception": false,
     "start_time": "2021-01-15T10:23:44.428763",
     "status": "completed"
    },
    "tags": []
   },
   "outputs": [
    {
     "name": "stdout",
     "output_type": "stream",
     "text": [
      "Collecting pyspark\r\n",
      "  Downloading pyspark-3.0.1.tar.gz (204.2 MB)\r\n",
      "\u001b[K     |████████████████████████████████| 204.2 MB 35 kB/s \r\n",
      "\u001b[?25hCollecting py4j==0.10.9\r\n",
      "  Downloading py4j-0.10.9-py2.py3-none-any.whl (198 kB)\r\n",
      "\u001b[K     |████████████████████████████████| 198 kB 40.4 MB/s \r\n",
      "\u001b[?25hBuilding wheels for collected packages: pyspark\r\n",
      "  Building wheel for pyspark (setup.py) ... \u001b[?25l-\b \b\\\b \b|\b \b/\b \b-\b \b\\\b \b|\b \b/\b \b-\b \b\\\b \b|\b \b/\b \b-\b \b\\\b \b|\b \b/\b \b-\b \b\\\b \b|\b \b/\b \b-\b \b\\\b \b|\b \b/\b \b-\b \b\\\b \b|\b \b/\b \b-\b \b\\\b \b|\b \b/\b \b-\b \b\\\b \b|\b \b/\b \b-\b \b\\\b \b|\b \b/\b \b-\b \b\\\b \b|\b \b/\b \b-\b \b\\\b \b|\b \b/\b \b-\b \b\\\b \b|\b \b/\b \b-\b \b\\\b \b|\b \bdone\r\n",
      "\u001b[?25h  Created wheel for pyspark: filename=pyspark-3.0.1-py2.py3-none-any.whl size=204612244 sha256=7654ea1e846c026f7ed1fe29d534dab14a8355551d6193d578a7846f6cfd1816\r\n",
      "  Stored in directory: /root/.cache/pip/wheels/5e/34/fa/b37b5cef503fc5148b478b2495043ba61b079120b7ff379f9b\r\n",
      "Successfully built pyspark\r\n",
      "Installing collected packages: py4j, pyspark\r\n",
      "Successfully installed py4j-0.10.9 pyspark-3.0.1\r\n",
      "\u001b[33mWARNING: You are using pip version 20.3.1; however, version 20.3.3 is available.\r\n",
      "You should consider upgrading via the '/opt/conda/bin/python -m pip install --upgrade pip' command.\u001b[0m\r\n",
      "Note: you may need to restart the kernel to use updated packages.\n"
     ]
    }
   ],
   "source": [
    "pip install pyspark"
   ]
  },
  {
   "cell_type": "code",
   "execution_count": 3,
   "metadata": {
    "execution": {
     "iopub.execute_input": "2021-01-15T10:24:26.856963Z",
     "iopub.status.busy": "2021-01-15T10:24:26.856357Z",
     "iopub.status.idle": "2021-01-15T10:24:27.271112Z",
     "shell.execute_reply": "2021-01-15T10:24:27.270454Z"
    },
    "papermill": {
     "duration": 0.540533,
     "end_time": "2021-01-15T10:24:27.271222",
     "exception": false,
     "start_time": "2021-01-15T10:24:26.730689",
     "status": "completed"
    },
    "tags": []
   },
   "outputs": [],
   "source": [
    "#Mari kita import Packagenya.\n",
    "from pyspark.sql import SparkSession\n",
    "from pyspark.ml.clustering import KMeans\n",
    "from pyspark.ml.feature import VectorAssembler"
   ]
  },
  {
   "cell_type": "code",
   "execution_count": 4,
   "metadata": {
    "execution": {
     "iopub.execute_input": "2021-01-15T10:24:27.517795Z",
     "iopub.status.busy": "2021-01-15T10:24:27.517121Z",
     "iopub.status.idle": "2021-01-15T10:24:34.420211Z",
     "shell.execute_reply": "2021-01-15T10:24:34.419370Z"
    },
    "papermill": {
     "duration": 7.028937,
     "end_time": "2021-01-15T10:24:34.420439",
     "exception": false,
     "start_time": "2021-01-15T10:24:27.391502",
     "status": "completed"
    },
    "tags": []
   },
   "outputs": [
    {
     "data": {
      "text/html": [
       "\n",
       "        <div>\n",
       "            <p><b>SparkContext</b></p>\n",
       "\n",
       "            <p><a href=\"http://4511a79c2538:4040\">Spark UI</a></p>\n",
       "\n",
       "            <dl>\n",
       "              <dt>Version</dt>\n",
       "                <dd><code>v3.0.1</code></dd>\n",
       "              <dt>Master</dt>\n",
       "                <dd><code>local</code></dd>\n",
       "              <dt>AppName</dt>\n",
       "                <dd><code>Cluatering dengan Spark</code></dd>\n",
       "            </dl>\n",
       "        </div>\n",
       "        "
      ],
      "text/plain": [
       "<SparkContext master=local appName=Cluatering dengan Spark>"
      ]
     },
     "execution_count": 4,
     "metadata": {},
     "output_type": "execute_result"
    }
   ],
   "source": [
    "#Buat Sesi terlebih dahulu\n",
    "\n",
    "appName=\"Cluatering dengan Spark\"\n",
    "spark=SparkSession.builder.master(\"local\").appName(appName).getOrCreate()\n",
    "sc=spark.sparkContext\n",
    "sc\n"
   ]
  },
  {
   "cell_type": "code",
   "execution_count": 5,
   "metadata": {
    "execution": {
     "iopub.execute_input": "2021-01-15T10:24:34.681108Z",
     "iopub.status.busy": "2021-01-15T10:24:34.680180Z",
     "iopub.status.idle": "2021-01-15T10:24:40.909450Z",
     "shell.execute_reply": "2021-01-15T10:24:40.909991Z"
    },
    "papermill": {
     "duration": 6.359519,
     "end_time": "2021-01-15T10:24:40.910134",
     "exception": false,
     "start_time": "2021-01-15T10:24:34.550615",
     "status": "completed"
    },
    "tags": []
   },
   "outputs": [
    {
     "name": "stdout",
     "output_type": "stream",
     "text": [
      "+---------------+---+-------------+-----------+------+-------------+--------------+---------+----------+---------+----+\n",
      "|   CustomerName|Age|MaritalStatus|IncomeRange|Gender|TotalChildren|ChildrenAtHome|Education|Occupation|HomeOwner|Cars|\n",
      "+---------------+---+-------------+-----------+------+-------------+--------------+---------+----------+---------+----+\n",
      "|    Aaron Adams| 42|            0|      50000|     0|            0|             0|        3|         2|        1|   1|\n",
      "|Aaron Alexander| 40|            1|      50000|     0|            0|             0|        2|         2|        1|   2|\n",
      "|    Aaron Allen| 63|            0|      25000|     0|            2|             1|        2|         1|        1|   2|\n",
      "|    Aaron Baker| 56|            1|      50000|     0|            4|             2|        2|         2|        1|   2|\n",
      "|   Aaron Bryant| 72|            0|      75000|     0|            4|             0|        4|         4|        1|   2|\n",
      "+---------------+---+-------------+-----------+------+-------------+--------------+---------+----------+---------+----+\n",
      "only showing top 5 rows\n",
      "\n"
     ]
    }
   ],
   "source": [
    "#Load dataset\n",
    "customers=spark.read.csv('../input/data-customers', inferSchema=True, header=True)\n",
    "customers.show(5)"
   ]
  },
  {
   "cell_type": "code",
   "execution_count": 6,
   "metadata": {
    "execution": {
     "iopub.execute_input": "2021-01-15T10:24:41.189422Z",
     "iopub.status.busy": "2021-01-15T10:24:41.188542Z",
     "iopub.status.idle": "2021-01-15T10:24:42.003845Z",
     "shell.execute_reply": "2021-01-15T10:24:42.002857Z"
    },
    "papermill": {
     "duration": 0.943386,
     "end_time": "2021-01-15T10:24:42.004016",
     "exception": false,
     "start_time": "2021-01-15T10:24:41.060630",
     "status": "completed"
    },
    "tags": []
   },
   "outputs": [
    {
     "name": "stdout",
     "output_type": "stream",
     "text": [
      "+---------------+----------------------------------------------+\n",
      "|CustomerName   |features                                      |\n",
      "+---------------+----------------------------------------------+\n",
      "|Aaron Adams    |[42.0,0.0,50000.0,0.0,0.0,0.0,3.0,2.0,1.0,1.0]|\n",
      "|Aaron Alexander|[40.0,1.0,50000.0,0.0,0.0,0.0,2.0,2.0,1.0,2.0]|\n",
      "|Aaron Allen    |[63.0,0.0,25000.0,0.0,2.0,1.0,2.0,1.0,1.0,2.0]|\n",
      "+---------------+----------------------------------------------+\n",
      "only showing top 3 rows\n",
      "\n"
     ]
    }
   ],
   "source": [
    "#Melakukan feature engineering\n",
    "assembler=VectorAssembler(inputCols=[\"Age\",\"MaritalStatus\", \"IncomeRange\",\"Gender\",\"TotalChildren\",\"ChildrenAtHome\",\"Education\",\"Occupation\",\"HomeOwner\",\"Cars\"], outputCol=\"features\")\n",
    "train=assembler.transform(customers).select(\"CustomerName\",\"features\")\n",
    "train.show(truncate=False,n=3)\n"
   ]
  },
  {
   "cell_type": "code",
   "execution_count": 7,
   "metadata": {
    "execution": {
     "iopub.execute_input": "2021-01-15T10:24:42.297023Z",
     "iopub.status.busy": "2021-01-15T10:24:42.296418Z",
     "iopub.status.idle": "2021-01-15T10:24:48.941831Z",
     "shell.execute_reply": "2021-01-15T10:24:48.941083Z"
    },
    "papermill": {
     "duration": 6.778592,
     "end_time": "2021-01-15T10:24:48.941978",
     "exception": false,
     "start_time": "2021-01-15T10:24:42.163386",
     "status": "completed"
    },
    "tags": []
   },
   "outputs": [
    {
     "name": "stdout",
     "output_type": "stream",
     "text": [
      "Model Trained\n"
     ]
    }
   ],
   "source": [
    "#Membuat Modelnya disini menggunakan K=5\n",
    "kmeans=KMeans(featuresCol=assembler.getOutputCol(),predictionCol=\"cluster\", k=5, seed=0)\n",
    "\n",
    "#Training Model\n",
    "model=kmeans.fit(train)\n",
    "print(\"Model Trained\")"
   ]
  },
  {
   "cell_type": "code",
   "execution_count": 8,
   "metadata": {
    "execution": {
     "iopub.execute_input": "2021-01-15T10:24:49.200945Z",
     "iopub.status.busy": "2021-01-15T10:24:49.200089Z",
     "iopub.status.idle": "2021-01-15T10:24:49.241872Z",
     "shell.execute_reply": "2021-01-15T10:24:49.240876Z"
    },
    "papermill": {
     "duration": 0.168841,
     "end_time": "2021-01-15T10:24:49.242005",
     "exception": false,
     "start_time": "2021-01-15T10:24:49.073164",
     "status": "completed"
    },
    "tags": []
   },
   "outputs": [
    {
     "name": "stdout",
     "output_type": "stream",
     "text": [
      "Cluster Centers: \n",
      "[5.31013005e+01 4.17180014e-01 2.50000000e+04 4.80492813e-01\n",
      " 1.41512663e+00 6.08487337e-01 2.31622177e+00 1.45448323e+00\n",
      " 5.93086927e-01 1.11464750e+00]\n",
      "[5.53417813e+01 5.72411296e-01 1.00000000e+05 4.97103548e-01\n",
      " 2.54380883e+00 1.54272266e+00 3.46198407e+00 4.19116582e+00\n",
      " 7.16509776e-01 1.94532947e+00]\n",
      "[5.19737441e+01 5.26868545e-01 5.00000000e+04 4.93961141e-01\n",
      " 1.34552774e+00 4.98337126e-01 3.23035183e+00 2.77927534e+00\n",
      " 6.62699107e-01 1.14615789e+00]\n",
      "[5.60711289e+01 5.83804487e-01 7.50000000e+04 5.03921211e-01\n",
      " 2.17308043e+00 8.16706183e-01 3.73244574e+00 3.92759438e+00\n",
      " 7.23326646e-01 1.38063104e+00]\n",
      "[5.82794840e+01 6.22850123e-01 1.50000000e+05 4.79729730e-01\n",
      " 2.07248157e+00 3.20638821e+00 3.41461916e+00 4.34705160e+00\n",
      " 6.48648649e-01 3.10995086e+00]\n"
     ]
    }
   ],
   "source": [
    "#Mencari Nilai Tengah\n",
    "centers = model.clusterCenters()\n",
    "print(\"Cluster Centers: \")\n",
    "for center in centers:\n",
    "    print(center)"
   ]
  },
  {
   "cell_type": "code",
   "execution_count": 9,
   "metadata": {
    "execution": {
     "iopub.execute_input": "2021-01-15T10:24:49.493129Z",
     "iopub.status.busy": "2021-01-15T10:24:49.492461Z",
     "iopub.status.idle": "2021-01-15T10:24:52.105240Z",
     "shell.execute_reply": "2021-01-15T10:24:52.105966Z"
    },
    "papermill": {
     "duration": 2.742387,
     "end_time": "2021-01-15T10:24:52.106141",
     "exception": false,
     "start_time": "2021-01-15T10:24:49.363754",
     "status": "completed"
    },
    "tags": []
   },
   "outputs": [
    {
     "name": "stdout",
     "output_type": "stream",
     "text": [
      "+-------+-----+\n",
      "|cluster|count|\n",
      "+-------+-----+\n",
      "|      0| 2922|\n",
      "|      1| 2762|\n",
      "|      2| 5713|\n",
      "|      3| 5483|\n",
      "|      4| 1628|\n",
      "+-------+-----+\n",
      "\n",
      "+---------------+-------+\n",
      "|   CustomerName|cluster|\n",
      "+---------------+-------+\n",
      "|    Aaron Adams|      2|\n",
      "|Aaron Alexander|      2|\n",
      "|    Aaron Allen|      0|\n",
      "|    Aaron Baker|      2|\n",
      "|   Aaron Bryant|      3|\n",
      "+---------------+-------+\n",
      "only showing top 5 rows\n",
      "\n"
     ]
    }
   ],
   "source": [
    "#Prediksi\n",
    "prediction = model.transform(train)#melakukan prediksi klaster\n",
    "prediction.groupBy(\"cluster\").count().orderBy(\"cluster\").show()\n",
    "prediction.select('CustomerName', 'cluster').show(5)#menampilkan 5 data hasil prediksi"
   ]
  }
 ],
 "metadata": {
  "kernelspec": {
   "display_name": "Python 3",
   "language": "python",
   "name": "python3"
  },
  "language_info": {
   "codemirror_mode": {
    "name": "ipython",
    "version": 3
   },
   "file_extension": ".py",
   "mimetype": "text/x-python",
   "name": "python",
   "nbconvert_exporter": "python",
   "pygments_lexer": "ipython3",
   "version": "3.7.6"
  },
  "papermill": {
   "duration": 73.643856,
   "end_time": "2021-01-15T10:24:52.408205",
   "environment_variables": {},
   "exception": null,
   "input_path": "__notebook__.ipynb",
   "output_path": "__notebook__.ipynb",
   "parameters": {},
   "start_time": "2021-01-15T10:23:38.764349",
   "version": "2.1.0"
  }
 },
 "nbformat": 4,
 "nbformat_minor": 4
}
