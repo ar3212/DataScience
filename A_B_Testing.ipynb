{
  "nbformat": 4,
  "nbformat_minor": 0,
  "metadata": {
    "colab": {
      "name": "A/B Testing.ipynb",
      "provenance": [],
      "authorship_tag": "ABX9TyPAUBHkhzvMJshyYMajnmLT",
      "include_colab_link": true
    },
    "kernelspec": {
      "name": "python3",
      "display_name": "Python 3"
    }
  },
  "cells": [
    {
      "cell_type": "markdown",
      "metadata": {
        "id": "view-in-github",
        "colab_type": "text"
      },
      "source": [
        "<a href=\"https://colab.research.google.com/github/zar7364/DataScience/blob/main/A_B_Testing.ipynb\" target=\"_parent\"><img src=\"https://colab.research.google.com/assets/colab-badge.svg\" alt=\"Open In Colab\"/></a>"
      ]
    },
    {
      "cell_type": "code",
      "metadata": {
        "id": "tPqVgjHpgLYN"
      },
      "source": [
        "from google.colab import drive"
      ],
      "execution_count": 1,
      "outputs": []
    },
    {
      "cell_type": "code",
      "metadata": {
        "colab": {
          "base_uri": "https://localhost:8080/"
        },
        "id": "S_1DgwRogSIt",
        "outputId": "088e1df6-50b7-485d-9a29-6f1175243951"
      },
      "source": [
        "drive.mount(\"/content/drive/\")"
      ],
      "execution_count": 3,
      "outputs": [
        {
          "output_type": "stream",
          "text": [
            "Mounted at /content/drive/\n"
          ],
          "name": "stdout"
        }
      ]
    },
    {
      "cell_type": "code",
      "metadata": {
        "id": "_-1X6n1bgijp"
      },
      "source": [
        "data=(\"/content/drive/My Drive/Colab Notebooks/A-B StatisticalTesting/ab_data.csv\")"
      ],
      "execution_count": 4,
      "outputs": []
    },
    {
      "cell_type": "code",
      "metadata": {
        "id": "5dSzwU6Dg_Vx"
      },
      "source": [
        "import pandas as pd"
      ],
      "execution_count": 5,
      "outputs": []
    },
    {
      "cell_type": "code",
      "metadata": {
        "colab": {
          "base_uri": "https://localhost:8080/",
          "height": 424
        },
        "id": "XkNn5hQ0hA3r",
        "outputId": "c501f4be-dae1-4dcd-fdbf-4f203b1f867f"
      },
      "source": [
        "df=pd.read_csv(data)\r\n",
        "df"
      ],
      "execution_count": 7,
      "outputs": [
        {
          "output_type": "execute_result",
          "data": {
            "text/html": [
              "<div>\n",
              "<style scoped>\n",
              "    .dataframe tbody tr th:only-of-type {\n",
              "        vertical-align: middle;\n",
              "    }\n",
              "\n",
              "    .dataframe tbody tr th {\n",
              "        vertical-align: top;\n",
              "    }\n",
              "\n",
              "    .dataframe thead th {\n",
              "        text-align: right;\n",
              "    }\n",
              "</style>\n",
              "<table border=\"1\" class=\"dataframe\">\n",
              "  <thead>\n",
              "    <tr style=\"text-align: right;\">\n",
              "      <th></th>\n",
              "      <th>user_id</th>\n",
              "      <th>timestamp</th>\n",
              "      <th>group</th>\n",
              "      <th>landing_page</th>\n",
              "      <th>converted</th>\n",
              "    </tr>\n",
              "  </thead>\n",
              "  <tbody>\n",
              "    <tr>\n",
              "      <th>0</th>\n",
              "      <td>851104</td>\n",
              "      <td>2017-01-21 22:11:48.556739</td>\n",
              "      <td>control</td>\n",
              "      <td>old_page</td>\n",
              "      <td>0</td>\n",
              "    </tr>\n",
              "    <tr>\n",
              "      <th>1</th>\n",
              "      <td>804228</td>\n",
              "      <td>2017-01-12 08:01:45.159739</td>\n",
              "      <td>control</td>\n",
              "      <td>old_page</td>\n",
              "      <td>0</td>\n",
              "    </tr>\n",
              "    <tr>\n",
              "      <th>2</th>\n",
              "      <td>661590</td>\n",
              "      <td>2017-01-11 16:55:06.154213</td>\n",
              "      <td>treatment</td>\n",
              "      <td>new_page</td>\n",
              "      <td>0</td>\n",
              "    </tr>\n",
              "    <tr>\n",
              "      <th>3</th>\n",
              "      <td>853541</td>\n",
              "      <td>2017-01-08 18:28:03.143765</td>\n",
              "      <td>treatment</td>\n",
              "      <td>new_page</td>\n",
              "      <td>0</td>\n",
              "    </tr>\n",
              "    <tr>\n",
              "      <th>4</th>\n",
              "      <td>864975</td>\n",
              "      <td>2017-01-21 01:52:26.210827</td>\n",
              "      <td>control</td>\n",
              "      <td>old_page</td>\n",
              "      <td>1</td>\n",
              "    </tr>\n",
              "    <tr>\n",
              "      <th>...</th>\n",
              "      <td>...</td>\n",
              "      <td>...</td>\n",
              "      <td>...</td>\n",
              "      <td>...</td>\n",
              "      <td>...</td>\n",
              "    </tr>\n",
              "    <tr>\n",
              "      <th>294473</th>\n",
              "      <td>751197</td>\n",
              "      <td>2017-01-03 22:28:38.630509</td>\n",
              "      <td>control</td>\n",
              "      <td>old_page</td>\n",
              "      <td>0</td>\n",
              "    </tr>\n",
              "    <tr>\n",
              "      <th>294474</th>\n",
              "      <td>945152</td>\n",
              "      <td>2017-01-12 00:51:57.078372</td>\n",
              "      <td>control</td>\n",
              "      <td>old_page</td>\n",
              "      <td>0</td>\n",
              "    </tr>\n",
              "    <tr>\n",
              "      <th>294475</th>\n",
              "      <td>734608</td>\n",
              "      <td>2017-01-22 11:45:03.439544</td>\n",
              "      <td>control</td>\n",
              "      <td>old_page</td>\n",
              "      <td>0</td>\n",
              "    </tr>\n",
              "    <tr>\n",
              "      <th>294476</th>\n",
              "      <td>697314</td>\n",
              "      <td>2017-01-15 01:20:28.957438</td>\n",
              "      <td>control</td>\n",
              "      <td>old_page</td>\n",
              "      <td>0</td>\n",
              "    </tr>\n",
              "    <tr>\n",
              "      <th>294477</th>\n",
              "      <td>715931</td>\n",
              "      <td>2017-01-16 12:40:24.467417</td>\n",
              "      <td>treatment</td>\n",
              "      <td>new_page</td>\n",
              "      <td>0</td>\n",
              "    </tr>\n",
              "  </tbody>\n",
              "</table>\n",
              "<p>294478 rows × 5 columns</p>\n",
              "</div>"
            ],
            "text/plain": [
              "        user_id                   timestamp      group landing_page  converted\n",
              "0        851104  2017-01-21 22:11:48.556739    control     old_page          0\n",
              "1        804228  2017-01-12 08:01:45.159739    control     old_page          0\n",
              "2        661590  2017-01-11 16:55:06.154213  treatment     new_page          0\n",
              "3        853541  2017-01-08 18:28:03.143765  treatment     new_page          0\n",
              "4        864975  2017-01-21 01:52:26.210827    control     old_page          1\n",
              "...         ...                         ...        ...          ...        ...\n",
              "294473   751197  2017-01-03 22:28:38.630509    control     old_page          0\n",
              "294474   945152  2017-01-12 00:51:57.078372    control     old_page          0\n",
              "294475   734608  2017-01-22 11:45:03.439544    control     old_page          0\n",
              "294476   697314  2017-01-15 01:20:28.957438    control     old_page          0\n",
              "294477   715931  2017-01-16 12:40:24.467417  treatment     new_page          0\n",
              "\n",
              "[294478 rows x 5 columns]"
            ]
          },
          "metadata": {
            "tags": []
          },
          "execution_count": 7
        }
      ]
    },
    {
      "cell_type": "code",
      "metadata": {
        "id": "hVq7b-hChG-2"
      },
      "source": [
        "#Import Semua Package\r\n",
        "import pandas as pd\r\n",
        "import numpy as np\r\n",
        "import scipy.stats as stats\r\n",
        "import statsmodels.stats.api as sms\r\n",
        "import matplotlib as mlp\r\n",
        "import matplotlib.pyplot as plt\r\n",
        "import seaborn as sns\r\n",
        "from math import ceil\r\n"
      ],
      "execution_count": 31,
      "outputs": []
    },
    {
      "cell_type": "code",
      "metadata": {
        "id": "fvEYfTFovIfd"
      },
      "source": [
        "effect_size = sms.proportion_effectsize(0.13, 0.15)    # Calculating effect size based on our expected rates\r\n",
        "required_n = sms.NormalIndPower().solve_power(\r\n",
        "    effect_size, \r\n",
        "    power=0.8, \r\n",
        "    alpha=0.05, \r\n",
        "    ratio=1\r\n",
        "    )                                                  # Calculating sample size needed\r\n",
        "\r\n",
        "\r\n",
        "required_n = ceil(required_n)                          # Rounding up to next whole number                          \r\n"
      ],
      "execution_count": 32,
      "outputs": []
    },
    {
      "cell_type": "code",
      "metadata": {
        "colab": {
          "base_uri": "https://localhost:8080/"
        },
        "id": "t2PmoOvhuNdn",
        "outputId": "d28b126a-7b77-4663-ecba-eec5da585b84"
      },
      "source": [
        "df.info()"
      ],
      "execution_count": 21,
      "outputs": [
        {
          "output_type": "stream",
          "text": [
            "<class 'pandas.core.frame.DataFrame'>\n",
            "RangeIndex: 294478 entries, 0 to 294477\n",
            "Data columns (total 5 columns):\n",
            " #   Column        Non-Null Count   Dtype \n",
            "---  ------        --------------   ----- \n",
            " 0   user_id       294478 non-null  int64 \n",
            " 1   timestamp     294478 non-null  object\n",
            " 2   group         294478 non-null  object\n",
            " 3   landing_page  294478 non-null  object\n",
            " 4   converted     294478 non-null  int64 \n",
            "dtypes: int64(2), object(3)\n",
            "memory usage: 11.2+ MB\n"
          ],
          "name": "stdout"
        }
      ]
    },
    {
      "cell_type": "code",
      "metadata": {
        "colab": {
          "base_uri": "https://localhost:8080/",
          "height": 144
        },
        "id": "Vh7GBC09uRRW",
        "outputId": "90212c76-c33c-461c-d760-550987832d7e"
      },
      "source": [
        "# To make sure all the control group are seeing the old page and viceversa\r\n",
        "\r\n",
        "pd.crosstab(df['group'], df['landing_page'])"
      ],
      "execution_count": 22,
      "outputs": [
        {
          "output_type": "execute_result",
          "data": {
            "text/html": [
              "<div>\n",
              "<style scoped>\n",
              "    .dataframe tbody tr th:only-of-type {\n",
              "        vertical-align: middle;\n",
              "    }\n",
              "\n",
              "    .dataframe tbody tr th {\n",
              "        vertical-align: top;\n",
              "    }\n",
              "\n",
              "    .dataframe thead th {\n",
              "        text-align: right;\n",
              "    }\n",
              "</style>\n",
              "<table border=\"1\" class=\"dataframe\">\n",
              "  <thead>\n",
              "    <tr style=\"text-align: right;\">\n",
              "      <th>landing_page</th>\n",
              "      <th>new_page</th>\n",
              "      <th>old_page</th>\n",
              "    </tr>\n",
              "    <tr>\n",
              "      <th>group</th>\n",
              "      <th></th>\n",
              "      <th></th>\n",
              "    </tr>\n",
              "  </thead>\n",
              "  <tbody>\n",
              "    <tr>\n",
              "      <th>control</th>\n",
              "      <td>1928</td>\n",
              "      <td>145274</td>\n",
              "    </tr>\n",
              "    <tr>\n",
              "      <th>treatment</th>\n",
              "      <td>145311</td>\n",
              "      <td>1965</td>\n",
              "    </tr>\n",
              "  </tbody>\n",
              "</table>\n",
              "</div>"
            ],
            "text/plain": [
              "landing_page  new_page  old_page\n",
              "group                           \n",
              "control           1928    145274\n",
              "treatment       145311      1965"
            ]
          },
          "metadata": {
            "tags": []
          },
          "execution_count": 22
        }
      ]
    },
    {
      "cell_type": "code",
      "metadata": {
        "colab": {
          "base_uri": "https://localhost:8080/"
        },
        "id": "iNt2XzxXuVC6",
        "outputId": "31db3e70-bae3-4877-8ace-2f1296914882"
      },
      "source": [
        "session_counts = df['user_id'].value_counts(ascending=False)\r\n",
        "multi_users = session_counts[session_counts > 1].count()\r\n",
        "\r\n",
        "print(f'There are {multi_users} users that appear multiple times in the dataset')"
      ],
      "execution_count": 24,
      "outputs": [
        {
          "output_type": "stream",
          "text": [
            "There are 3894 users that appear multiple times in the dataset\n"
          ],
          "name": "stdout"
        }
      ]
    },
    {
      "cell_type": "code",
      "metadata": {
        "colab": {
          "base_uri": "https://localhost:8080/"
        },
        "id": "IAa7JoZfuaAB",
        "outputId": "2ec00a05-7cb7-4637-cc1c-2691bf4322fc"
      },
      "source": [
        "users_to_drop = session_counts[session_counts > 1].index\r\n",
        "\r\n",
        "df = df[~df['user_id'].isin(users_to_drop)]\r\n",
        "print(f'The updated dataset now has {df.shape[0]} entries')"
      ],
      "execution_count": 25,
      "outputs": [
        {
          "output_type": "stream",
          "text": [
            "The updated dataset now has 286690 entries\n"
          ],
          "name": "stdout"
        }
      ]
    },
    {
      "cell_type": "code",
      "metadata": {
        "id": "vPTZYc_Mu7pb"
      },
      "source": [
        "#Sampling\r\n",
        "\r\n",
        "control_sample = df[df['group'] == 'control'].sample(n=required_n, random_state=22)\r\n",
        "treatment_sample = df[df['group'] == 'treatment'].sample(n=required_n, random_state=22)\r\n",
        "\r\n",
        "ab_test = pd.concat([control_sample, treatment_sample], axis=0)\r\n",
        "ab_test.reset_index(drop=True, inplace=True)"
      ],
      "execution_count": 33,
      "outputs": []
    },
    {
      "cell_type": "code",
      "metadata": {
        "colab": {
          "base_uri": "https://localhost:8080/",
          "height": 424
        },
        "id": "xXUXD2_-vqvu",
        "outputId": "e76e2d9b-8bf5-4413-ce68-25b7480aa19e"
      },
      "source": [
        "ab_test"
      ],
      "execution_count": 35,
      "outputs": [
        {
          "output_type": "execute_result",
          "data": {
            "text/html": [
              "<div>\n",
              "<style scoped>\n",
              "    .dataframe tbody tr th:only-of-type {\n",
              "        vertical-align: middle;\n",
              "    }\n",
              "\n",
              "    .dataframe tbody tr th {\n",
              "        vertical-align: top;\n",
              "    }\n",
              "\n",
              "    .dataframe thead th {\n",
              "        text-align: right;\n",
              "    }\n",
              "</style>\n",
              "<table border=\"1\" class=\"dataframe\">\n",
              "  <thead>\n",
              "    <tr style=\"text-align: right;\">\n",
              "      <th></th>\n",
              "      <th>user_id</th>\n",
              "      <th>timestamp</th>\n",
              "      <th>group</th>\n",
              "      <th>landing_page</th>\n",
              "      <th>converted</th>\n",
              "    </tr>\n",
              "  </thead>\n",
              "  <tbody>\n",
              "    <tr>\n",
              "      <th>0</th>\n",
              "      <td>763854</td>\n",
              "      <td>2017-01-21 03:43:17.188315</td>\n",
              "      <td>control</td>\n",
              "      <td>old_page</td>\n",
              "      <td>0</td>\n",
              "    </tr>\n",
              "    <tr>\n",
              "      <th>1</th>\n",
              "      <td>690555</td>\n",
              "      <td>2017-01-18 06:38:13.079449</td>\n",
              "      <td>control</td>\n",
              "      <td>old_page</td>\n",
              "      <td>0</td>\n",
              "    </tr>\n",
              "    <tr>\n",
              "      <th>2</th>\n",
              "      <td>861520</td>\n",
              "      <td>2017-01-06 21:13:40.044766</td>\n",
              "      <td>control</td>\n",
              "      <td>old_page</td>\n",
              "      <td>0</td>\n",
              "    </tr>\n",
              "    <tr>\n",
              "      <th>3</th>\n",
              "      <td>630778</td>\n",
              "      <td>2017-01-05 16:42:36.995204</td>\n",
              "      <td>control</td>\n",
              "      <td>old_page</td>\n",
              "      <td>0</td>\n",
              "    </tr>\n",
              "    <tr>\n",
              "      <th>4</th>\n",
              "      <td>656634</td>\n",
              "      <td>2017-01-04 15:31:21.676130</td>\n",
              "      <td>control</td>\n",
              "      <td>old_page</td>\n",
              "      <td>0</td>\n",
              "    </tr>\n",
              "    <tr>\n",
              "      <th>...</th>\n",
              "      <td>...</td>\n",
              "      <td>...</td>\n",
              "      <td>...</td>\n",
              "      <td>...</td>\n",
              "      <td>...</td>\n",
              "    </tr>\n",
              "    <tr>\n",
              "      <th>9435</th>\n",
              "      <td>908512</td>\n",
              "      <td>2017-01-14 22:02:29.922674</td>\n",
              "      <td>treatment</td>\n",
              "      <td>new_page</td>\n",
              "      <td>0</td>\n",
              "    </tr>\n",
              "    <tr>\n",
              "      <th>9436</th>\n",
              "      <td>873211</td>\n",
              "      <td>2017-01-05 00:57:16.167151</td>\n",
              "      <td>treatment</td>\n",
              "      <td>new_page</td>\n",
              "      <td>0</td>\n",
              "    </tr>\n",
              "    <tr>\n",
              "      <th>9437</th>\n",
              "      <td>631276</td>\n",
              "      <td>2017-01-20 18:56:58.167809</td>\n",
              "      <td>treatment</td>\n",
              "      <td>new_page</td>\n",
              "      <td>0</td>\n",
              "    </tr>\n",
              "    <tr>\n",
              "      <th>9438</th>\n",
              "      <td>662301</td>\n",
              "      <td>2017-01-03 08:10:57.768806</td>\n",
              "      <td>treatment</td>\n",
              "      <td>new_page</td>\n",
              "      <td>0</td>\n",
              "    </tr>\n",
              "    <tr>\n",
              "      <th>9439</th>\n",
              "      <td>944623</td>\n",
              "      <td>2017-01-19 10:56:01.648653</td>\n",
              "      <td>treatment</td>\n",
              "      <td>new_page</td>\n",
              "      <td>1</td>\n",
              "    </tr>\n",
              "  </tbody>\n",
              "</table>\n",
              "<p>9440 rows × 5 columns</p>\n",
              "</div>"
            ],
            "text/plain": [
              "      user_id                   timestamp      group landing_page  converted\n",
              "0      763854  2017-01-21 03:43:17.188315    control     old_page          0\n",
              "1      690555  2017-01-18 06:38:13.079449    control     old_page          0\n",
              "2      861520  2017-01-06 21:13:40.044766    control     old_page          0\n",
              "3      630778  2017-01-05 16:42:36.995204    control     old_page          0\n",
              "4      656634  2017-01-04 15:31:21.676130    control     old_page          0\n",
              "...       ...                         ...        ...          ...        ...\n",
              "9435   908512  2017-01-14 22:02:29.922674  treatment     new_page          0\n",
              "9436   873211  2017-01-05 00:57:16.167151  treatment     new_page          0\n",
              "9437   631276  2017-01-20 18:56:58.167809  treatment     new_page          0\n",
              "9438   662301  2017-01-03 08:10:57.768806  treatment     new_page          0\n",
              "9439   944623  2017-01-19 10:56:01.648653  treatment     new_page          1\n",
              "\n",
              "[9440 rows x 5 columns]"
            ]
          },
          "metadata": {
            "tags": []
          },
          "execution_count": 35
        }
      ]
    },
    {
      "cell_type": "code",
      "metadata": {
        "colab": {
          "base_uri": "https://localhost:8080/"
        },
        "id": "apkidwa-vsQw",
        "outputId": "bb40f1a9-10c2-45df-ae0e-d3e9c0833233"
      },
      "source": [
        "ab_test.info()"
      ],
      "execution_count": 36,
      "outputs": [
        {
          "output_type": "stream",
          "text": [
            "<class 'pandas.core.frame.DataFrame'>\n",
            "RangeIndex: 9440 entries, 0 to 9439\n",
            "Data columns (total 5 columns):\n",
            " #   Column        Non-Null Count  Dtype \n",
            "---  ------        --------------  ----- \n",
            " 0   user_id       9440 non-null   int64 \n",
            " 1   timestamp     9440 non-null   object\n",
            " 2   group         9440 non-null   object\n",
            " 3   landing_page  9440 non-null   object\n",
            " 4   converted     9440 non-null   int64 \n",
            "dtypes: int64(2), object(3)\n",
            "memory usage: 368.9+ KB\n"
          ],
          "name": "stdout"
        }
      ]
    },
    {
      "cell_type": "code",
      "metadata": {
        "colab": {
          "base_uri": "https://localhost:8080/"
        },
        "id": "2qoJPdCovus-",
        "outputId": "4b7cc6ad-3d72-42e4-d35e-39683f9f3414"
      },
      "source": [
        "ab_test['group'].value_counts()"
      ],
      "execution_count": 38,
      "outputs": [
        {
          "output_type": "execute_result",
          "data": {
            "text/plain": [
              "treatment    4720\n",
              "control      4720\n",
              "Name: group, dtype: int64"
            ]
          },
          "metadata": {
            "tags": []
          },
          "execution_count": 38
        }
      ]
    },
    {
      "cell_type": "code",
      "metadata": {
        "colab": {
          "base_uri": "https://localhost:8080/",
          "height": 104
        },
        "id": "dEpaQl9hvxgW",
        "outputId": "a0ca6f7f-7994-43ef-87b2-edd2a8ea9a1c"
      },
      "source": [
        "#Viz the Result\r\n",
        "\r\n",
        "\r\n",
        "\r\n",
        "conversion_rates = ab_test.groupby('group')['converted']\r\n",
        "\r\n",
        "std_p = lambda x: np.std(x, ddof=0)              # Std. deviation of the proportion\r\n",
        "se_p = lambda x: stats.sem(x, ddof=0)            # Std. error of the proportion (std / sqrt(n))\r\n",
        "\r\n",
        "conversion_rates = conversion_rates.agg([np.mean, std_p, se_p])\r\n",
        "conversion_rates.columns = ['conversion_rate', 'std_deviation', 'std_error']\r\n",
        "\r\n",
        "\r\n",
        "conversion_rates.style.format('{:.3f}')\r\n",
        "\r\n"
      ],
      "execution_count": 39,
      "outputs": [
        {
          "output_type": "execute_result",
          "data": {
            "text/html": [
              "<style  type=\"text/css\" >\n",
              "</style><table id=\"T_8da83bf8_45bd_11eb_897c_0242ac1c0002\" ><thead>    <tr>        <th class=\"blank level0\" ></th>        <th class=\"col_heading level0 col0\" >conversion_rate</th>        <th class=\"col_heading level0 col1\" >std_deviation</th>        <th class=\"col_heading level0 col2\" >std_error</th>    </tr>    <tr>        <th class=\"index_name level0\" >group</th>        <th class=\"blank\" ></th>        <th class=\"blank\" ></th>        <th class=\"blank\" ></th>    </tr></thead><tbody>\n",
              "                <tr>\n",
              "                        <th id=\"T_8da83bf8_45bd_11eb_897c_0242ac1c0002level0_row0\" class=\"row_heading level0 row0\" >control</th>\n",
              "                        <td id=\"T_8da83bf8_45bd_11eb_897c_0242ac1c0002row0_col0\" class=\"data row0 col0\" >0.123</td>\n",
              "                        <td id=\"T_8da83bf8_45bd_11eb_897c_0242ac1c0002row0_col1\" class=\"data row0 col1\" >0.329</td>\n",
              "                        <td id=\"T_8da83bf8_45bd_11eb_897c_0242ac1c0002row0_col2\" class=\"data row0 col2\" >0.005</td>\n",
              "            </tr>\n",
              "            <tr>\n",
              "                        <th id=\"T_8da83bf8_45bd_11eb_897c_0242ac1c0002level0_row1\" class=\"row_heading level0 row1\" >treatment</th>\n",
              "                        <td id=\"T_8da83bf8_45bd_11eb_897c_0242ac1c0002row1_col0\" class=\"data row1 col0\" >0.126</td>\n",
              "                        <td id=\"T_8da83bf8_45bd_11eb_897c_0242ac1c0002row1_col1\" class=\"data row1 col1\" >0.331</td>\n",
              "                        <td id=\"T_8da83bf8_45bd_11eb_897c_0242ac1c0002row1_col2\" class=\"data row1 col2\" >0.005</td>\n",
              "            </tr>\n",
              "    </tbody></table>"
            ],
            "text/plain": [
              "<pandas.io.formats.style.Styler at 0x7f32d8b6aef0>"
            ]
          },
          "metadata": {
            "tags": []
          },
          "execution_count": 39
        }
      ]
    },
    {
      "cell_type": "code",
      "metadata": {
        "colab": {
          "base_uri": "https://localhost:8080/",
          "height": 425
        },
        "id": "_-W4N5c_v3EO",
        "outputId": "444c648c-ff2d-4e81-ecd7-8043715db00d"
      },
      "source": [
        "plt.figure(figsize=(8,6))\r\n",
        "\r\n",
        "sns.barplot(x=ab_test['group'], y=ab_test['converted'], ci=False)\r\n",
        "\r\n",
        "plt.ylim(0, 0.17)\r\n",
        "plt.title('Conversion rate by group', pad=20)\r\n",
        "plt.xlabel('Group', labelpad=15)\r\n",
        "plt.ylabel('Converted (proportion)', labelpad=15);"
      ],
      "execution_count": 40,
      "outputs": [
        {
          "output_type": "display_data",
          "data": {
            "image/png": "[encoded data removed]",
            "text/plain": [
              "<Figure size 576x432 with 1 Axes>"
            ]
          },
          "metadata": {
            "tags": []
          }
        }
      ]
    },
    {
      "cell_type": "code",
      "metadata": {
        "id": "1PxwR-XtwCWv"
      },
      "source": [
        "#Testing Hipotesis\r\n",
        "\r\n",
        "from statsmodels.stats.proportion import proportions_ztest, proportion_confint"
      ],
      "execution_count": 41,
      "outputs": []
    },
    {
      "cell_type": "code",
      "metadata": {
        "id": "n9ifZH9SwIJB"
      },
      "source": [
        "control_results = ab_test[ab_test['group'] == 'control']['converted']\r\n",
        "treatment_results = ab_test[ab_test['group'] == 'treatment']['converted']"
      ],
      "execution_count": 42,
      "outputs": []
    },
    {
      "cell_type": "code",
      "metadata": {
        "colab": {
          "base_uri": "https://localhost:8080/"
        },
        "id": "JQiwYIOKwMIh",
        "outputId": "97b39703-3360-4875-ae79-fb3208aaf9bc"
      },
      "source": [
        "n_con = control_results.count()\r\n",
        "n_treat = treatment_results.count()\r\n",
        "successes = [control_results.sum(), treatment_results.sum()]\r\n",
        "nobs = [n_con, n_treat]\r\n",
        "\r\n",
        "z_stat, pval = proportions_ztest(successes, nobs=nobs)\r\n",
        "(lower_con, lower_treat), (upper_con, upper_treat) = proportion_confint(successes, nobs=nobs, alpha=0.05)\r\n",
        "\r\n",
        "print(f'z statistic: {z_stat:.2f}')\r\n",
        "print(f'p-value: {pval:.3f}')\r\n",
        "print(f'ci 95% for control group: [{lower_con:.3f}, {upper_con:.3f}]')\r\n",
        "print(f'ci 95% for treatment group: [{lower_treat:.3f}, {upper_treat:.3f}]')"
      ],
      "execution_count": 43,
      "outputs": [
        {
          "output_type": "stream",
          "text": [
            "z statistic: -0.34\n",
            "p-value: 0.732\n",
            "ci 95% for control group: [0.114, 0.133]\n",
            "ci 95% for treatment group: [0.116, 0.135]\n"
          ],
          "name": "stdout"
        }
      ]
    },
    {
      "cell_type": "code",
      "metadata": {
        "id": "EFfjiiBPwPWV"
      },
      "source": [
        "#Berdasarkan hasil di atas p-value < 0.05 yang menyatakan bahwa tidak ada signifikan antara desain lama dan baru pada data yang ada."
      ],
      "execution_count": 44,
      "outputs": []
    }
  ]
}