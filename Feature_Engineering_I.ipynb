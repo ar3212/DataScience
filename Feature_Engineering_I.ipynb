{
  "nbformat": 4,
  "nbformat_minor": 0,
  "metadata": {
    "colab": {
      "name": "Feature_Engineering_I.ipynb",
      "provenance": [],
      "collapsed_sections": [],
      "mount_file_id": "1J-hTpDB6qkPVc8e6aO71uTsqQhox5HVg",
      "authorship_tag": "ABX9TyObIf+Xph/WFMC9xeGMklni",
      "include_colab_link": true
    },
    "kernelspec": {
      "name": "python3",
      "display_name": "Python 3"
    }
  },
  "cells": [
    {
      "cell_type": "markdown",
      "metadata": {
        "id": "view-in-github",
        "colab_type": "text"
      },
      "source": [
        "<a href=\"https://colab.research.google.com/github/zar7364/DataScience/blob/main/Feature_Engineering_I.ipynb\" target=\"_parent\"><img src=\"https://colab.research.google.com/assets/colab-badge.svg\" alt=\"Open In Colab\"/></a>"
      ]
    },
    {
      "cell_type": "code",
      "metadata": {
        "id": "meiDOmwPwBDr"
      },
      "source": [
        "from google.colab import drive"
      ],
      "execution_count": 1,
      "outputs": []
    },
    {
      "cell_type": "code",
      "metadata": {
        "colab": {
          "base_uri": "https://localhost:8080/"
        },
        "id": "sCly3IFJx_iw",
        "outputId": "f6acbe58-c690-4526-bd11-b2934bfa9a9f"
      },
      "source": [
        "drive.mount(\"/content/drive/\")"
      ],
      "execution_count": 2,
      "outputs": [
        {
          "output_type": "stream",
          "text": [
            "Drive already mounted at /content/drive/; to attempt to forcibly remount, call drive.mount(\"/content/drive/\", force_remount=True).\n"
          ],
          "name": "stdout"
        }
      ]
    },
    {
      "cell_type": "code",
      "metadata": {
        "id": "OOauyapNyERL"
      },
      "source": [
        "data=(\"/content/drive/MyDrive/Colab Notebooks/Featured Engineering I/heart_failure_clinical_records_dataset.csv\")"
      ],
      "execution_count": 3,
      "outputs": []
    },
    {
      "cell_type": "code",
      "metadata": {
        "colab": {
          "base_uri": "https://localhost:8080/",
          "height": 226
        },
        "id": "nda2z_hbyGsn",
        "outputId": "0e74d654-df48-4284-dc46-5fbc7fefa096"
      },
      "source": [
        "import pandas as pd\r\n",
        "df=pd.read_csv(data)\r\n",
        "df.head()"
      ],
      "execution_count": 5,
      "outputs": [
        {
          "output_type": "execute_result",
          "data": {
            "text/html": [
              "<div>\n",
              "<style scoped>\n",
              "    .dataframe tbody tr th:only-of-type {\n",
              "        vertical-align: middle;\n",
              "    }\n",
              "\n",
              "    .dataframe tbody tr th {\n",
              "        vertical-align: top;\n",
              "    }\n",
              "\n",
              "    .dataframe thead th {\n",
              "        text-align: right;\n",
              "    }\n",
              "</style>\n",
              "<table border=\"1\" class=\"dataframe\">\n",
              "  <thead>\n",
              "    <tr style=\"text-align: right;\">\n",
              "      <th></th>\n",
              "      <th>age</th>\n",
              "      <th>anaemia</th>\n",
              "      <th>creatinine_phosphokinase</th>\n",
              "      <th>diabetes</th>\n",
              "      <th>ejection_fraction</th>\n",
              "      <th>high_blood_pressure</th>\n",
              "      <th>platelets</th>\n",
              "      <th>serum_creatinine</th>\n",
              "      <th>serum_sodium</th>\n",
              "      <th>sex</th>\n",
              "      <th>smoking</th>\n",
              "      <th>time</th>\n",
              "      <th>DEATH_EVENT</th>\n",
              "    </tr>\n",
              "  </thead>\n",
              "  <tbody>\n",
              "    <tr>\n",
              "      <th>0</th>\n",
              "      <td>75.0</td>\n",
              "      <td>0</td>\n",
              "      <td>582</td>\n",
              "      <td>0</td>\n",
              "      <td>20</td>\n",
              "      <td>1</td>\n",
              "      <td>265000.00</td>\n",
              "      <td>1.9</td>\n",
              "      <td>130</td>\n",
              "      <td>1</td>\n",
              "      <td>0</td>\n",
              "      <td>4</td>\n",
              "      <td>1</td>\n",
              "    </tr>\n",
              "    <tr>\n",
              "      <th>1</th>\n",
              "      <td>55.0</td>\n",
              "      <td>0</td>\n",
              "      <td>7861</td>\n",
              "      <td>0</td>\n",
              "      <td>38</td>\n",
              "      <td>0</td>\n",
              "      <td>263358.03</td>\n",
              "      <td>1.1</td>\n",
              "      <td>136</td>\n",
              "      <td>1</td>\n",
              "      <td>0</td>\n",
              "      <td>6</td>\n",
              "      <td>1</td>\n",
              "    </tr>\n",
              "    <tr>\n",
              "      <th>2</th>\n",
              "      <td>65.0</td>\n",
              "      <td>0</td>\n",
              "      <td>146</td>\n",
              "      <td>0</td>\n",
              "      <td>20</td>\n",
              "      <td>0</td>\n",
              "      <td>162000.00</td>\n",
              "      <td>1.3</td>\n",
              "      <td>129</td>\n",
              "      <td>1</td>\n",
              "      <td>1</td>\n",
              "      <td>7</td>\n",
              "      <td>1</td>\n",
              "    </tr>\n",
              "    <tr>\n",
              "      <th>3</th>\n",
              "      <td>50.0</td>\n",
              "      <td>1</td>\n",
              "      <td>111</td>\n",
              "      <td>0</td>\n",
              "      <td>20</td>\n",
              "      <td>0</td>\n",
              "      <td>210000.00</td>\n",
              "      <td>1.9</td>\n",
              "      <td>137</td>\n",
              "      <td>1</td>\n",
              "      <td>0</td>\n",
              "      <td>7</td>\n",
              "      <td>1</td>\n",
              "    </tr>\n",
              "    <tr>\n",
              "      <th>4</th>\n",
              "      <td>65.0</td>\n",
              "      <td>1</td>\n",
              "      <td>160</td>\n",
              "      <td>1</td>\n",
              "      <td>20</td>\n",
              "      <td>0</td>\n",
              "      <td>327000.00</td>\n",
              "      <td>2.7</td>\n",
              "      <td>116</td>\n",
              "      <td>0</td>\n",
              "      <td>0</td>\n",
              "      <td>8</td>\n",
              "      <td>1</td>\n",
              "    </tr>\n",
              "  </tbody>\n",
              "</table>\n",
              "</div>"
            ],
            "text/plain": [
              "    age  anaemia  creatinine_phosphokinase  ...  smoking  time  DEATH_EVENT\n",
              "0  75.0        0                       582  ...        0     4            1\n",
              "1  55.0        0                      7861  ...        0     6            1\n",
              "2  65.0        0                       146  ...        1     7            1\n",
              "3  50.0        1                       111  ...        0     7            1\n",
              "4  65.0        1                       160  ...        0     8            1\n",
              "\n",
              "[5 rows x 13 columns]"
            ]
          },
          "metadata": {
            "tags": []
          },
          "execution_count": 5
        }
      ]
    },
    {
      "cell_type": "code",
      "metadata": {
        "colab": {
          "base_uri": "https://localhost:8080/"
        },
        "id": "Bvo8BviUypg7",
        "outputId": "cb143561-603a-44a5-9526-65548e9b7182"
      },
      "source": [
        "df.info()"
      ],
      "execution_count": 6,
      "outputs": [
        {
          "output_type": "stream",
          "text": [
            "<class 'pandas.core.frame.DataFrame'>\n",
            "RangeIndex: 299 entries, 0 to 298\n",
            "Data columns (total 13 columns):\n",
            " #   Column                    Non-Null Count  Dtype  \n",
            "---  ------                    --------------  -----  \n",
            " 0   age                       299 non-null    float64\n",
            " 1   anaemia                   299 non-null    int64  \n",
            " 2   creatinine_phosphokinase  299 non-null    int64  \n",
            " 3   diabetes                  299 non-null    int64  \n",
            " 4   ejection_fraction         299 non-null    int64  \n",
            " 5   high_blood_pressure       299 non-null    int64  \n",
            " 6   platelets                 299 non-null    float64\n",
            " 7   serum_creatinine          299 non-null    float64\n",
            " 8   serum_sodium              299 non-null    int64  \n",
            " 9   sex                       299 non-null    int64  \n",
            " 10  smoking                   299 non-null    int64  \n",
            " 11  time                      299 non-null    int64  \n",
            " 12  DEATH_EVENT               299 non-null    int64  \n",
            "dtypes: float64(3), int64(10)\n",
            "memory usage: 30.5 KB\n"
          ],
          "name": "stdout"
        }
      ]
    },
    {
      "cell_type": "code",
      "metadata": {
        "colab": {
          "base_uri": "https://localhost:8080/"
        },
        "id": "zxhabZiZyrNk",
        "outputId": "33569dab-b2e6-4f7f-a6c7-19fd8ed839bb"
      },
      "source": [
        "df.isnull().sum()"
      ],
      "execution_count": 7,
      "outputs": [
        {
          "output_type": "execute_result",
          "data": {
            "text/plain": [
              "age                         0\n",
              "anaemia                     0\n",
              "creatinine_phosphokinase    0\n",
              "diabetes                    0\n",
              "ejection_fraction           0\n",
              "high_blood_pressure         0\n",
              "platelets                   0\n",
              "serum_creatinine            0\n",
              "serum_sodium                0\n",
              "sex                         0\n",
              "smoking                     0\n",
              "time                        0\n",
              "DEATH_EVENT                 0\n",
              "dtype: int64"
            ]
          },
          "metadata": {
            "tags": []
          },
          "execution_count": 7
        }
      ]
    },
    {
      "cell_type": "code",
      "metadata": {
        "colab": {
          "base_uri": "https://localhost:8080/",
          "height": 457
        },
        "id": "TD0f8HvLyuWy",
        "outputId": "3f05515f-6c1f-4497-a906-892de829a7d8"
      },
      "source": [
        "df.describe().T"
      ],
      "execution_count": 9,
      "outputs": [
        {
          "output_type": "execute_result",
          "data": {
            "text/html": [
              "<div>\n",
              "<style scoped>\n",
              "    .dataframe tbody tr th:only-of-type {\n",
              "        vertical-align: middle;\n",
              "    }\n",
              "\n",
              "    .dataframe tbody tr th {\n",
              "        vertical-align: top;\n",
              "    }\n",
              "\n",
              "    .dataframe thead th {\n",
              "        text-align: right;\n",
              "    }\n",
              "</style>\n",
              "<table border=\"1\" class=\"dataframe\">\n",
              "  <thead>\n",
              "    <tr style=\"text-align: right;\">\n",
              "      <th></th>\n",
              "      <th>count</th>\n",
              "      <th>mean</th>\n",
              "      <th>std</th>\n",
              "      <th>min</th>\n",
              "      <th>25%</th>\n",
              "      <th>50%</th>\n",
              "      <th>75%</th>\n",
              "      <th>max</th>\n",
              "    </tr>\n",
              "  </thead>\n",
              "  <tbody>\n",
              "    <tr>\n",
              "      <th>age</th>\n",
              "      <td>299.0</td>\n",
              "      <td>60.833893</td>\n",
              "      <td>11.894809</td>\n",
              "      <td>40.0</td>\n",
              "      <td>51.0</td>\n",
              "      <td>60.0</td>\n",
              "      <td>70.0</td>\n",
              "      <td>95.0</td>\n",
              "    </tr>\n",
              "    <tr>\n",
              "      <th>anaemia</th>\n",
              "      <td>299.0</td>\n",
              "      <td>0.431438</td>\n",
              "      <td>0.496107</td>\n",
              "      <td>0.0</td>\n",
              "      <td>0.0</td>\n",
              "      <td>0.0</td>\n",
              "      <td>1.0</td>\n",
              "      <td>1.0</td>\n",
              "    </tr>\n",
              "    <tr>\n",
              "      <th>creatinine_phosphokinase</th>\n",
              "      <td>299.0</td>\n",
              "      <td>581.839465</td>\n",
              "      <td>970.287881</td>\n",
              "      <td>23.0</td>\n",
              "      <td>116.5</td>\n",
              "      <td>250.0</td>\n",
              "      <td>582.0</td>\n",
              "      <td>7861.0</td>\n",
              "    </tr>\n",
              "    <tr>\n",
              "      <th>diabetes</th>\n",
              "      <td>299.0</td>\n",
              "      <td>0.418060</td>\n",
              "      <td>0.494067</td>\n",
              "      <td>0.0</td>\n",
              "      <td>0.0</td>\n",
              "      <td>0.0</td>\n",
              "      <td>1.0</td>\n",
              "      <td>1.0</td>\n",
              "    </tr>\n",
              "    <tr>\n",
              "      <th>ejection_fraction</th>\n",
              "      <td>299.0</td>\n",
              "      <td>38.083612</td>\n",
              "      <td>11.834841</td>\n",
              "      <td>14.0</td>\n",
              "      <td>30.0</td>\n",
              "      <td>38.0</td>\n",
              "      <td>45.0</td>\n",
              "      <td>80.0</td>\n",
              "    </tr>\n",
              "    <tr>\n",
              "      <th>high_blood_pressure</th>\n",
              "      <td>299.0</td>\n",
              "      <td>0.351171</td>\n",
              "      <td>0.478136</td>\n",
              "      <td>0.0</td>\n",
              "      <td>0.0</td>\n",
              "      <td>0.0</td>\n",
              "      <td>1.0</td>\n",
              "      <td>1.0</td>\n",
              "    </tr>\n",
              "    <tr>\n",
              "      <th>platelets</th>\n",
              "      <td>299.0</td>\n",
              "      <td>263358.029264</td>\n",
              "      <td>97804.236869</td>\n",
              "      <td>25100.0</td>\n",
              "      <td>212500.0</td>\n",
              "      <td>262000.0</td>\n",
              "      <td>303500.0</td>\n",
              "      <td>850000.0</td>\n",
              "    </tr>\n",
              "    <tr>\n",
              "      <th>serum_creatinine</th>\n",
              "      <td>299.0</td>\n",
              "      <td>1.393880</td>\n",
              "      <td>1.034510</td>\n",
              "      <td>0.5</td>\n",
              "      <td>0.9</td>\n",
              "      <td>1.1</td>\n",
              "      <td>1.4</td>\n",
              "      <td>9.4</td>\n",
              "    </tr>\n",
              "    <tr>\n",
              "      <th>serum_sodium</th>\n",
              "      <td>299.0</td>\n",
              "      <td>136.625418</td>\n",
              "      <td>4.412477</td>\n",
              "      <td>113.0</td>\n",
              "      <td>134.0</td>\n",
              "      <td>137.0</td>\n",
              "      <td>140.0</td>\n",
              "      <td>148.0</td>\n",
              "    </tr>\n",
              "    <tr>\n",
              "      <th>sex</th>\n",
              "      <td>299.0</td>\n",
              "      <td>0.648829</td>\n",
              "      <td>0.478136</td>\n",
              "      <td>0.0</td>\n",
              "      <td>0.0</td>\n",
              "      <td>1.0</td>\n",
              "      <td>1.0</td>\n",
              "      <td>1.0</td>\n",
              "    </tr>\n",
              "    <tr>\n",
              "      <th>smoking</th>\n",
              "      <td>299.0</td>\n",
              "      <td>0.321070</td>\n",
              "      <td>0.467670</td>\n",
              "      <td>0.0</td>\n",
              "      <td>0.0</td>\n",
              "      <td>0.0</td>\n",
              "      <td>1.0</td>\n",
              "      <td>1.0</td>\n",
              "    </tr>\n",
              "    <tr>\n",
              "      <th>time</th>\n",
              "      <td>299.0</td>\n",
              "      <td>130.260870</td>\n",
              "      <td>77.614208</td>\n",
              "      <td>4.0</td>\n",
              "      <td>73.0</td>\n",
              "      <td>115.0</td>\n",
              "      <td>203.0</td>\n",
              "      <td>285.0</td>\n",
              "    </tr>\n",
              "    <tr>\n",
              "      <th>DEATH_EVENT</th>\n",
              "      <td>299.0</td>\n",
              "      <td>0.321070</td>\n",
              "      <td>0.467670</td>\n",
              "      <td>0.0</td>\n",
              "      <td>0.0</td>\n",
              "      <td>0.0</td>\n",
              "      <td>1.0</td>\n",
              "      <td>1.0</td>\n",
              "    </tr>\n",
              "  </tbody>\n",
              "</table>\n",
              "</div>"
            ],
            "text/plain": [
              "                          count           mean  ...       75%       max\n",
              "age                       299.0      60.833893  ...      70.0      95.0\n",
              "anaemia                   299.0       0.431438  ...       1.0       1.0\n",
              "creatinine_phosphokinase  299.0     581.839465  ...     582.0    7861.0\n",
              "diabetes                  299.0       0.418060  ...       1.0       1.0\n",
              "ejection_fraction         299.0      38.083612  ...      45.0      80.0\n",
              "high_blood_pressure       299.0       0.351171  ...       1.0       1.0\n",
              "platelets                 299.0  263358.029264  ...  303500.0  850000.0\n",
              "serum_creatinine          299.0       1.393880  ...       1.4       9.4\n",
              "serum_sodium              299.0     136.625418  ...     140.0     148.0\n",
              "sex                       299.0       0.648829  ...       1.0       1.0\n",
              "smoking                   299.0       0.321070  ...       1.0       1.0\n",
              "time                      299.0     130.260870  ...     203.0     285.0\n",
              "DEATH_EVENT               299.0       0.321070  ...       1.0       1.0\n",
              "\n",
              "[13 rows x 8 columns]"
            ]
          },
          "metadata": {
            "tags": []
          },
          "execution_count": 9
        }
      ]
    },
    {
      "cell_type": "code",
      "metadata": {
        "colab": {
          "base_uri": "https://localhost:8080/",
          "height": 17
        },
        "id": "cR6cn9BTy2iE",
        "outputId": "85438666-37c0-4887-b4a4-1ab5b715dbf7"
      },
      "source": [
        "import plotly.express as px\r\n",
        "import plotly.graph_objs as go\r\n",
        "import plotly.figure_factory as ff\r\n",
        "from plotly.offline import init_notebook_mode, iplot\r\n",
        "import matplotlib.pyplot as plt\r\n",
        "import seaborn as sns\r\n",
        "\r\n",
        "init_notebook_mode(connected=True)  "
      ],
      "execution_count": 10,
      "outputs": [
        {
          "output_type": "display_data",
          "data": {
            "text/html": [
              "        <script type=\"text/javascript\">\n",
              "        window.PlotlyConfig = {MathJaxConfig: 'local'};\n",
              "        if (window.MathJax) {MathJax.Hub.Config({SVG: {font: \"STIX-Web\"}});}\n",
              "        if (typeof require !== 'undefined') {\n",
              "        require.undef(\"plotly\");\n",
              "        requirejs.config({\n",
              "            paths: {\n",
              "                'plotly': ['https://cdn.plot.ly/plotly-latest.min']\n",
              "            }\n",
              "        });\n",
              "        require(['plotly'], function(Plotly) {\n",
              "            window._Plotly = Plotly;\n",
              "        });\n",
              "        }\n",
              "        </script>\n",
              "        "
            ]
          },
          "metadata": {
            "tags": []
          }
        }
      ]
    },
    {
      "cell_type": "code",
      "metadata": {
        "colab": {
          "base_uri": "https://localhost:8080/",
          "height": 1000
        },
        "id": "J3rCUiqKy3_l",
        "outputId": "eda99522-5c6a-454f-c31d-46b68f31ae37"
      },
      "source": [
        "#Mari kita lihat hubungan antar avriabel\r\n",
        "plt.figure(figsize=(16,16))\r\n",
        "sns.heatmap(df.corr(), annot=True)"
      ],
      "execution_count": 21,
      "outputs": [
        {
          "output_type": "execute_result",
          "data": {
            "text/plain": [
              "<matplotlib.axes._subplots.AxesSubplot at 0x7ff018490c50>"
            ]
          },
          "metadata": {
            "tags": []
          },
          "execution_count": 21
        },
        {
          "output_type": "display_data",
          "data": {
            "image/png": "[encoded data removed]",
            "text/plain": [
              "<Figure size 1152x1152 with 2 Axes>"
            ]
          },
          "metadata": {
            "tags": [],
            "needs_background": "light"
          }
        }
      ]
    },
    {
      "cell_type": "code",
      "metadata": {
        "id": "PDA6O1Lh0uCl"
      },
      "source": [
        "#Berdasarkan korelasi diatas dapat dilihat bahwa variabel paling tinggi yang berkorelasi dengan faktor 'Death Event' yaitu hanya age dan serum creatine."
      ],
      "execution_count": 22,
      "outputs": []
    },
    {
      "cell_type": "code",
      "metadata": {
        "id": "rsUSSd2I1Aka"
      },
      "source": [
        "#Feature Engineering\r\n",
        "from sklearn.model_selection import train_test_split\r\n",
        "from sklearn.feature_selection import RFE\r\n",
        "y=df['DEATH_EVENT']\r\n",
        "x=df.drop('DEATH_EVENT',axis=1)"
      ],
      "execution_count": 23,
      "outputs": []
    },
    {
      "cell_type": "code",
      "metadata": {
        "id": "K4Q9sj9F1FeR"
      },
      "source": [
        "x_train,x_test,y_train,y_test=train_test_split(x,y,test_size=0.2,random_state=12)"
      ],
      "execution_count": 25,
      "outputs": []
    },
    {
      "cell_type": "code",
      "metadata": {
        "id": "HdD56Sr71JK3"
      },
      "source": [
        "#Base on Logistic Regression\r\n",
        "from sklearn.preprocessing import StandardScaler\r\n",
        "from sklearn.linear_model import LogisticRegression\r\n",
        "sc=StandardScaler()\r\n",
        "lr=LogisticRegression(max_iter=10000)\r\n",
        "x_train=sc.fit_transform(x_train)"
      ],
      "execution_count": 27,
      "outputs": []
    },
    {
      "cell_type": "code",
      "metadata": {
        "colab": {
          "base_uri": "https://localhost:8080/"
        },
        "id": "9p2fCJSS1Pnu",
        "outputId": "81c253ac-7024-44c3-d445-6dd6e7bff35b"
      },
      "source": [
        "from sklearn.metrics import accuracy_score\r\n",
        "lr.fit(x_train,y_train)\r\n",
        "preds=lr.predict(sc.transform(x_test))\r\n",
        "score=accuracy_score(y_test,preds)\r\n",
        "score"
      ],
      "execution_count": 29,
      "outputs": [
        {
          "output_type": "execute_result",
          "data": {
            "text/plain": [
              "0.35"
            ]
          },
          "metadata": {
            "tags": []
          },
          "execution_count": 29
        }
      ]
    },
    {
      "cell_type": "code",
      "metadata": {
        "colab": {
          "base_uri": "https://localhost:8080/"
        },
        "id": "_m9J72dR1Y1t",
        "outputId": "eddd6376-fa18-453c-bf50-8fbb2b769653"
      },
      "source": [
        "rfe_lr=RFE(estimator=lr,n_features_to_select=9,verbose=1)\r\n",
        "rfe_lr.fit(x_train,y_train)\r\n",
        "rfe_lr.score(sc.transform(x_test),y_test)"
      ],
      "execution_count": 30,
      "outputs": [
        {
          "output_type": "stream",
          "text": [
            "Fitting estimator with 12 features.\n",
            "Fitting estimator with 11 features.\n",
            "Fitting estimator with 10 features.\n"
          ],
          "name": "stdout"
        },
        {
          "output_type": "execute_result",
          "data": {
            "text/plain": [
              "0.35"
            ]
          },
          "metadata": {
            "tags": []
          },
          "execution_count": 30
        }
      ]
    },
    {
      "cell_type": "code",
      "metadata": {
        "colab": {
          "base_uri": "https://localhost:8080/"
        },
        "id": "ACXH5THL1b1v",
        "outputId": "55cd1231-5ef3-4c6a-8963-b6e4e6abadfd"
      },
      "source": [
        "lr_mask=rfe_lr.support_\r\n",
        "x.columns[rfe_lr.support_]"
      ],
      "execution_count": 32,
      "outputs": [
        {
          "output_type": "execute_result",
          "data": {
            "text/plain": [
              "Index(['age', 'anaemia', 'creatinine_phosphokinase', 'ejection_fraction',\n",
              "       'platelets', 'serum_creatinine', 'serum_sodium', 'sex', 'time'],\n",
              "      dtype='object')"
            ]
          },
          "metadata": {
            "tags": []
          },
          "execution_count": 32
        }
      ]
    },
    {
      "cell_type": "code",
      "metadata": {
        "colab": {
          "base_uri": "https://localhost:8080/"
        },
        "id": "AFopKXY21iRu",
        "outputId": "ebb6255c-2c81-48b1-e24e-00f3af3f64e6"
      },
      "source": [
        "dict(zip(x.columns,rfe_lr.ranking_))"
      ],
      "execution_count": 33,
      "outputs": [
        {
          "output_type": "execute_result",
          "data": {
            "text/plain": [
              "{'age': 1,\n",
              " 'anaemia': 1,\n",
              " 'creatinine_phosphokinase': 1,\n",
              " 'diabetes': 3,\n",
              " 'ejection_fraction': 1,\n",
              " 'high_blood_pressure': 2,\n",
              " 'platelets': 1,\n",
              " 'serum_creatinine': 1,\n",
              " 'serum_sodium': 1,\n",
              " 'sex': 1,\n",
              " 'smoking': 4,\n",
              " 'time': 1}"
            ]
          },
          "metadata": {
            "tags": []
          },
          "execution_count": 33
        }
      ]
    },
    {
      "cell_type": "code",
      "metadata": {
        "colab": {
          "base_uri": "https://localhost:8080/"
        },
        "id": "SnXxmP8l1n0N",
        "outputId": "e5d4a10f-b609-43c1-99ac-2d6c40a79e67"
      },
      "source": [
        "#Base on Feature Selection\r\n",
        "from sklearn.ensemble import RandomForestClassifier\r\n",
        "rfc=RandomForestClassifier()\r\n",
        "rfc.fit(x_train,y_train)\r\n",
        "rfc.feature_importances_"
      ],
      "execution_count": 35,
      "outputs": [
        {
          "output_type": "execute_result",
          "data": {
            "text/plain": [
              "array([0.10175627, 0.01557681, 0.08961338, 0.01371428, 0.10629664,\n",
              "       0.01209874, 0.07880588, 0.16093622, 0.07881015, 0.0167828 ,\n",
              "       0.01178369, 0.31382514])"
            ]
          },
          "metadata": {
            "tags": []
          },
          "execution_count": 35
        }
      ]
    },
    {
      "cell_type": "code",
      "metadata": {
        "colab": {
          "base_uri": "https://localhost:8080/"
        },
        "id": "HuSGKBgr1xbl",
        "outputId": "2a1bc7e5-469d-4da2-c5cd-c881d6d52951"
      },
      "source": [
        "mask=rfc.feature_importances_ >0.1\r\n",
        "x_reduced=x.loc[:,mask]\r\n",
        "print(x_reduced.columns)"
      ],
      "execution_count": 36,
      "outputs": [
        {
          "output_type": "stream",
          "text": [
            "Index(['age', 'ejection_fraction', 'serum_creatinine', 'time'], dtype='object')\n"
          ],
          "name": "stdout"
        }
      ]
    },
    {
      "cell_type": "code",
      "metadata": {
        "colab": {
          "base_uri": "https://localhost:8080/"
        },
        "id": "AxF6X9Pu11sC",
        "outputId": "1e29106a-d330-48a6-908f-4cad5c34b3ef"
      },
      "source": [
        "#RFE Random Forest\r\n",
        "rfe_rfc=RFE(estimator=rfc,n_features_to_select=9,verbose=1)\r\n",
        "rfe_rfc.fit(x_train,y_train)\r\n",
        "rfe_rfc.score(sc.transform(x_test),y_test)\r\n",
        "rfc_mask=rfe_rfc.support_"
      ],
      "execution_count": 38,
      "outputs": [
        {
          "output_type": "stream",
          "text": [
            "Fitting estimator with 12 features.\n",
            "Fitting estimator with 11 features.\n",
            "Fitting estimator with 10 features.\n"
          ],
          "name": "stdout"
        }
      ]
    },
    {
      "cell_type": "code",
      "metadata": {
        "colab": {
          "base_uri": "https://localhost:8080/"
        },
        "id": "3fsH_4G92Eab",
        "outputId": "7ab24ed7-5137-4d10-ecb8-8b4ac79936ff"
      },
      "source": [
        "x.columns[rfe_rfc.support_]"
      ],
      "execution_count": 40,
      "outputs": [
        {
          "output_type": "execute_result",
          "data": {
            "text/plain": [
              "Index(['age', 'anaemia', 'creatinine_phosphokinase', 'ejection_fraction',\n",
              "       'high_blood_pressure', 'platelets', 'serum_creatinine', 'serum_sodium',\n",
              "       'time'],\n",
              "      dtype='object')"
            ]
          },
          "metadata": {
            "tags": []
          },
          "execution_count": 40
        }
      ]
    },
    {
      "cell_type": "code",
      "metadata": {
        "colab": {
          "base_uri": "https://localhost:8080/"
        },
        "id": "Ue4DF_9S2F8H",
        "outputId": "e036f973-fc30-4ee1-f7e0-ae149b783d92"
      },
      "source": [
        "dict(zip(x.columns,rfe_rfc.ranking_))"
      ],
      "execution_count": 41,
      "outputs": [
        {
          "output_type": "execute_result",
          "data": {
            "text/plain": [
              "{'age': 1,\n",
              " 'anaemia': 1,\n",
              " 'creatinine_phosphokinase': 1,\n",
              " 'diabetes': 3,\n",
              " 'ejection_fraction': 1,\n",
              " 'high_blood_pressure': 1,\n",
              " 'platelets': 1,\n",
              " 'serum_creatinine': 1,\n",
              " 'serum_sodium': 1,\n",
              " 'sex': 4,\n",
              " 'smoking': 2,\n",
              " 'time': 1}"
            ]
          },
          "metadata": {
            "tags": []
          },
          "execution_count": 41
        }
      ]
    },
    {
      "cell_type": "code",
      "metadata": {
        "colab": {
          "base_uri": "https://localhost:8080/"
        },
        "id": "pUdLRYhe2JAK",
        "outputId": "5c95bae3-f1e9-4e66-8185-9210e34fda4f"
      },
      "source": [
        "dict(zip(x.columns,rfe_rfc.ranking_))"
      ],
      "execution_count": 42,
      "outputs": [
        {
          "output_type": "execute_result",
          "data": {
            "text/plain": [
              "{'age': 1,\n",
              " 'anaemia': 1,\n",
              " 'creatinine_phosphokinase': 1,\n",
              " 'diabetes': 3,\n",
              " 'ejection_fraction': 1,\n",
              " 'high_blood_pressure': 1,\n",
              " 'platelets': 1,\n",
              " 'serum_creatinine': 1,\n",
              " 'serum_sodium': 1,\n",
              " 'sex': 4,\n",
              " 'smoking': 2,\n",
              " 'time': 1}"
            ]
          },
          "metadata": {
            "tags": []
          },
          "execution_count": 42
        }
      ]
    },
    {
      "cell_type": "code",
      "metadata": {
        "colab": {
          "base_uri": "https://localhost:8080/"
        },
        "id": "zlaHeK3B611x",
        "outputId": "02f5308a-ce1d-492e-b97e-63504771f96b"
      },
      "source": [
        "rfe_rfc.support_"
      ],
      "execution_count": 75,
      "outputs": [
        {
          "output_type": "execute_result",
          "data": {
            "text/plain": [
              "array([ True,  True,  True, False,  True,  True,  True,  True,  True,\n",
              "       False, False,  True])"
            ]
          },
          "metadata": {
            "tags": []
          },
          "execution_count": 75
        }
      ]
    },
    {
      "cell_type": "code",
      "metadata": {
        "colab": {
          "base_uri": "https://localhost:8080/"
        },
        "id": "RTezORzk2NVu",
        "outputId": "22bc7217-21e0-4c88-84f3-4374f2f94dee"
      },
      "source": [
        "#Feature Engineering:GradientBoosting\r\n",
        "\r\n",
        "from sklearn.ensemble import GradientBoostingClassifier\r\n",
        "gbc=GradientBoostingClassifier()\r\n",
        "rfe_gb = RFE(estimator=gbc, \r\n",
        "             n_features_to_select=9, step=3, verbose=1)\r\n",
        "rfe_gb.fit(x_train, y_train)"
      ],
      "execution_count": 43,
      "outputs": [
        {
          "output_type": "stream",
          "text": [
            "Fitting estimator with 12 features.\n"
          ],
          "name": "stdout"
        },
        {
          "output_type": "execute_result",
          "data": {
            "text/plain": [
              "RFE(estimator=GradientBoostingClassifier(ccp_alpha=0.0,\n",
              "                                         criterion='friedman_mse', init=None,\n",
              "                                         learning_rate=0.1, loss='deviance',\n",
              "                                         max_depth=3, max_features=None,\n",
              "                                         max_leaf_nodes=None,\n",
              "                                         min_impurity_decrease=0.0,\n",
              "                                         min_impurity_split=None,\n",
              "                                         min_samples_leaf=1,\n",
              "                                         min_samples_split=2,\n",
              "                                         min_weight_fraction_leaf=0.0,\n",
              "                                         n_estimators=100,\n",
              "                                         n_iter_no_change=None,\n",
              "                                         presort='deprecated',\n",
              "                                         random_state=None, subsample=1.0,\n",
              "                                         tol=0.0001, validation_fraction=0.1,\n",
              "                                         verbose=0, warm_start=False),\n",
              "    n_features_to_select=9, step=3, verbose=1)"
            ]
          },
          "metadata": {
            "tags": []
          },
          "execution_count": 43
        }
      ]
    },
    {
      "cell_type": "code",
      "metadata": {
        "colab": {
          "base_uri": "https://localhost:8080/"
        },
        "id": "fRyzVT5h2W-a",
        "outputId": "b5f550d9-e6d6-41e4-a259-b6ef136ad27e"
      },
      "source": [
        "rfe_gb.score(sc.transform(x_test),y_test)"
      ],
      "execution_count": 44,
      "outputs": [
        {
          "output_type": "execute_result",
          "data": {
            "text/plain": [
              "0.35"
            ]
          },
          "metadata": {
            "tags": []
          },
          "execution_count": 44
        }
      ]
    },
    {
      "cell_type": "code",
      "metadata": {
        "id": "3ZyjlQxo2bjc"
      },
      "source": [
        "rfe_gb_mask = rfe_gb.support_\r\n"
      ],
      "execution_count": 73,
      "outputs": []
    },
    {
      "cell_type": "code",
      "metadata": {
        "colab": {
          "base_uri": "https://localhost:8080/"
        },
        "id": "5y9Yo41V2c__",
        "outputId": "1b4f2ceb-b00f-48de-edba-c9b617f201c1"
      },
      "source": [
        "import numpy as np\r\n",
        "votes=np.sum([lr_mask,rfe_gb_mask,rfc_mask],axis=0)\r\n",
        "print(votes)"
      ],
      "execution_count": 47,
      "outputs": [
        {
          "output_type": "stream",
          "text": [
            "[3 2 3 0 3 2 3 3 3 2 0 3]\n"
          ],
          "name": "stdout"
        }
      ]
    },
    {
      "cell_type": "code",
      "metadata": {
        "colab": {
          "base_uri": "https://localhost:8080/"
        },
        "id": "4Cg_TcLS6Rfn",
        "outputId": "24f0045e-616c-48a9-d1b8-ffd0f52ccc42"
      },
      "source": [
        "print(lr_mask)\r\n",
        "print(rfe_gb_mask)\r\n",
        "print(rfc_mask)"
      ],
      "execution_count": 72,
      "outputs": [
        {
          "output_type": "stream",
          "text": [
            "[ True  True  True False  True False  True  True  True  True False  True]\n",
            "[ True False  True False  True  True  True  True  True  True False  True]\n",
            "[ True  True  True False  True  True  True  True  True False False  True]\n"
          ],
          "name": "stdout"
        }
      ]
    },
    {
      "cell_type": "code",
      "metadata": {
        "id": "vo8r9SnZ2ok2"
      },
      "source": [
        "final_mask=votes>=3\r\n",
        "x_final=x.loc[:,final_mask]"
      ],
      "execution_count": 48,
      "outputs": []
    },
    {
      "cell_type": "code",
      "metadata": {
        "colab": {
          "base_uri": "https://localhost:8080/"
        },
        "id": "0GaFq6pC2reG",
        "outputId": "887c1ba1-91bc-45ac-a982-56d0f43b1f25"
      },
      "source": [
        "x_final.columns"
      ],
      "execution_count": 50,
      "outputs": [
        {
          "output_type": "execute_result",
          "data": {
            "text/plain": [
              "Index(['age', 'creatinine_phosphokinase', 'ejection_fraction', 'platelets',\n",
              "       'serum_creatinine', 'serum_sodium', 'time'],\n",
              "      dtype='object')"
            ]
          },
          "metadata": {
            "tags": []
          },
          "execution_count": 50
        }
      ]
    },
    {
      "cell_type": "code",
      "metadata": {
        "id": "QCCR8IJy2s1d"
      },
      "source": [
        "#Then got optimum \r\n",
        "\r\n",
        "features=df[['age', 'ejection_fraction', 'serum_creatinine', 'serum_sodium', 'sex','platelets','time']]"
      ],
      "execution_count": 53,
      "outputs": []
    },
    {
      "cell_type": "code",
      "metadata": {
        "id": "n1gWbQFt3AjE"
      },
      "source": [
        "from sklearn.model_selection import train_test_split\r\n",
        "x_train_1,x_test_1,y_train_1,y_test_1=train_test_split(features,y,test_size=0.2,random_state=12)"
      ],
      "execution_count": 54,
      "outputs": []
    },
    {
      "cell_type": "code",
      "metadata": {
        "id": "xBlVFqxl3QrZ"
      },
      "source": [
        "x_train_std=sc.fit_transform(x_train_1)"
      ],
      "execution_count": 55,
      "outputs": []
    },
    {
      "cell_type": "code",
      "metadata": {
        "id": "qZy83TOn3ReC"
      },
      "source": [
        "gbc.fit(x_train_std,y_train_1)\r\n",
        "preds_1=gbc.predict(sc.transform(x_test_1))\r\n",
        "score_1=accuracy_score(y_test_1,preds_1)"
      ],
      "execution_count": 56,
      "outputs": []
    },
    {
      "cell_type": "code",
      "metadata": {
        "colab": {
          "base_uri": "https://localhost:8080/"
        },
        "id": "Q3ZQl8kG3TVg",
        "outputId": "f1e7a3e8-1472-4f53-dd45-3db109fc103b"
      },
      "source": [
        "score_1 *100"
      ],
      "execution_count": 58,
      "outputs": [
        {
          "output_type": "execute_result",
          "data": {
            "text/plain": [
              "90.0"
            ]
          },
          "metadata": {
            "tags": []
          },
          "execution_count": 58
        }
      ]
    },
    {
      "cell_type": "code",
      "metadata": {
        "colab": {
          "base_uri": "https://localhost:8080/",
          "height": 558
        },
        "id": "PnCW5Flx3WeR",
        "outputId": "0815b0db-709d-4c37-90cc-7fbc09ca5ad1"
      },
      "source": [
        "from sklearn.metrics import confusion_matrix\r\n",
        "from mlxtend.plotting import plot_confusion_matrix\r\n",
        "cm = confusion_matrix(y_test_1, preds_1)\r\n",
        "plt.figure()\r\n",
        "plot_confusion_matrix(cm, figsize=(12,8), hide_ticks=True, cmap=plt.cm.Blues)\r\n",
        "plt.title(\"Gradient Boost Classifier Model - Confusion Matrix\")\r\n",
        "plt.xticks(range(2), [\"Heart Not Failed\",\"Heart Fail\"], fontsize=16)\r\n",
        "plt.yticks(range(2), [\"Heart Not Failed\",\"Heart Fail\"], fontsize=16)\r\n",
        "plt.show()"
      ],
      "execution_count": 59,
      "outputs": [
        {
          "output_type": "display_data",
          "data": {
            "text/plain": [
              "<Figure size 432x288 with 0 Axes>"
            ]
          },
          "metadata": {
            "tags": []
          }
        },
        {
          "output_type": "display_data",
          "data": {
            "image/png": "[encoded data removed]",
            "text/plain": [
              "<Figure size 864x576 with 1 Axes>"
            ]
          },
          "metadata": {
            "tags": [],
            "needs_background": "light"
          }
        }
      ]
    },
    {
      "cell_type": "code",
      "metadata": {
        "id": "iD06dpo83hgM"
      },
      "source": [
        "rfc.fit(x_train_std,y_train_1)\r\n",
        "preds_2=rfc.predict(sc.transform(x_test_1))\r\n",
        "score_2=accuracy_score(y_test_1,preds_2)"
      ],
      "execution_count": 60,
      "outputs": []
    },
    {
      "cell_type": "code",
      "metadata": {
        "colab": {
          "base_uri": "https://localhost:8080/"
        },
        "id": "JU0iuRSw3jKi",
        "outputId": "0483fbdc-3383-4023-d58a-18f4050193ab"
      },
      "source": [
        "score_2 *100"
      ],
      "execution_count": 62,
      "outputs": [
        {
          "output_type": "execute_result",
          "data": {
            "text/plain": [
              "90.0"
            ]
          },
          "metadata": {
            "tags": []
          },
          "execution_count": 62
        }
      ]
    },
    {
      "cell_type": "code",
      "metadata": {
        "colab": {
          "base_uri": "https://localhost:8080/",
          "height": 558
        },
        "id": "xgTjo1wC3kNH",
        "outputId": "4aee335d-1ce0-4a6f-91f7-88ff59f12069"
      },
      "source": [
        "cm = confusion_matrix(y_test, preds_2)\r\n",
        "plt.figure()\r\n",
        "plot_confusion_matrix(cm, figsize=(12,8), hide_ticks=True, cmap=plt.cm.Blues)\r\n",
        "plt.title(\"Gradient Boost Classifier Model - Confusion Matrix\")\r\n",
        "plt.xticks(range(2), [\"Heart Not Failed\",\"Heart Fail\"], fontsize=16)\r\n",
        "plt.yticks(range(2), [\"Heart Not Failed\",\"Heart Fail\"], fontsize=16)\r\n",
        "plt.show()"
      ],
      "execution_count": 63,
      "outputs": [
        {
          "output_type": "display_data",
          "data": {
            "text/plain": [
              "<Figure size 432x288 with 0 Axes>"
            ]
          },
          "metadata": {
            "tags": []
          }
        },
        {
          "output_type": "display_data",
          "data": {
            "image/png": "[encoded data removed]",
            "text/plain": [
              "<Figure size 864x576 with 1 Axes>"
            ]
          },
          "metadata": {
            "tags": [],
            "needs_background": "light"
          }
        }
      ]
    },
    {
      "cell_type": "code",
      "metadata": {
        "id": "tIvgApwz3onC"
      },
      "source": [
        "from sklearn.svm import SVC\r\n",
        "svm=SVC()\r\n",
        "svm.fit(x_train_std,y_train_1)\r\n",
        "preds_3=svm.predict(sc.transform(x_test_1))\r\n",
        "score_3=accuracy_score(y_test_1,preds_3)"
      ],
      "execution_count": 64,
      "outputs": []
    },
    {
      "cell_type": "code",
      "metadata": {
        "colab": {
          "base_uri": "https://localhost:8080/"
        },
        "id": "KyhAGmTZ3qXz",
        "outputId": "2c41cd8e-3ea4-4bbb-9c28-0961cb2322a8"
      },
      "source": [
        "score_3 *100"
      ],
      "execution_count": 65,
      "outputs": [
        {
          "output_type": "execute_result",
          "data": {
            "text/plain": [
              "76.66666666666667"
            ]
          },
          "metadata": {
            "tags": []
          },
          "execution_count": 65
        }
      ]
    },
    {
      "cell_type": "code",
      "metadata": {
        "colab": {
          "base_uri": "https://localhost:8080/",
          "height": 558
        },
        "id": "c6JQ2-7T3tzs",
        "outputId": "66eb402c-f9a4-4fcd-e3c4-158474d2846d"
      },
      "source": [
        "cm = confusion_matrix(y_test, preds_3)\r\n",
        "plt.figure()\r\n",
        "plot_confusion_matrix(cm, figsize=(12,8), hide_ticks=True, cmap=plt.cm.Blues)\r\n",
        "plt.title(\"Gradient Boost Classifier Model - Confusion Matrix\")\r\n",
        "plt.xticks(range(2), [\"Heart Not Failed\",\"Heart Fail\"], fontsize=16)\r\n",
        "plt.yticks(range(2), [\"Heart Not Failed\",\"Heart Fail\"], fontsize=16)\r\n",
        "plt.show()"
      ],
      "execution_count": 66,
      "outputs": [
        {
          "output_type": "display_data",
          "data": {
            "text/plain": [
              "<Figure size 432x288 with 0 Axes>"
            ]
          },
          "metadata": {
            "tags": []
          }
        },
        {
          "output_type": "display_data",
          "data": {
            "image/png": "[encoded data removed]",
            "text/plain": [
              "<Figure size 864x576 with 1 Axes>"
            ]
          },
          "metadata": {
            "tags": [],
            "needs_background": "light"
          }
        }
      ]
    }
  ]
}