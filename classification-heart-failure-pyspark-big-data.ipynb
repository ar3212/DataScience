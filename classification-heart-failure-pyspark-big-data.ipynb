{
 "cells": [
  {
   "cell_type": "code",
   "execution_count": 1,
   "metadata": {
    "_cell_guid": "b1076dfc-b9ad-4769-8c92-a6c4dae69d19",
    "_uuid": "8f2839f25d086af736a60e9eeb907d3b93b6e0e5",
    "execution": {
     "iopub.execute_input": "2021-01-16T03:32:05.544441Z",
     "iopub.status.busy": "2021-01-16T03:32:05.541809Z",
     "iopub.status.idle": "2021-01-16T03:32:05.555334Z",
     "shell.execute_reply": "2021-01-16T03:32:05.554678Z"
    },
    "papermill": {
     "duration": 0.031249,
     "end_time": "2021-01-16T03:32:05.555448",
     "exception": false,
     "start_time": "2021-01-16T03:32:05.524199",
     "status": "completed"
    },
    "tags": []
   },
   "outputs": [
    {
     "name": "stdout",
     "output_type": "stream",
     "text": [
      "/kaggle/input/heart-failure-clinical-data/heart_failure_clinical_records_dataset.csv\n"
     ]
    }
   ],
   "source": [
    "# This Python 3 environment comes with many helpful analytics libraries installed\n",
    "# It is defined by the kaggle/python Docker image: https://github.com/kaggle/docker-python\n",
    "# For example, here's several helpful packages to load\n",
    "\n",
    "import numpy as np # linear algebra\n",
    "import pandas as pd # data processing, CSV file I/O (e.g. pd.read_csv)\n",
    "\n",
    "# Input data files are available in the read-only \"../input/\" directory\n",
    "# For example, running this (by clicking run or pressing Shift+Enter) will list all files under the input directory\n",
    "\n",
    "import os\n",
    "for dirname, _, filenames in os.walk('/kaggle/input'):\n",
    "    for filename in filenames:\n",
    "        print(os.path.join(dirname, filename))\n",
    "\n",
    "# You can write up to 20GB to the current directory (/kaggle/working/) that gets preserved as output when you create a version using \"Save & Run All\" \n",
    "# You can also write temporary files to /kaggle/temp/, but they won't be saved outside of the current session"
   ]
  },
  {
   "cell_type": "code",
   "execution_count": 2,
   "metadata": {
    "_cell_guid": "79c7e3d0-c299-4dcb-8224-4455121ee9b0",
    "_uuid": "d629ff2d2480ee46fbb7e2d37f6b5fab8052498a",
    "execution": {
     "iopub.execute_input": "2021-01-16T03:32:05.581187Z",
     "iopub.status.busy": "2021-01-16T03:32:05.580344Z",
     "iopub.status.idle": "2021-01-16T03:32:54.810902Z",
     "shell.execute_reply": "2021-01-16T03:32:54.810341Z"
    },
    "papermill": {
     "duration": 49.24491,
     "end_time": "2021-01-16T03:32:54.811019",
     "exception": false,
     "start_time": "2021-01-16T03:32:05.566109",
     "status": "completed"
    },
    "tags": []
   },
   "outputs": [
    {
     "name": "stdout",
     "output_type": "stream",
     "text": [
      "Collecting pyspark\r\n",
      "  Downloading pyspark-3.0.1.tar.gz (204.2 MB)\r\n",
      "\u001b[K     |████████████████████████████████| 204.2 MB 30 kB/s \r\n",
      "\u001b[?25hCollecting py4j==0.10.9\r\n",
      "  Downloading py4j-0.10.9-py2.py3-none-any.whl (198 kB)\r\n",
      "\u001b[K     |████████████████████████████████| 198 kB 25.5 MB/s \r\n",
      "\u001b[?25hBuilding wheels for collected packages: pyspark\r\n",
      "  Building wheel for pyspark (setup.py) ... \u001b[?25l-\b \b\\\b \b|\b \b/\b \b-\b \b\\\b \b|\b \b/\b \b-\b \b\\\b \b|\b \b/\b \b-\b \b\\\b \b|\b \b/\b \b-\b \b\\\b \b|\b \b/\b \b-\b \b\\\b \b|\b \b/\b \b-\b \b\\\b \b|\b \b/\b \b-\b \b\\\b \b|\b \b/\b \b-\b \b\\\b \b|\b \b/\b \b-\b \b\\\b \b|\b \b/\b \b-\b \b\\\b \b|\b \b/\b \b-\b \b\\\b \b|\b \b/\b \b-\b \b\\\b \b|\b \b/\b \b-\b \bdone\r\n",
      "\u001b[?25h  Created wheel for pyspark: filename=pyspark-3.0.1-py2.py3-none-any.whl size=204612244 sha256=356f9bd6438ad89254491cd6c74efd1dd0ded410c317928a047cc8cde2187838\r\n",
      "  Stored in directory: /root/.cache/pip/wheels/5e/34/fa/b37b5cef503fc5148b478b2495043ba61b079120b7ff379f9b\r\n",
      "Successfully built pyspark\r\n",
      "Installing collected packages: py4j, pyspark\r\n",
      "Successfully installed py4j-0.10.9 pyspark-3.0.1\r\n",
      "\u001b[33mWARNING: You are using pip version 20.3.1; however, version 20.3.3 is available.\r\n",
      "You should consider upgrading via the '/opt/conda/bin/python -m pip install --upgrade pip' command.\u001b[0m\r\n",
      "Note: you may need to restart the kernel to use updated packages.\n"
     ]
    }
   ],
   "source": [
    "pip install pyspark"
   ]
  },
  {
   "cell_type": "code",
   "execution_count": 3,
   "metadata": {
    "execution": {
     "iopub.execute_input": "2021-01-16T03:32:55.192452Z",
     "iopub.status.busy": "2021-01-16T03:32:55.191802Z",
     "iopub.status.idle": "2021-01-16T03:32:55.533852Z",
     "shell.execute_reply": "2021-01-16T03:32:55.534422Z"
    },
    "papermill": {
     "duration": 0.536744,
     "end_time": "2021-01-16T03:32:55.534587",
     "exception": false,
     "start_time": "2021-01-16T03:32:54.997843",
     "status": "completed"
    },
    "tags": []
   },
   "outputs": [
    {
     "name": "stdout",
     "output_type": "stream",
     "text": [
      "All Package Loaded\n"
     ]
    }
   ],
   "source": [
    "# Importing the Package\n",
    "from pyspark import SparkContext\n",
    "from pyspark.sql import *\n",
    "from pyspark.sql.functions import *\n",
    "from pyspark.sql.types import *\n",
    "from pyspark.ml.classification import LogisticRegression\n",
    "from pyspark.ml.feature import VectorAssembler\n",
    "\n",
    "print(\"All Package Loaded\")"
   ]
  },
  {
   "cell_type": "code",
   "execution_count": 4,
   "metadata": {
    "execution": {
     "iopub.execute_input": "2021-01-16T03:32:55.911629Z",
     "iopub.status.busy": "2021-01-16T03:32:55.910827Z",
     "iopub.status.idle": "2021-01-16T03:33:07.560373Z",
     "shell.execute_reply": "2021-01-16T03:33:07.559327Z"
    },
    "papermill": {
     "duration": 11.840868,
     "end_time": "2021-01-16T03:33:07.560568",
     "exception": false,
     "start_time": "2021-01-16T03:32:55.719700",
     "status": "completed"
    },
    "tags": []
   },
   "outputs": [
    {
     "name": "stdout",
     "output_type": "stream",
     "text": [
      "+----+-------+------------------------+--------+-----------------+-------------------+---------+----------------+------------+---+-------+----+-----------+\n",
      "|age |anaemia|creatinine_phosphokinase|diabetes|ejection_fraction|high_blood_pressure|platelets|serum_creatinine|serum_sodium|sex|smoking|time|DEATH_EVENT|\n",
      "+----+-------+------------------------+--------+-----------------+-------------------+---------+----------------+------------+---+-------+----+-----------+\n",
      "|75.0|0      |582                     |0       |20               |1                  |265000.0 |1.9             |130         |1  |0      |4   |1          |\n",
      "|55.0|0      |7861                    |0       |38               |0                  |263358.03|1.1             |136         |1  |0      |6   |1          |\n",
      "|65.0|0      |146                     |0       |20               |0                  |162000.0 |1.3             |129         |1  |1      |7   |1          |\n",
      "|50.0|1      |111                     |0       |20               |0                  |210000.0 |1.9             |137         |1  |0      |7   |1          |\n",
      "|65.0|1      |160                     |1       |20               |0                  |327000.0 |2.7             |116         |0  |0      |8   |1          |\n",
      "+----+-------+------------------------+--------+-----------------+-------------------+---------+----------------+------------+---+-------+----+-----------+\n",
      "only showing top 5 rows\n",
      "\n"
     ]
    }
   ],
   "source": [
    "#Load the Data\n",
    "spark=SparkSession.builder.master('local').appName(\"Classification Heart Failure\").getOrCreate()\n",
    "data=spark.read.csv(\"../input/heart-failure-clinical-data\", inferSchema=True, header=True)\n",
    "data.show(truncate=False, n=5)"
   ]
  },
  {
   "cell_type": "code",
   "execution_count": 5,
   "metadata": {
    "execution": {
     "iopub.execute_input": "2021-01-16T03:33:07.982209Z",
     "iopub.status.busy": "2021-01-16T03:33:07.981480Z",
     "iopub.status.idle": "2021-01-16T03:33:07.995691Z",
     "shell.execute_reply": "2021-01-16T03:33:07.994720Z"
    },
    "papermill": {
     "duration": 0.205579,
     "end_time": "2021-01-16T03:33:07.995869",
     "exception": false,
     "start_time": "2021-01-16T03:33:07.790290",
     "status": "completed"
    },
    "tags": []
   },
   "outputs": [
    {
     "name": "stdout",
     "output_type": "stream",
     "text": [
      "root\n",
      " |-- age: double (nullable = true)\n",
      " |-- anaemia: integer (nullable = true)\n",
      " |-- creatinine_phosphokinase: integer (nullable = true)\n",
      " |-- diabetes: integer (nullable = true)\n",
      " |-- ejection_fraction: integer (nullable = true)\n",
      " |-- high_blood_pressure: integer (nullable = true)\n",
      " |-- platelets: double (nullable = true)\n",
      " |-- serum_creatinine: double (nullable = true)\n",
      " |-- serum_sodium: integer (nullable = true)\n",
      " |-- sex: integer (nullable = true)\n",
      " |-- smoking: integer (nullable = true)\n",
      " |-- time: integer (nullable = true)\n",
      " |-- DEATH_EVENT: integer (nullable = true)\n",
      "\n"
     ]
    }
   ],
   "source": [
    "#Cek the data\n",
    "data.printSchema()"
   ]
  },
  {
   "cell_type": "code",
   "execution_count": 6,
   "metadata": {
    "execution": {
     "iopub.execute_input": "2021-01-16T03:33:08.386375Z",
     "iopub.status.busy": "2021-01-16T03:33:08.385375Z",
     "iopub.status.idle": "2021-01-16T03:33:09.853992Z",
     "shell.execute_reply": "2021-01-16T03:33:09.854894Z"
    },
    "papermill": {
     "duration": 1.664994,
     "end_time": "2021-01-16T03:33:09.855131",
     "exception": false,
     "start_time": "2021-01-16T03:33:08.190137",
     "status": "completed"
    },
    "tags": []
   },
   "outputs": [
    {
     "name": "stdout",
     "output_type": "stream",
     "text": [
      "train data:\n",
      " 213 \n",
      "test data:\n",
      " 86\n"
     ]
    }
   ],
   "source": [
    "#Split data\n",
    "data_split=data.randomSplit([0.7,0.3])\n",
    "train=data_split[0]\n",
    "test=data_split[1]\n",
    "print(\"train data:\\n\", train.count(), \"\\ntest data:\\n\", test.count())"
   ]
  },
  {
   "cell_type": "code",
   "execution_count": 7,
   "metadata": {
    "execution": {
     "iopub.execute_input": "2021-01-16T03:33:10.255681Z",
     "iopub.status.busy": "2021-01-16T03:33:10.254537Z",
     "iopub.status.idle": "2021-01-16T03:33:11.245960Z",
     "shell.execute_reply": "2021-01-16T03:33:11.245130Z"
    },
    "papermill": {
     "duration": 1.186083,
     "end_time": "2021-01-16T03:33:11.246146",
     "exception": false,
     "start_time": "2021-01-16T03:33:10.060063",
     "status": "completed"
    },
    "tags": []
   },
   "outputs": [
    {
     "name": "stdout",
     "output_type": "stream",
     "text": [
      "+----+-------+------------------------+--------+-----------------+-------------------+---------+----------------+------------+---+-------+----+-----------+\n",
      "| age|anaemia|creatinine_phosphokinase|diabetes|ejection_fraction|high_blood_pressure|platelets|serum_creatinine|serum_sodium|sex|smoking|time|DEATH_EVENT|\n",
      "+----+-------+------------------------+--------+-----------------+-------------------+---------+----------------+------------+---+-------+----+-----------+\n",
      "|40.0|      0|                      90|       0|               35|                  0| 255000.0|             1.1|         136|  1|      1| 212|          0|\n",
      "|40.0|      0|                     582|       1|               35|                  0| 222000.0|             1.0|         132|  1|      0| 244|          0|\n",
      "+----+-------+------------------------+--------+-----------------+-------------------+---------+----------------+------------+---+-------+----+-----------+\n",
      "only showing top 2 rows\n",
      "\n",
      "+--------------------------------------------------------------+-----+\n",
      "|features                                                      |label|\n",
      "+--------------------------------------------------------------+-----+\n",
      "|[40.0,0.0,90.0,0.0,35.0,0.0,255000.0,1.1,136.0,1.0,1.0,212.0] |0    |\n",
      "|[40.0,0.0,582.0,1.0,35.0,0.0,222000.0,1.0,132.0,1.0,0.0,244.0]|0    |\n",
      "|[40.0,0.0,624.0,0.0,35.0,0.0,301000.0,1.0,142.0,1.0,1.0,214.0]|0    |\n",
      "|[40.0,1.0,101.0,0.0,40.0,0.0,226000.0,0.8,141.0,0.0,0.0,187.0]|0    |\n",
      "|[41.0,0.0,148.0,0.0,40.0,0.0,374000.0,0.8,140.0,1.0,1.0,68.0] |0    |\n",
      "+--------------------------------------------------------------+-----+\n",
      "only showing top 5 rows\n",
      "\n"
     ]
    }
   ],
   "source": [
    "#Featuring Field\n",
    "train.show(2)\n",
    "assembler=VectorAssembler(inputCols=['age','anaemia','creatinine_phosphokinase',\n",
    "                                     'diabetes','ejection_fraction','high_blood_pressure',\n",
    "                                     'platelets','serum_creatinine','serum_sodium',\n",
    "                                     'sex','smoking','time'],outputCol='features')\n",
    "trainingdatafinal=assembler.transform(train).select(col('features'),col('DEATH_EVENT').alias('label'))\n",
    "trainingdatafinal.show(truncate=False, n=5)"
   ]
  },
  {
   "cell_type": "code",
   "execution_count": 8,
   "metadata": {
    "execution": {
     "iopub.execute_input": "2021-01-16T03:33:11.740026Z",
     "iopub.status.busy": "2021-01-16T03:33:11.739002Z",
     "iopub.status.idle": "2021-01-16T03:33:16.508002Z",
     "shell.execute_reply": "2021-01-16T03:33:16.511132Z"
    },
    "papermill": {
     "duration": 4.979968,
     "end_time": "2021-01-16T03:33:16.511489",
     "exception": false,
     "start_time": "2021-01-16T03:33:11.531521",
     "status": "completed"
    },
    "tags": []
   },
   "outputs": [
    {
     "name": "stdout",
     "output_type": "stream",
     "text": [
      "Training Done\n"
     ]
    }
   ],
   "source": [
    "#Training Model\n",
    "Classification=LogisticRegression(featuresCol='features', labelCol='label', maxIter=100,regParam=0.3)\n",
    "model=Classification.fit(trainingdatafinal)\n",
    "print(\"Training Done\")"
   ]
  },
  {
   "cell_type": "code",
   "execution_count": 9,
   "metadata": {
    "execution": {
     "iopub.execute_input": "2021-01-16T03:33:16.919470Z",
     "iopub.status.busy": "2021-01-16T03:33:16.918845Z",
     "iopub.status.idle": "2021-01-16T03:33:17.196967Z",
     "shell.execute_reply": "2021-01-16T03:33:17.196343Z"
    },
    "papermill": {
     "duration": 0.468652,
     "end_time": "2021-01-16T03:33:17.197092",
     "exception": false,
     "start_time": "2021-01-16T03:33:16.728440",
     "status": "completed"
    },
    "tags": []
   },
   "outputs": [
    {
     "name": "stdout",
     "output_type": "stream",
     "text": [
      "+--------------------------------------------------------------+-----+\n",
      "|features                                                      |label|\n",
      "+--------------------------------------------------------------+-----+\n",
      "|[40.0,0.0,244.0,0.0,45.0,1.0,275000.0,0.9,140.0,0.0,0.0,174.0]|0    |\n",
      "|[40.0,0.0,478.0,1.0,30.0,0.0,303000.0,0.9,136.0,1.0,0.0,148.0]|0    |\n",
      "|[40.0,1.0,129.0,0.0,35.0,0.0,255000.0,0.9,137.0,1.0,0.0,209.0]|0    |\n",
      "|[42.0,0.0,64.0,0.0,30.0,0.0,215000.0,3.8,128.0,1.0,1.0,250.0] |0    |\n",
      "|[42.0,0.0,64.0,0.0,40.0,0.0,189000.0,0.7,140.0,1.0,0.0,245.0] |0    |\n",
      "+--------------------------------------------------------------+-----+\n",
      "only showing top 5 rows\n",
      "\n"
     ]
    }
   ],
   "source": [
    "#Preparing data test\n",
    "testingdatafinal=assembler.transform(test).select(col('features'),\n",
    "                                                  col('DEATH_EVENT').alias(\"label\"))\n",
    "testingdatafinal.show(truncate=False, n=5)"
   ]
  },
  {
   "cell_type": "code",
   "execution_count": 10,
   "metadata": {
    "execution": {
     "iopub.execute_input": "2021-01-16T03:33:17.588802Z",
     "iopub.status.busy": "2021-01-16T03:33:17.587718Z",
     "iopub.status.idle": "2021-01-16T03:33:17.918049Z",
     "shell.execute_reply": "2021-01-16T03:33:17.918943Z"
    },
    "papermill": {
     "duration": 0.524478,
     "end_time": "2021-01-16T03:33:17.919159",
     "exception": false,
     "start_time": "2021-01-16T03:33:17.394681",
     "status": "completed"
    },
    "tags": []
   },
   "outputs": [
    {
     "name": "stdout",
     "output_type": "stream",
     "text": [
      "+--------------------------------------------------------------+-----+------------------------------------------+----------------------------------------+----------+\n",
      "|features                                                      |label|rawPrediction                             |probability                             |prediction|\n",
      "+--------------------------------------------------------------+-----+------------------------------------------+----------------------------------------+----------+\n",
      "|[40.0,0.0,244.0,0.0,45.0,1.0,275000.0,0.9,140.0,0.0,0.0,174.0]|0    |[1.7044296300106812,-1.7044296300106812]  |[0.8461123849622791,0.15388761503772083]|0.0       |\n",
      "|[40.0,0.0,478.0,1.0,30.0,0.0,303000.0,0.9,136.0,1.0,0.0,148.0]|0    |[1.0978796403606115,-1.0978796403606115]  |[0.7498626032826219,0.2501373967173781] |0.0       |\n",
      "|[40.0,1.0,129.0,0.0,35.0,0.0,255000.0,0.9,137.0,1.0,0.0,209.0]|0    |[1.5476557125291404,-1.5476557125291404]  |[0.8245748859547668,0.1754251140452332] |0.0       |\n",
      "|[42.0,0.0,64.0,0.0,30.0,0.0,215000.0,3.8,128.0,1.0,1.0,250.0] |0    |[0.43848507785851254,-0.43848507785851254]|[0.6078979959834141,0.39210200401658596]|0.0       |\n",
      "+--------------------------------------------------------------+-----+------------------------------------------+----------------------------------------+----------+\n",
      "only showing top 4 rows\n",
      "\n",
      "root\n",
      " |-- features: vector (nullable = true)\n",
      " |-- label: integer (nullable = true)\n",
      " |-- rawPrediction: vector (nullable = true)\n",
      " |-- probability: vector (nullable = true)\n",
      " |-- prediction: double (nullable = false)\n",
      "\n"
     ]
    }
   ],
   "source": [
    "#Testing model using data test\n",
    "raw_prediction=model.transform(testingdatafinal)\n",
    "raw_prediction.show(truncate=False, n=4)\n",
    "raw_prediction.printSchema()\n"
   ]
  },
  {
   "cell_type": "code",
   "execution_count": 11,
   "metadata": {
    "execution": {
     "iopub.execute_input": "2021-01-16T03:33:18.301130Z",
     "iopub.status.busy": "2021-01-16T03:33:18.300143Z",
     "iopub.status.idle": "2021-01-16T03:33:18.524072Z",
     "shell.execute_reply": "2021-01-16T03:33:18.522962Z"
    },
    "papermill": {
     "duration": 0.414907,
     "end_time": "2021-01-16T03:33:18.524303",
     "exception": false,
     "start_time": "2021-01-16T03:33:18.109396",
     "status": "completed"
    },
    "tags": []
   },
   "outputs": [
    {
     "name": "stdout",
     "output_type": "stream",
     "text": [
      "+--------------------------------------------------------------+-----+----------+\n",
      "|features                                                      |label|prediction|\n",
      "+--------------------------------------------------------------+-----+----------+\n",
      "|[40.0,0.0,244.0,0.0,45.0,1.0,275000.0,0.9,140.0,0.0,0.0,174.0]|0    |0.0       |\n",
      "|[40.0,0.0,478.0,1.0,30.0,0.0,303000.0,0.9,136.0,1.0,0.0,148.0]|0    |0.0       |\n",
      "|[40.0,1.0,129.0,0.0,35.0,0.0,255000.0,0.9,137.0,1.0,0.0,209.0]|0    |0.0       |\n",
      "|[42.0,0.0,64.0,0.0,30.0,0.0,215000.0,3.8,128.0,1.0,1.0,250.0] |0    |0.0       |\n",
      "|[42.0,0.0,64.0,0.0,40.0,0.0,189000.0,0.7,140.0,1.0,0.0,245.0] |0    |0.0       |\n",
      "+--------------------------------------------------------------+-----+----------+\n",
      "only showing top 5 rows\n",
      "\n"
     ]
    }
   ],
   "source": [
    "#Final test look\n",
    "final_prediction=raw_prediction.select('features','label','prediction')\n",
    "final_prediction.show(truncate=False, n=5)"
   ]
  },
  {
   "cell_type": "code",
   "execution_count": 12,
   "metadata": {
    "execution": {
     "iopub.execute_input": "2021-01-16T03:33:18.924901Z",
     "iopub.status.busy": "2021-01-16T03:33:18.924165Z",
     "iopub.status.idle": "2021-01-16T03:33:19.350240Z",
     "shell.execute_reply": "2021-01-16T03:33:19.349386Z"
    },
    "papermill": {
     "duration": 0.620908,
     "end_time": "2021-01-16T03:33:19.350413",
     "exception": false,
     "start_time": "2021-01-16T03:33:18.729505",
     "status": "completed"
    },
    "tags": []
   },
   "outputs": [
    {
     "name": "stdout",
     "output_type": "stream",
     "text": [
      "Accuracy is :\n",
      " 77.90697674418605 %\n"
     ]
    }
   ],
   "source": [
    "#Accuracy\n",
    "Total_true=final_prediction.filter(final_prediction['label']==final_prediction['prediction']).count()\n",
    "Total_data=final_prediction.count()\n",
    "print(\"Accuracy is :\\n\", Total_true/Total_data*100,\"%\")"
   ]
  },
  {
   "cell_type": "markdown",
   "metadata": {
    "papermill": {
     "duration": 0.189885,
     "end_time": "2021-01-16T03:33:19.790077",
     "exception": false,
     "start_time": "2021-01-16T03:33:19.600192",
     "status": "completed"
    },
    "tags": []
   },
   "source": [
    "#I have using some methods, in non spark analysis, wait me to  improve this accuracy. Please upvote! Thank you."
   ]
  }
 ],
 "metadata": {
  "kernelspec": {
   "display_name": "Python 3",
   "language": "python",
   "name": "python3"
  },
  "language_info": {
   "codemirror_mode": {
    "name": "ipython",
    "version": 3
   },
   "file_extension": ".py",
   "mimetype": "text/x-python",
   "name": "python",
   "nbconvert_exporter": "python",
   "pygments_lexer": "ipython3",
   "version": "3.7.6"
  },
  "papermill": {
   "duration": 79.720866,
   "end_time": "2021-01-16T03:33:20.091665",
   "environment_variables": {},
   "exception": null,
   "input_path": "__notebook__.ipynb",
   "output_path": "__notebook__.ipynb",
   "parameters": {},
   "start_time": "2021-01-16T03:32:00.370799",
   "version": "2.1.0"
  }
 },
 "nbformat": 4,
 "nbformat_minor": 4
}
