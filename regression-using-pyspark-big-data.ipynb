{
 "cells": [
  {
   "cell_type": "code",
   "execution_count": 1,
   "metadata": {
    "_cell_guid": "b1076dfc-b9ad-4769-8c92-a6c4dae69d19",
    "_uuid": "8f2839f25d086af736a60e9eeb907d3b93b6e0e5",
    "execution": {
     "iopub.execute_input": "2021-01-16T06:37:39.012161Z",
     "iopub.status.busy": "2021-01-16T06:37:39.011537Z",
     "iopub.status.idle": "2021-01-16T06:37:39.022427Z",
     "shell.execute_reply": "2021-01-16T06:37:39.023052Z"
    },
    "papermill": {
     "duration": 0.031485,
     "end_time": "2021-01-16T06:37:39.023218",
     "exception": false,
     "start_time": "2021-01-16T06:37:38.991733",
     "status": "completed"
    },
    "tags": []
   },
   "outputs": [
    {
     "name": "stdout",
     "output_type": "stream",
     "text": [
      "/kaggle/input/housesalesprediction/kc_house_data.csv\n"
     ]
    }
   ],
   "source": [
    "# This Python 3 environment comes with many helpful analytics libraries installed\n",
    "# It is defined by the kaggle/python Docker image: https://github.com/kaggle/docker-python\n",
    "# For example, here's several helpful packages to load\n",
    "\n",
    "import numpy as np # linear algebra\n",
    "import pandas as pd # data processing, CSV file I/O (e.g. pd.read_csv)\n",
    "\n",
    "# Input data files are available in the read-only \"../input/\" directory\n",
    "# For example, running this (by clicking run or pressing Shift+Enter) will list all files under the input directory\n",
    "\n",
    "import os\n",
    "for dirname, _, filenames in os.walk('/kaggle/input'):\n",
    "    for filename in filenames:\n",
    "        print(os.path.join(dirname, filename))\n",
    "\n",
    "# You can write up to 20GB to the current directory (/kaggle/working/) that gets preserved as output when you create a version using \"Save & Run All\" \n",
    "# You can also write temporary files to /kaggle/temp/, but they won't be saved outside of the current session"
   ]
  },
  {
   "cell_type": "code",
   "execution_count": 2,
   "metadata": {
    "_cell_guid": "79c7e3d0-c299-4dcb-8224-4455121ee9b0",
    "_uuid": "d629ff2d2480ee46fbb7e2d37f6b5fab8052498a",
    "execution": {
     "iopub.execute_input": "2021-01-16T06:37:39.049847Z",
     "iopub.status.busy": "2021-01-16T06:37:39.049250Z",
     "iopub.status.idle": "2021-01-16T06:38:16.610135Z",
     "shell.execute_reply": "2021-01-16T06:38:16.610663Z"
    },
    "papermill": {
     "duration": 37.575332,
     "end_time": "2021-01-16T06:38:16.610783",
     "exception": false,
     "start_time": "2021-01-16T06:37:39.035451",
     "status": "completed"
    },
    "tags": []
   },
   "outputs": [
    {
     "name": "stdout",
     "output_type": "stream",
     "text": [
      "Collecting pyspark\r\n",
      "  Downloading pyspark-3.0.1.tar.gz (204.2 MB)\r\n",
      "\u001b[K     |████████████████████████████████| 204.2 MB 30 kB/s \r\n",
      "\u001b[?25hCollecting py4j==0.10.9\r\n",
      "  Downloading py4j-0.10.9-py2.py3-none-any.whl (198 kB)\r\n",
      "\u001b[K     |████████████████████████████████| 198 kB 62.8 MB/s \r\n",
      "\u001b[?25hBuilding wheels for collected packages: pyspark\r\n",
      "  Building wheel for pyspark (setup.py) ... \u001b[?25l-\b \b\\\b \b|\b \b/\b \b-\b \b\\\b \b|\b \b/\b \b-\b \b\\\b \b|\b \b/\b \b-\b \b\\\b \b|\b \b/\b \b-\b \b\\\b \b|\b \b/\b \b-\b \b\\\b \b|\b \b/\b \b-\b \b\\\b \b|\b \b/\b \b-\b \b\\\b \b|\b \b/\b \b-\b \b\\\b \b|\b \b/\b \b-\b \b\\\b \b|\b \b/\b \b-\b \b\\\b \b|\b \b/\b \b-\b \b\\\b \b|\b \b/\b \b-\b \b\\\b \b|\b \bdone\r\n",
      "\u001b[?25h  Created wheel for pyspark: filename=pyspark-3.0.1-py2.py3-none-any.whl size=204612244 sha256=99a1bdf705152d3cec0b7ec54a5849f79ed8cf34db3fffa999f7977317cc9211\r\n",
      "  Stored in directory: /root/.cache/pip/wheels/5e/34/fa/b37b5cef503fc5148b478b2495043ba61b079120b7ff379f9b\r\n",
      "Successfully built pyspark\r\n",
      "Installing collected packages: py4j, pyspark\r\n",
      "Successfully installed py4j-0.10.9 pyspark-3.0.1\r\n",
      "\u001b[33mWARNING: You are using pip version 20.3.1; however, version 20.3.3 is available.\r\n",
      "You should consider upgrading via the '/opt/conda/bin/python -m pip install --upgrade pip' command.\u001b[0m\r\n",
      "Note: you may need to restart the kernel to use updated packages.\n"
     ]
    }
   ],
   "source": [
    "pip install pyspark"
   ]
  },
  {
   "cell_type": "code",
   "execution_count": 3,
   "metadata": {
    "execution": {
     "iopub.execute_input": "2021-01-16T06:38:16.964319Z",
     "iopub.status.busy": "2021-01-16T06:38:16.963515Z",
     "iopub.status.idle": "2021-01-16T06:38:17.302674Z",
     "shell.execute_reply": "2021-01-16T06:38:17.303288Z"
    },
    "papermill": {
     "duration": 0.538206,
     "end_time": "2021-01-16T06:38:17.303435",
     "exception": false,
     "start_time": "2021-01-16T06:38:16.765229",
     "status": "completed"
    },
    "tags": []
   },
   "outputs": [],
   "source": [
    "#Load Module\n",
    "from pyspark.sql.types import *\n",
    "from pyspark.sql import *\n",
    "from pyspark.sql.functions import *\n",
    "from pyspark.ml.regression import LinearRegression\n",
    "from pyspark.ml.feature import VectorAssembler"
   ]
  },
  {
   "cell_type": "code",
   "execution_count": 4,
   "metadata": {
    "execution": {
     "iopub.execute_input": "2021-01-16T06:38:17.552747Z",
     "iopub.status.busy": "2021-01-16T06:38:17.551763Z",
     "iopub.status.idle": "2021-01-16T06:38:23.392982Z",
     "shell.execute_reply": "2021-01-16T06:38:23.391963Z"
    },
    "papermill": {
     "duration": 5.967718,
     "end_time": "2021-01-16T06:38:23.393148",
     "exception": false,
     "start_time": "2021-01-16T06:38:17.425430",
     "status": "completed"
    },
    "tags": []
   },
   "outputs": [],
   "source": [
    "#Creat Spark Session\n",
    "spark=SparkSession.builder.master('local').appName('Regression House Price').getOrCreate()"
   ]
  },
  {
   "cell_type": "code",
   "execution_count": 5,
   "metadata": {
    "execution": {
     "iopub.execute_input": "2021-01-16T06:38:23.651014Z",
     "iopub.status.busy": "2021-01-16T06:38:23.650309Z",
     "iopub.status.idle": "2021-01-16T06:38:29.669202Z",
     "shell.execute_reply": "2021-01-16T06:38:29.668270Z"
    },
    "papermill": {
     "duration": 6.146251,
     "end_time": "2021-01-16T06:38:29.669350",
     "exception": false,
     "start_time": "2021-01-16T06:38:23.523099",
     "status": "completed"
    },
    "tags": []
   },
   "outputs": [
    {
     "name": "stdout",
     "output_type": "stream",
     "text": [
      "+----------+---------------+--------+--------+---------+-----------+--------+------+----------+----+---------+-----+----------+-------------+--------+------------+-------+-------+--------+-------------+----------+\n",
      "|        id|           date|   price|bedrooms|bathrooms|sqft_living|sqft_lot|floors|waterfront|view|condition|grade|sqft_above|sqft_basement|yr_built|yr_renovated|zipcode|    lat|    long|sqft_living15|sqft_lot15|\n",
      "+----------+---------------+--------+--------+---------+-----------+--------+------+----------+----+---------+-----+----------+-------------+--------+------------+-------+-------+--------+-------------+----------+\n",
      "|7129300520|20141013T000000|221900.0|       3|      1.0|       1180|    5650|   1.0|         0|   0|        3|    7|      1180|            0|    1955|           0|  98178|47.5112|-122.257|         1340|      5650|\n",
      "|6414100192|20141209T000000|538000.0|       3|     2.25|       2570|    7242|   2.0|         0|   0|        3|    7|      2170|          400|    1951|        1991|  98125| 47.721|-122.319|         1690|      7639|\n",
      "|5631500400|20150225T000000|180000.0|       2|      1.0|        770|   10000|   1.0|         0|   0|        3|    6|       770|            0|    1933|           0|  98028|47.7379|-122.233|         2720|      8062|\n",
      "|2487200875|20141209T000000|604000.0|       4|      3.0|       1960|    5000|   1.0|         0|   0|        5|    7|      1050|          910|    1965|           0|  98136|47.5208|-122.393|         1360|      5000|\n",
      "|1954400510|20150218T000000|510000.0|       3|      2.0|       1680|    8080|   1.0|         0|   0|        3|    8|      1680|            0|    1987|           0|  98074|47.6168|-122.045|         1800|      7503|\n",
      "+----------+---------------+--------+--------+---------+-----------+--------+------+----------+----+---------+-----+----------+-------------+--------+------------+-------+-------+--------+-------------+----------+\n",
      "only showing top 5 rows\n",
      "\n"
     ]
    }
   ],
   "source": [
    "#Load dataset\n",
    "data=spark.read.csv('../input/housesalesprediction/kc_house_data.csv',inferSchema=True, header=True)\n",
    "data.show(5)"
   ]
  },
  {
   "cell_type": "code",
   "execution_count": 6,
   "metadata": {
    "execution": {
     "iopub.execute_input": "2021-01-16T06:38:29.967726Z",
     "iopub.status.busy": "2021-01-16T06:38:29.966465Z",
     "iopub.status.idle": "2021-01-16T06:38:29.976739Z",
     "shell.execute_reply": "2021-01-16T06:38:29.977716Z"
    },
    "papermill": {
     "duration": 0.136089,
     "end_time": "2021-01-16T06:38:29.978005",
     "exception": false,
     "start_time": "2021-01-16T06:38:29.841916",
     "status": "completed"
    },
    "tags": []
   },
   "outputs": [
    {
     "name": "stdout",
     "output_type": "stream",
     "text": [
      "root\n",
      " |-- id: long (nullable = true)\n",
      " |-- date: string (nullable = true)\n",
      " |-- price: double (nullable = true)\n",
      " |-- bedrooms: integer (nullable = true)\n",
      " |-- bathrooms: double (nullable = true)\n",
      " |-- sqft_living: integer (nullable = true)\n",
      " |-- sqft_lot: integer (nullable = true)\n",
      " |-- floors: double (nullable = true)\n",
      " |-- waterfront: integer (nullable = true)\n",
      " |-- view: integer (nullable = true)\n",
      " |-- condition: integer (nullable = true)\n",
      " |-- grade: integer (nullable = true)\n",
      " |-- sqft_above: integer (nullable = true)\n",
      " |-- sqft_basement: integer (nullable = true)\n",
      " |-- yr_built: integer (nullable = true)\n",
      " |-- yr_renovated: integer (nullable = true)\n",
      " |-- zipcode: integer (nullable = true)\n",
      " |-- lat: double (nullable = true)\n",
      " |-- long: double (nullable = true)\n",
      " |-- sqft_living15: integer (nullable = true)\n",
      " |-- sqft_lot15: integer (nullable = true)\n",
      "\n"
     ]
    }
   ],
   "source": [
    "data.printSchema()"
   ]
  },
  {
   "cell_type": "code",
   "execution_count": 7,
   "metadata": {
    "execution": {
     "iopub.execute_input": "2021-01-16T06:38:30.217710Z",
     "iopub.status.busy": "2021-01-16T06:38:30.217085Z",
     "iopub.status.idle": "2021-01-16T06:38:30.543653Z",
     "shell.execute_reply": "2021-01-16T06:38:30.541966Z"
    },
    "papermill": {
     "duration": 0.448182,
     "end_time": "2021-01-16T06:38:30.543790",
     "exception": false,
     "start_time": "2021-01-16T06:38:30.095608",
     "status": "completed"
    },
    "tags": []
   },
   "outputs": [
    {
     "name": "stdout",
     "output_type": "stream",
     "text": [
      "+----------+---------------+--------+--------+---------+-----------+--------+------+----------+----+---------+-----+----------+-------------+--------+------------+-------+-------+--------+-------------+----------+\n",
      "|        id|           date|   price|bedrooms|bathrooms|sqft_living|sqft_lot|floors|waterfront|view|condition|grade|sqft_above|sqft_basement|yr_built|yr_renovated|zipcode|    lat|    long|sqft_living15|sqft_lot15|\n",
      "+----------+---------------+--------+--------+---------+-----------+--------+------+----------+----+---------+-----+----------+-------------+--------+------------+-------+-------+--------+-------------+----------+\n",
      "|7129300520|20141013T000000|221900.0|       3|      1.0|       1180|    5650|   1.0|         0|   0|        3|    7|      1180|            0|    1955|           0|  98178|47.5112|-122.257|         1340|      5650|\n",
      "|6414100192|20141209T000000|538000.0|       3|     2.25|       2570|    7242|   2.0|         0|   0|        3|    7|      2170|          400|    1951|        1991|  98125| 47.721|-122.319|         1690|      7639|\n",
      "|5631500400|20150225T000000|180000.0|       2|      1.0|        770|   10000|   1.0|         0|   0|        3|    6|       770|            0|    1933|           0|  98028|47.7379|-122.233|         2720|      8062|\n",
      "|2487200875|20141209T000000|604000.0|       4|      3.0|       1960|    5000|   1.0|         0|   0|        5|    7|      1050|          910|    1965|           0|  98136|47.5208|-122.393|         1360|      5000|\n",
      "|1954400510|20150218T000000|510000.0|       3|      2.0|       1680|    8080|   1.0|         0|   0|        3|    8|      1680|            0|    1987|           0|  98074|47.6168|-122.045|         1800|      7503|\n",
      "+----------+---------------+--------+--------+---------+-----------+--------+------+----------+----+---------+-----+----------+-------------+--------+------------+-------+-------+--------+-------------+----------+\n",
      "only showing top 5 rows\n",
      "\n"
     ]
    }
   ],
   "source": [
    "df=data.select(\"price\",'bedrooms','bathrooms','sqft_living','sqft_lot','floors','sqft_above','sqft_basement','sqft_living15','sqft_lot15')\n",
    "data.show(5)"
   ]
  },
  {
   "cell_type": "code",
   "execution_count": 8,
   "metadata": {
    "execution": {
     "iopub.execute_input": "2021-01-16T06:38:30.793413Z",
     "iopub.status.busy": "2021-01-16T06:38:30.792591Z",
     "iopub.status.idle": "2021-01-16T06:38:31.203304Z",
     "shell.execute_reply": "2021-01-16T06:38:31.204191Z"
    },
    "papermill": {
     "duration": 0.53869,
     "end_time": "2021-01-16T06:38:31.204406",
     "exception": false,
     "start_time": "2021-01-16T06:38:30.665716",
     "status": "completed"
    },
    "tags": []
   },
   "outputs": [
    {
     "name": "stdout",
     "output_type": "stream",
     "text": [
      "+------+--------+---------+-----------+--------+------+----------+-------------+-------------+----------+\n",
      "| price|bedrooms|bathrooms|sqft_living|sqft_lot|floors|sqft_above|sqft_basement|sqft_living15|sqft_lot15|\n",
      "+------+--------+---------+-----------+--------+------+----------+-------------+-------------+----------+\n",
      "|221900|       3|        1|       1180|    5650|     1|      1180|            0|         1340|      5650|\n",
      "|538000|       3|        2|       2570|    7242|     2|      2170|          400|         1690|      7639|\n",
      "|180000|       2|        1|        770|   10000|     1|       770|            0|         2720|      8062|\n",
      "|604000|       4|        3|       1960|    5000|     1|      1050|          910|         1360|      5000|\n",
      "|510000|       3|        2|       1680|    8080|     1|      1680|            0|         1800|      7503|\n",
      "+------+--------+---------+-----------+--------+------+----------+-------------+-------------+----------+\n",
      "only showing top 5 rows\n",
      "\n"
     ]
    }
   ],
   "source": [
    "df = df.withColumn(\"price\", df[\"price\"].cast(IntegerType()))\n",
    "df = df.withColumn(\"bathrooms\", df[\"bathrooms\"].cast(IntegerType()))\n",
    "df = df.withColumn(\"floors\", df[\"floors\"].cast(IntegerType()))\n",
    "df.show(5)"
   ]
  },
  {
   "cell_type": "code",
   "execution_count": 9,
   "metadata": {
    "execution": {
     "iopub.execute_input": "2021-01-16T06:38:31.455322Z",
     "iopub.status.busy": "2021-01-16T06:38:31.454351Z",
     "iopub.status.idle": "2021-01-16T06:38:33.280155Z",
     "shell.execute_reply": "2021-01-16T06:38:33.280625Z"
    },
    "papermill": {
     "duration": 1.952586,
     "end_time": "2021-01-16T06:38:33.280774",
     "exception": false,
     "start_time": "2021-01-16T06:38:31.328188",
     "status": "completed"
    },
    "tags": []
   },
   "outputs": [
    {
     "data": {
      "text/html": [
       "<div>\n",
       "<style scoped>\n",
       "    .dataframe tbody tr th:only-of-type {\n",
       "        vertical-align: middle;\n",
       "    }\n",
       "\n",
       "    .dataframe tbody tr th {\n",
       "        vertical-align: top;\n",
       "    }\n",
       "\n",
       "    .dataframe thead th {\n",
       "        text-align: right;\n",
       "    }\n",
       "</style>\n",
       "<table border=\"1\" class=\"dataframe\">\n",
       "  <thead>\n",
       "    <tr style=\"text-align: right;\">\n",
       "      <th></th>\n",
       "      <th>0</th>\n",
       "      <th>1</th>\n",
       "      <th>2</th>\n",
       "      <th>3</th>\n",
       "      <th>4</th>\n",
       "    </tr>\n",
       "  </thead>\n",
       "  <tbody>\n",
       "    <tr>\n",
       "      <th>summary</th>\n",
       "      <td>count</td>\n",
       "      <td>mean</td>\n",
       "      <td>stddev</td>\n",
       "      <td>min</td>\n",
       "      <td>max</td>\n",
       "    </tr>\n",
       "    <tr>\n",
       "      <th>price</th>\n",
       "      <td>21613</td>\n",
       "      <td>540088.1417665294</td>\n",
       "      <td>367127.19648270035</td>\n",
       "      <td>75000</td>\n",
       "      <td>7700000</td>\n",
       "    </tr>\n",
       "    <tr>\n",
       "      <th>bedrooms</th>\n",
       "      <td>21613</td>\n",
       "      <td>3.37084162309721</td>\n",
       "      <td>0.930061831147451</td>\n",
       "      <td>0</td>\n",
       "      <td>33</td>\n",
       "    </tr>\n",
       "    <tr>\n",
       "      <th>bathrooms</th>\n",
       "      <td>21613</td>\n",
       "      <td>1.7497339564151206</td>\n",
       "      <td>0.7348730839295018</td>\n",
       "      <td>0</td>\n",
       "      <td>8</td>\n",
       "    </tr>\n",
       "    <tr>\n",
       "      <th>sqft_living</th>\n",
       "      <td>21613</td>\n",
       "      <td>2079.8997362698374</td>\n",
       "      <td>918.4408970468096</td>\n",
       "      <td>290</td>\n",
       "      <td>13540</td>\n",
       "    </tr>\n",
       "    <tr>\n",
       "      <th>sqft_lot</th>\n",
       "      <td>21613</td>\n",
       "      <td>15106.967565816869</td>\n",
       "      <td>41420.51151513551</td>\n",
       "      <td>520</td>\n",
       "      <td>1651359</td>\n",
       "    </tr>\n",
       "    <tr>\n",
       "      <th>floors</th>\n",
       "      <td>21613</td>\n",
       "      <td>1.4462129274048026</td>\n",
       "      <td>0.5518935204355683</td>\n",
       "      <td>1</td>\n",
       "      <td>3</td>\n",
       "    </tr>\n",
       "    <tr>\n",
       "      <th>sqft_above</th>\n",
       "      <td>21613</td>\n",
       "      <td>1788.3906907879516</td>\n",
       "      <td>828.0909776519175</td>\n",
       "      <td>290</td>\n",
       "      <td>9410</td>\n",
       "    </tr>\n",
       "    <tr>\n",
       "      <th>sqft_basement</th>\n",
       "      <td>21613</td>\n",
       "      <td>291.5090454818859</td>\n",
       "      <td>442.57504267746685</td>\n",
       "      <td>0</td>\n",
       "      <td>4820</td>\n",
       "    </tr>\n",
       "    <tr>\n",
       "      <th>sqft_living15</th>\n",
       "      <td>21613</td>\n",
       "      <td>1986.552491556008</td>\n",
       "      <td>685.3913042527788</td>\n",
       "      <td>399</td>\n",
       "      <td>6210</td>\n",
       "    </tr>\n",
       "    <tr>\n",
       "      <th>sqft_lot15</th>\n",
       "      <td>21613</td>\n",
       "      <td>12768.455651691113</td>\n",
       "      <td>27304.179631338524</td>\n",
       "      <td>651</td>\n",
       "      <td>871200</td>\n",
       "    </tr>\n",
       "  </tbody>\n",
       "</table>\n",
       "</div>"
      ],
      "text/plain": [
       "                   0                   1                   2      3        4\n",
       "summary        count                mean              stddev    min      max\n",
       "price          21613   540088.1417665294  367127.19648270035  75000  7700000\n",
       "bedrooms       21613    3.37084162309721   0.930061831147451      0       33\n",
       "bathrooms      21613  1.7497339564151206  0.7348730839295018      0        8\n",
       "sqft_living    21613  2079.8997362698374   918.4408970468096    290    13540\n",
       "sqft_lot       21613  15106.967565816869   41420.51151513551    520  1651359\n",
       "floors         21613  1.4462129274048026  0.5518935204355683      1        3\n",
       "sqft_above     21613  1788.3906907879516   828.0909776519175    290     9410\n",
       "sqft_basement  21613   291.5090454818859  442.57504267746685      0     4820\n",
       "sqft_living15  21613   1986.552491556008   685.3913042527788    399     6210\n",
       "sqft_lot15     21613  12768.455651691113  27304.179631338524    651   871200"
      ]
     },
     "execution_count": 9,
     "metadata": {},
     "output_type": "execute_result"
    }
   ],
   "source": [
    "df.describe().toPandas().transpose()"
   ]
  },
  {
   "cell_type": "code",
   "execution_count": 10,
   "metadata": {
    "execution": {
     "iopub.execute_input": "2021-01-16T06:38:33.532371Z",
     "iopub.status.busy": "2021-01-16T06:38:33.531393Z",
     "iopub.status.idle": "2021-01-16T06:38:34.684160Z",
     "shell.execute_reply": "2021-01-16T06:38:34.683113Z"
    },
    "papermill": {
     "duration": 1.27963,
     "end_time": "2021-01-16T06:38:34.684330",
     "exception": false,
     "start_time": "2021-01-16T06:38:33.404700",
     "status": "completed"
    },
    "tags": []
   },
   "outputs": [
    {
     "name": "stdout",
     "output_type": "stream",
     "text": [
      "train:\n",
      " 17287 \n",
      "test:\n",
      " 4326\n"
     ]
    }
   ],
   "source": [
    "#Split dataset\n",
    "splitdata=df.randomSplit([0.8,0.2])\n",
    "train=splitdata[0]\n",
    "test=splitdata[1]\n",
    "\n",
    "print('train:\\n', train.count(), '\\ntest:\\n',test.count())"
   ]
  },
  {
   "cell_type": "code",
   "execution_count": 11,
   "metadata": {
    "execution": {
     "iopub.execute_input": "2021-01-16T06:38:35.013081Z",
     "iopub.status.busy": "2021-01-16T06:38:35.012367Z",
     "iopub.status.idle": "2021-01-16T06:38:35.020496Z",
     "shell.execute_reply": "2021-01-16T06:38:35.019554Z"
    },
    "papermill": {
     "duration": 0.147114,
     "end_time": "2021-01-16T06:38:35.020659",
     "exception": false,
     "start_time": "2021-01-16T06:38:34.873545",
     "status": "completed"
    },
    "tags": []
   },
   "outputs": [
    {
     "name": "stdout",
     "output_type": "stream",
     "text": [
      "root\n",
      " |-- price: integer (nullable = true)\n",
      " |-- bedrooms: integer (nullable = true)\n",
      " |-- bathrooms: integer (nullable = true)\n",
      " |-- sqft_living: integer (nullable = true)\n",
      " |-- sqft_lot: integer (nullable = true)\n",
      " |-- floors: integer (nullable = true)\n",
      " |-- sqft_above: integer (nullable = true)\n",
      " |-- sqft_basement: integer (nullable = true)\n",
      " |-- sqft_living15: integer (nullable = true)\n",
      " |-- sqft_lot15: integer (nullable = true)\n",
      "\n"
     ]
    }
   ],
   "source": [
    "df.printSchema()"
   ]
  },
  {
   "cell_type": "code",
   "execution_count": 12,
   "metadata": {
    "execution": {
     "iopub.execute_input": "2021-01-16T06:38:35.288527Z",
     "iopub.status.busy": "2021-01-16T06:38:35.287544Z",
     "iopub.status.idle": "2021-01-16T06:38:36.494686Z",
     "shell.execute_reply": "2021-01-16T06:38:36.493911Z"
    },
    "papermill": {
     "duration": 1.342378,
     "end_time": "2021-01-16T06:38:36.494875",
     "exception": false,
     "start_time": "2021-01-16T06:38:35.152497",
     "status": "completed"
    },
    "tags": []
   },
   "outputs": [
    {
     "name": "stdout",
     "output_type": "stream",
     "text": [
      "+--------------------+-----+\n",
      "|            features|Price|\n",
      "+--------------------+-----+\n",
      "|[75000.0,1.0,0.0,...|75000|\n",
      "|[78000.0,2.0,1.0,...|78000|\n",
      "|[81000.0,2.0,1.0,...|81000|\n",
      "|[82500.0,2.0,1.0,...|82500|\n",
      "|[83000.0,2.0,1.0,...|83000|\n",
      "+--------------------+-----+\n",
      "only showing top 5 rows\n",
      "\n"
     ]
    }
   ],
   "source": [
    "#Assembler\n",
    "assembler=VectorAssembler(inputCols=(\"price\",'bedrooms','bathrooms','sqft_living','sqft_lot','floors','sqft_above','sqft_basement','sqft_living15','sqft_lot15'),\n",
    "                         outputCol=('features'))\n",
    "trainingdatasetfinal=assembler.transform(train).select(col('features'),(col('price').cast('Int').alias('Price')))\n",
    "trainingdatasetfinal.show(5)\n"
   ]
  },
  {
   "cell_type": "code",
   "execution_count": 13,
   "metadata": {
    "execution": {
     "iopub.execute_input": "2021-01-16T06:38:36.816103Z",
     "iopub.status.busy": "2021-01-16T06:38:36.814906Z",
     "iopub.status.idle": "2021-01-16T06:38:39.032053Z",
     "shell.execute_reply": "2021-01-16T06:38:39.033047Z"
    },
    "papermill": {
     "duration": 2.351122,
     "end_time": "2021-01-16T06:38:39.033284",
     "exception": false,
     "start_time": "2021-01-16T06:38:36.682162",
     "status": "completed"
    },
    "tags": []
   },
   "outputs": [
    {
     "name": "stdout",
     "output_type": "stream",
     "text": [
      "Model Trained\n"
     ]
    }
   ],
   "source": [
    "#Modelling\n",
    "algoritma = LinearRegression(\n",
    "    labelCol=\"Price\",featuresCol=\"features\", maxIter=10, regParam=0.3)\n",
    "#mentraining model kita dengan training data final\n",
    "model = algoritma.fit(trainingdatasetfinal)\n",
    "print (\"Model Trained\")"
   ]
  },
  {
   "cell_type": "code",
   "execution_count": 14,
   "metadata": {
    "execution": {
     "iopub.execute_input": "2021-01-16T06:38:39.329066Z",
     "iopub.status.busy": "2021-01-16T06:38:39.328118Z",
     "iopub.status.idle": "2021-01-16T06:38:39.826451Z",
     "shell.execute_reply": "2021-01-16T06:38:39.825488Z"
    },
    "papermill": {
     "duration": 0.640178,
     "end_time": "2021-01-16T06:38:39.826621",
     "exception": false,
     "start_time": "2021-01-16T06:38:39.186443",
     "status": "completed"
    },
    "tags": []
   },
   "outputs": [
    {
     "name": "stdout",
     "output_type": "stream",
     "text": [
      "+--------------------+------+\n",
      "|            features| Price|\n",
      "+--------------------+------+\n",
      "|[80000.0,1.0,0.0,...| 80000|\n",
      "|[82000.0,3.0,1.0,...| 82000|\n",
      "|[92000.0,2.0,1.0,...| 92000|\n",
      "|[100000.0,4.0,1.0...|100000|\n",
      "|[109000.0,2.0,0.0...|109000|\n",
      "+--------------------+------+\n",
      "only showing top 5 rows\n",
      "\n"
     ]
    }
   ],
   "source": [
    "#Preparing Data Testing\n",
    "assembler=VectorAssembler(inputCols=[\"price\",'bedrooms','bathrooms','sqft_living','sqft_lot','floors','sqft_above','sqft_basement','sqft_living15','sqft_lot15'],outputCol='features')\n",
    "testingdatasetfinal=assembler.transform(test).select(col('features'),(col('price').cast('Int').alias(\"Price\")))\n",
    "testingdatasetfinal.show(5)"
   ]
  },
  {
   "cell_type": "code",
   "execution_count": 15,
   "metadata": {
    "execution": {
     "iopub.execute_input": "2021-01-16T06:38:40.116224Z",
     "iopub.status.busy": "2021-01-16T06:38:40.115301Z",
     "iopub.status.idle": "2021-01-16T06:38:40.535803Z",
     "shell.execute_reply": "2021-01-16T06:38:40.534311Z"
    },
    "papermill": {
     "duration": 0.553499,
     "end_time": "2021-01-16T06:38:40.535986",
     "exception": false,
     "start_time": "2021-01-16T06:38:39.982487",
     "status": "completed"
    },
    "tags": []
   },
   "outputs": [
    {
     "name": "stdout",
     "output_type": "stream",
     "text": [
      "+--------------------+------+------------------+\n",
      "|            features| Price|        prediction|\n",
      "+--------------------+------+------------------+\n",
      "|[80000.0,1.0,0.0,...| 80000| 80000.11210336909|\n",
      "|[82000.0,3.0,1.0,...| 82000|  82000.1439377204|\n",
      "|[92000.0,2.0,1.0,...| 92000| 92000.17891341654|\n",
      "|[100000.0,4.0,1.0...|100000|100000.14707554577|\n",
      "|[109000.0,2.0,0.0...|109000|109000.07693606177|\n",
      "+--------------------+------+------------------+\n",
      "only showing top 5 rows\n",
      "\n"
     ]
    }
   ],
   "source": [
    "# Testing Data\n",
    "data_pred=model.transform(testingdatasetfinal)\n",
    "data_pred.show(5)"
   ]
  },
  {
   "cell_type": "code",
   "execution_count": 16,
   "metadata": {
    "execution": {
     "iopub.execute_input": "2021-01-16T06:38:40.803754Z",
     "iopub.status.busy": "2021-01-16T06:38:40.802518Z",
     "iopub.status.idle": "2021-01-16T06:38:41.198304Z",
     "shell.execute_reply": "2021-01-16T06:38:41.199055Z"
    },
    "papermill": {
     "duration": 0.528677,
     "end_time": "2021-01-16T06:38:41.199251",
     "exception": false,
     "start_time": "2021-01-16T06:38:40.670574",
     "status": "completed"
    },
    "tags": []
   },
   "outputs": [
    {
     "name": "stdout",
     "output_type": "stream",
     "text": [
      "Root Mean Square Error (RMSE): 0.451294750800467\n"
     ]
    }
   ],
   "source": [
    "#mengimpor modul untuk mengevaluasi akurasi regresi kita\n",
    "from pyspark.ml.evaluation import RegressionEvaluator\n",
    "#mendefinisikan evaluator dengan menginputkan kolom dari \"label\" \n",
    "#dan \"prediksi\" data kita, serta matrik evaluasi yg kita inginkan (rmse)\n",
    "evaluator = RegressionEvaluator(\n",
    "    labelCol=\"Price\", predictionCol=\"prediction\", metricName=\"rmse\")\n",
    "#menghitung rmse dg evalutor yang telah kita definisikan\n",
    "rmse = evaluator.evaluate(data_pred)\n",
    "print (\"Root Mean Square Error (RMSE):\", rmse)"
   ]
  },
  {
   "cell_type": "markdown",
   "metadata": {
    "papermill": {
     "duration": 0.127237,
     "end_time": "2021-01-16T06:38:41.456741",
     "exception": false,
     "start_time": "2021-01-16T06:38:41.329504",
     "status": "completed"
    },
    "tags": []
   },
   "source": [
    " Let's upvote! Thanks."
   ]
  }
 ],
 "metadata": {
  "kernelspec": {
   "display_name": "Python 3",
   "language": "python",
   "name": "python3"
  },
  "language_info": {
   "codemirror_mode": {
    "name": "ipython",
    "version": 3
   },
   "file_extension": ".py",
   "mimetype": "text/x-python",
   "name": "python",
   "nbconvert_exporter": "python",
   "pygments_lexer": "ipython3",
   "version": "3.7.6"
  },
  "papermill": {
   "duration": 67.098798,
   "end_time": "2021-01-16T06:38:41.689072",
   "environment_variables": {},
   "exception": null,
   "input_path": "__notebook__.ipynb",
   "output_path": "__notebook__.ipynb",
   "parameters": {},
   "start_time": "2021-01-16T06:37:34.590274",
   "version": "2.1.0"
  }
 },
 "nbformat": 4,
 "nbformat_minor": 4
}
