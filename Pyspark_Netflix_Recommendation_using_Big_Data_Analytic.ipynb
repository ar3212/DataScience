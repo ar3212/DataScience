{
  "nbformat": 4,
  "nbformat_minor": 0,
  "metadata": {
    "kernelspec": {
      "display_name": "Python 3",
      "language": "python",
      "name": "python3"
    },
    "language_info": {
      "codemirror_mode": {
        "name": "ipython",
        "version": 3
      },
      "file_extension": ".py",
      "mimetype": "text/x-python",
      "name": "python",
      "nbconvert_exporter": "python",
      "pygments_lexer": "ipython3",
      "version": "3.8.5"
    },
    "colab": {
      "name": " Pyspark Netflix Recommendation using Big Data Analytic.ipynb",
      "provenance": [],
      "include_colab_link": true
    }
  },
  "cells": [
    {
      "cell_type": "markdown",
      "metadata": {
        "id": "view-in-github",
        "colab_type": "text"
      },
      "source": [
        "<a href=\"https://colab.research.google.com/github/zar7364/DataScience/blob/main/Pyspark_Netflix_Recommendation_using_Big_Data_Analytic.ipynb\" target=\"_parent\"><img src=\"https://colab.research.google.com/assets/colab-badge.svg\" alt=\"Open In Colab\"/></a>"
      ]
    },
    {
      "cell_type": "code",
      "metadata": {
        "colab": {
          "base_uri": "https://localhost:8080/"
        },
        "id": "cdgF8akqs3Rg",
        "outputId": "0c297d42-a903-4a58-ade9-f82df17c2e10"
      },
      "source": [
        "from google.colab import drive\n",
        "drive.mount('/content/drive')"
      ],
      "execution_count": 4,
      "outputs": [
        {
          "output_type": "stream",
          "text": [
            "Mounted at /content/drive\n"
          ],
          "name": "stdout"
        }
      ]
    },
    {
      "cell_type": "code",
      "metadata": {
        "id": "_hKFKSprLYsq",
        "colab": {
          "base_uri": "https://localhost:8080/",
          "height": 193
        },
        "outputId": "c6037f22-7a9a-433a-f5c7-c9542d6f0a61"
      },
      "source": [
        "#Import modul and Create Session\n",
        "from pyspark.ml.recommendation import ALS\n",
        "from pyspark.sql import SparkSession\n",
        "appName=\"Sistem Rekomendasi Film\"\n",
        "spark = SparkSession.builder.master(\"local\").appName(appName).getOrCreate()\n",
        "sc=spark.sparkContext\n",
        "sc\n"
      ],
      "execution_count": 3,
      "outputs": [
        {
          "output_type": "execute_result",
          "data": {
            "text/html": [
              "\n",
              "        <div>\n",
              "            <p><b>SparkContext</b></p>\n",
              "\n",
              "            <p><a href=\"http://f7f2a706d01c:4040\">Spark UI</a></p>\n",
              "\n",
              "            <dl>\n",
              "              <dt>Version</dt>\n",
              "                <dd><code>v3.0.1</code></dd>\n",
              "              <dt>Master</dt>\n",
              "                <dd><code>local</code></dd>\n",
              "              <dt>AppName</dt>\n",
              "                <dd><code>Sistem Rekomendasi Film</code></dd>\n",
              "            </dl>\n",
              "        </div>\n",
              "        "
            ],
            "text/plain": [
              "<SparkContext master=local appName=Sistem Rekomendasi Film>"
            ]
          },
          "metadata": {
            "tags": []
          },
          "execution_count": 3
        }
      ]
    },
    {
      "cell_type": "code",
      "metadata": {
        "id": "92HKcjmqLYsr",
        "colab": {
          "base_uri": "https://localhost:8080/"
        },
        "outputId": "f911da5e-950c-4076-c2d6-18fe5a17d5c1"
      },
      "source": [
        "#membuat data file ke DataFrame\n",
        "ratings = spark.read.csv(\"/content/drive/MyDrive/Colab Notebooks/Recommendation Movie/ratings.csv\", header=True, inferSchema=True)\n",
        "movies = spark.read.csv(\"/content/drive/MyDrive/Colab Notebooks/Recommendation Movie/movies.csv\", header=True, inferSchema=True)\n",
        "df=ratings.join(movies,\"movieId\")\n",
        "df.show(5)"
      ],
      "execution_count": 6,
      "outputs": [
        {
          "output_type": "stream",
          "text": [
            "+-------+------+------+----------+--------------------+--------------------+\n",
            "|movieId|userId|rating| timestamp|               title|              genres|\n",
            "+-------+------+------+----------+--------------------+--------------------+\n",
            "|     31|     1|   2.5|1260759144|Dangerous Minds (...|               Drama|\n",
            "|   1029|     1|   3.0|1260759179|        Dumbo (1941)|Animation|Childre...|\n",
            "|   1061|     1|   3.0|1260759182|     Sleepers (1996)|            Thriller|\n",
            "|   1129|     1|   2.0|1260759185|Escape from New Y...|Action|Adventure|...|\n",
            "|   1172|     1|   4.0|1260759205|Cinema Paradiso (...|               Drama|\n",
            "+-------+------+------+----------+--------------------+--------------------+\n",
            "only showing top 5 rows\n",
            "\n"
          ],
          "name": "stdout"
        }
      ]
    },
    {
      "cell_type": "code",
      "metadata": {
        "id": "AIPBvLbNLYsr",
        "colab": {
          "base_uri": "https://localhost:8080/"
        },
        "outputId": "d691fe04-2e73-4f33-85a3-0e241ad79104"
      },
      "source": [
        "#Pick the colomns the we need\n",
        "data=df.select(\"userId\",\"movieId\",\"rating\")\n",
        "data.show(5)"
      ],
      "execution_count": 7,
      "outputs": [
        {
          "output_type": "stream",
          "text": [
            "+------+-------+------+\n",
            "|userId|movieId|rating|\n",
            "+------+-------+------+\n",
            "|     1|     31|   2.5|\n",
            "|     1|   1029|   3.0|\n",
            "|     1|   1061|   3.0|\n",
            "|     1|   1129|   2.0|\n",
            "|     1|   1172|   4.0|\n",
            "+------+-------+------+\n",
            "only showing top 5 rows\n",
            "\n"
          ],
          "name": "stdout"
        }
      ]
    },
    {
      "cell_type": "code",
      "metadata": {
        "colab": {
          "base_uri": "https://localhost:8080/"
        },
        "id": "2qxKXOshtmCY",
        "outputId": "a7555b4c-bb7b-407c-d1ba-38ec002163a6"
      },
      "source": [
        "#Split data with ration 80% training and 20% testing\n",
        "splits=data.randomSplit([0.8,0.2])\n",
        "train=splits[0].withColumnRenamed(\"rating\",\"label\")\n",
        "test=splits[1].withColumnRenamed(\"rating\",\"trueLabel\")\n",
        "\n",
        "train_row=train.count()\n",
        "test_row=test.count()\n",
        "\n",
        "\n",
        "print(\"Total data train is :\",train_row)\n",
        "print(\"Total data test is:\", test_row)"
      ],
      "execution_count": 8,
      "outputs": [
        {
          "output_type": "stream",
          "text": [
            "Total data train is : 80021\n",
            "Total data test is: 19983\n"
          ],
          "name": "stdout"
        }
      ]
    },
    {
      "cell_type": "code",
      "metadata": {
        "colab": {
          "base_uri": "https://localhost:8080/"
        },
        "id": "LCND0otSw2Uz",
        "outputId": "abb92e3f-058b-4e00-c146-bddd04f5aede"
      },
      "source": [
        "test.show()"
      ],
      "execution_count": 20,
      "outputs": [
        {
          "output_type": "stream",
          "text": [
            "+------+-------+---------+\n",
            "|userId|movieId|trueLabel|\n",
            "+------+-------+---------+\n",
            "|     1|   1405|      1.0|\n",
            "|     2|     17|      5.0|\n",
            "|     2|     62|      3.0|\n",
            "|     2|    110|      4.0|\n",
            "|     2|    261|      4.0|\n",
            "|     2|    349|      4.0|\n",
            "|     2|    350|      4.0|\n",
            "|     2|    357|      3.0|\n",
            "|     2|    372|      3.0|\n",
            "|     2|    382|      3.0|\n",
            "|     2|    474|      2.0|\n",
            "|     2|    485|      3.0|\n",
            "|     2|    500|      4.0|\n",
            "|     2|    527|      4.0|\n",
            "|     2|    537|      4.0|\n",
            "|     2|    552|      3.0|\n",
            "|     2|    661|      4.0|\n",
            "|     3|    267|      3.0|\n",
            "|     3|    527|      3.0|\n",
            "|     3|    592|      3.0|\n",
            "+------+-------+---------+\n",
            "only showing top 20 rows\n",
            "\n"
          ],
          "name": "stdout"
        }
      ]
    },
    {
      "cell_type": "code",
      "metadata": {
        "id": "WKPNGc2nto4s"
      },
      "source": [
        "#Modelling\n",
        "als=ALS(maxIter=19,regParam=0.01, userCol=\"userId\", itemCol=\"movieId\",ratingCol=\"label\")\n",
        "model=als.fit(train)\n"
      ],
      "execution_count": 10,
      "outputs": []
    },
    {
      "cell_type": "code",
      "metadata": {
        "colab": {
          "base_uri": "https://localhost:8080/"
        },
        "id": "1VU7mwBkwDss",
        "outputId": "99b89db9-da5e-481f-a925-b72cef2b284f"
      },
      "source": [
        "#Let's Test and Evaluate\n",
        "prediction = model.transform(test)\n",
        "prediction.show(5)"
      ],
      "execution_count": 18,
      "outputs": [
        {
          "output_type": "stream",
          "text": [
            "+------+-------+---------+----------+\n",
            "|userId|movieId|trueLabel|prediction|\n",
            "+------+-------+---------+----------+\n",
            "|   460|    471|      5.0| 3.2884648|\n",
            "|   491|    471|      3.0|  5.311088|\n",
            "|   309|    471|      4.0| 4.0655103|\n",
            "|   241|    471|      4.0| 3.7564776|\n",
            "|   624|    471|      4.0|  4.006094|\n",
            "+------+-------+---------+----------+\n",
            "only showing top 5 rows\n",
            "\n"
          ],
          "name": "stdout"
        }
      ]
    },
    {
      "cell_type": "code",
      "metadata": {
        "colab": {
          "base_uri": "https://localhost:8080/"
        },
        "id": "-AFZpx2At5HW",
        "outputId": "1c1bdf19-ff3d-4e88-ada6-2e080eddc9e5"
      },
      "source": [
        "#Let's Test and Evaluate\n",
        "prediction = model.transform(test)\n",
        "prediction.join(movies, \"movieId\").select(\n",
        "    \"userId\", \"title\", \"prediction\", \"trueLabel\").show(n=3, truncate=False)"
      ],
      "execution_count": 11,
      "outputs": [
        {
          "output_type": "stream",
          "text": [
            "+------+---------------------------+----------+---------+\n",
            "|userId|title                      |prediction|trueLabel|\n",
            "+------+---------------------------+----------+---------+\n",
            "|460   |Hudsucker Proxy, The (1994)|3.2884648 |5.0      |\n",
            "|491   |Hudsucker Proxy, The (1994)|5.311088  |3.0      |\n",
            "|309   |Hudsucker Proxy, The (1994)|4.0655103 |4.0      |\n",
            "+------+---------------------------+----------+---------+\n",
            "only showing top 3 rows\n",
            "\n"
          ],
          "name": "stdout"
        }
      ]
    },
    {
      "cell_type": "code",
      "metadata": {
        "colab": {
          "base_uri": "https://localhost:8080/"
        },
        "id": "jGoIoepzuNbL",
        "outputId": "74117108-1b7e-49eb-cf4f-b6975b8150be"
      },
      "source": [
        "#Evaluate\n",
        "from pyspark.ml.evaluation import RegressionEvaluator\n",
        "\n",
        "evaluator = RegressionEvaluator(\n",
        "    labelCol=\"trueLabel\", predictionCol=\"prediction\", metricName=\"rmse\")\n",
        "rmse = evaluator.evaluate(prediction)\n",
        "print (\"Root Mean Square Error (RMSE):\", rmse)"
      ],
      "execution_count": 12,
      "outputs": [
        {
          "output_type": "stream",
          "text": [
            "Root Mean Square Error (RMSE): nan\n"
          ],
          "name": "stdout"
        }
      ]
    },
    {
      "cell_type": "code",
      "metadata": {
        "colab": {
          "base_uri": "https://localhost:8080/"
        },
        "id": "LTG4aIqquYYw",
        "outputId": "3f5036bf-f30a-44e0-85f0-17206f059957"
      },
      "source": [
        "#That's occur cause there were na data\n",
        "#let's clean\n",
        "\n",
        "prediction.count()\n",
        "a = prediction.count()\n",
        "print(\"Total NA before clean: \", a)\n",
        "cleanPred = prediction.dropna(how=\"any\", subset=[\"prediction\"])\n",
        "b = cleanPred.count()\n",
        "print(\"Total NA after clean \", b)\n",
        "print(\"Total NA: \", a-b)"
      ],
      "execution_count": 14,
      "outputs": [
        {
          "output_type": "stream",
          "text": [
            "Total NA before clean:  19983\n",
            "Total NA after clean  19309\n",
            "Total NA:  674\n"
          ],
          "name": "stdout"
        }
      ]
    },
    {
      "cell_type": "code",
      "metadata": {
        "colab": {
          "base_uri": "https://localhost:8080/"
        },
        "id": "oFXDcu43u1Jg",
        "outputId": "bbd5b81d-7e34-4738-8b4a-8d30f5f5084d"
      },
      "source": [
        "#Evaluate Again\n",
        "rmse = evaluator.evaluate(cleanPred)\n",
        "print (\"Root Mean Square Error (RMSE):\", rmse)"
      ],
      "execution_count": 16,
      "outputs": [
        {
          "output_type": "stream",
          "text": [
            "Root Mean Square Error (RMSE): 1.1992409024186217\n"
          ],
          "name": "stdout"
        }
      ]
    },
    {
      "cell_type": "code",
      "metadata": {
        "colab": {
          "base_uri": "https://localhost:8080/"
        },
        "id": "zUlURUyXx4j7",
        "outputId": "dbbc3038-11d1-4fca-8e66-719e3cb04b9f"
      },
      "source": [
        "# Generate top 10 movie recommendations for a specified set of users\n",
        "users = ratings.select(als.getUserCol()).distinct().limit(20)\n",
        "userSubsetRecs = model.recommendForUserSubset(users, 10)\n",
        "userSubsetRecs.show()"
      ],
      "execution_count": 39,
      "outputs": [
        {
          "output_type": "stream",
          "text": [
            "+------+--------------------+\n",
            "|userId|     recommendations|\n",
            "+------+--------------------+\n",
            "|   471|[[4037, 5.9657125...|\n",
            "|   463|[[968, 5.3055267]...|\n",
            "|   496|[[663, 7.3805075]...|\n",
            "|   148|[[446, 5.801387],...|\n",
            "|   540|[[4705, 7.8119006...|\n",
            "|   392|[[45666, 9.393296...|\n",
            "|   243|[[4037, 5.2423387...|\n",
            "|   623|[[4037, 6.02931],...|\n",
            "|    31|[[1227, 6.4087696...|\n",
            "|   516|[[6993, 5.710311]...|\n",
            "|   580|[[7327, 5.018984]...|\n",
            "|   251|[[3414, 7.2113786...|\n",
            "|   451|[[2513, 8.940361]...|\n",
            "|    85|[[6223, 10.426024...|\n",
            "|   137|[[1050, 7.4325337...|\n",
            "|    65|[[8947, 10.223124...|\n",
            "|   458|[[3929, 6.04683],...|\n",
            "|   481|[[83411, 6.020558...|\n",
            "|    53|[[3980, 12.526106...|\n",
            "|   255|[[1150, 6.79429],...|\n",
            "+------+--------------------+\n",
            "\n"
          ],
          "name": "stdout"
        }
      ]
    },
    {
      "cell_type": "code",
      "metadata": {
        "id": "dH--_JSGyxD_"
      },
      "source": [
        "spark.conf.set(\"spark.sql.execution.arrow.enabled\", \"true\")\n",
        "import pandas as pd\n",
        "\n",
        "import warnings\n",
        "warnings.simplefilter(\"ignore\")"
      ],
      "execution_count": 40,
      "outputs": []
    },
    {
      "cell_type": "code",
      "metadata": {
        "colab": {
          "base_uri": "https://localhost:8080/",
          "height": 204
        },
        "id": "QWyBKoa7zJ2D",
        "outputId": "ed7687ef-620e-475a-8059-1c384f73d4b9"
      },
      "source": [
        "RecommendbyUser=userSubsetRecs.toPandas()\n",
        "RecommendbyUser.head()"
      ],
      "execution_count": 41,
      "outputs": [
        {
          "output_type": "execute_result",
          "data": {
            "text/html": [
              "<div>\n",
              "<style scoped>\n",
              "    .dataframe tbody tr th:only-of-type {\n",
              "        vertical-align: middle;\n",
              "    }\n",
              "\n",
              "    .dataframe tbody tr th {\n",
              "        vertical-align: top;\n",
              "    }\n",
              "\n",
              "    .dataframe thead th {\n",
              "        text-align: right;\n",
              "    }\n",
              "</style>\n",
              "<table border=\"1\" class=\"dataframe\">\n",
              "  <thead>\n",
              "    <tr style=\"text-align: right;\">\n",
              "      <th></th>\n",
              "      <th>userId</th>\n",
              "      <th>recommendations</th>\n",
              "    </tr>\n",
              "  </thead>\n",
              "  <tbody>\n",
              "    <tr>\n",
              "      <th>0</th>\n",
              "      <td>471</td>\n",
              "      <td>[(4037, 5.965712547302246), (188, 5.8757677078...</td>\n",
              "    </tr>\n",
              "    <tr>\n",
              "      <th>1</th>\n",
              "      <td>463</td>\n",
              "      <td>[(968, 5.3055267333984375), (446, 5.1335110664...</td>\n",
              "    </tr>\n",
              "    <tr>\n",
              "      <th>2</th>\n",
              "      <td>496</td>\n",
              "      <td>[(663, 7.380507469177246), (6541, 7.2482066154...</td>\n",
              "    </tr>\n",
              "    <tr>\n",
              "      <th>3</th>\n",
              "      <td>148</td>\n",
              "      <td>[(446, 5.801386833190918), (4037, 5.5856466293...</td>\n",
              "    </tr>\n",
              "    <tr>\n",
              "      <th>4</th>\n",
              "      <td>540</td>\n",
              "      <td>[(4705, 7.811900615692139), (48997, 7.64389991...</td>\n",
              "    </tr>\n",
              "  </tbody>\n",
              "</table>\n",
              "</div>"
            ],
            "text/plain": [
              "   userId                                    recommendations\n",
              "0     471  [(4037, 5.965712547302246), (188, 5.8757677078...\n",
              "1     463  [(968, 5.3055267333984375), (446, 5.1335110664...\n",
              "2     496  [(663, 7.380507469177246), (6541, 7.2482066154...\n",
              "3     148  [(446, 5.801386833190918), (4037, 5.5856466293...\n",
              "4     540  [(4705, 7.811900615692139), (48997, 7.64389991..."
            ]
          },
          "metadata": {
            "tags": []
          },
          "execution_count": 41
        }
      ]
    },
    {
      "cell_type": "code",
      "metadata": {
        "colab": {
          "base_uri": "https://localhost:8080/"
        },
        "id": "SOVrQ_XcyLcy",
        "outputId": "97fae137-7d82-4685-fe6f-bb2515c85ba6"
      },
      "source": [
        "# Generate top 10 user recommendations for a specified set of movies\n",
        "movies = ratings.select(als.getItemCol()).distinct().limit(20)\n",
        "movieSubSetRecs = model.recommendForItemSubset(movies, 10)\n",
        "movieSubSetRecs.show(5)"
      ],
      "execution_count": 42,
      "outputs": [
        {
          "output_type": "stream",
          "text": [
            "+-------+--------------------+\n",
            "|movieId|     recommendations|\n",
            "+-------+--------------------+\n",
            "|   1580|[[469, 5.9059267]...|\n",
            "|   6620|[[453, 8.0317955]...|\n",
            "|    471|[[395, 6.250921],...|\n",
            "|   1591|[[498, 8.771437],...|\n",
            "|   1342|[[174, 9.02249], ...|\n",
            "+-------+--------------------+\n",
            "only showing top 5 rows\n",
            "\n"
          ],
          "name": "stdout"
        }
      ]
    },
    {
      "cell_type": "code",
      "metadata": {
        "colab": {
          "base_uri": "https://localhost:8080/",
          "height": 204
        },
        "id": "W-HrahC4z_Ap",
        "outputId": "26409e10-a713-49e1-a70d-43ea604d091c"
      },
      "source": [
        "RecommendbyMovie=movieSubSetRecs.toPandas()\n",
        "RecommendbyMovie.head()"
      ],
      "execution_count": 43,
      "outputs": [
        {
          "output_type": "execute_result",
          "data": {
            "text/html": [
              "<div>\n",
              "<style scoped>\n",
              "    .dataframe tbody tr th:only-of-type {\n",
              "        vertical-align: middle;\n",
              "    }\n",
              "\n",
              "    .dataframe tbody tr th {\n",
              "        vertical-align: top;\n",
              "    }\n",
              "\n",
              "    .dataframe thead th {\n",
              "        text-align: right;\n",
              "    }\n",
              "</style>\n",
              "<table border=\"1\" class=\"dataframe\">\n",
              "  <thead>\n",
              "    <tr style=\"text-align: right;\">\n",
              "      <th></th>\n",
              "      <th>movieId</th>\n",
              "      <th>recommendations</th>\n",
              "    </tr>\n",
              "  </thead>\n",
              "  <tbody>\n",
              "    <tr>\n",
              "      <th>0</th>\n",
              "      <td>1580</td>\n",
              "      <td>[(469, 5.905926704406738), (174, 5.65193843841...</td>\n",
              "    </tr>\n",
              "    <tr>\n",
              "      <th>1</th>\n",
              "      <td>6620</td>\n",
              "      <td>[(453, 8.031795501708984), (207, 7.01506900787...</td>\n",
              "    </tr>\n",
              "    <tr>\n",
              "      <th>2</th>\n",
              "      <td>471</td>\n",
              "      <td>[(395, 6.25092077255249), (465, 6.174275398254...</td>\n",
              "    </tr>\n",
              "    <tr>\n",
              "      <th>3</th>\n",
              "      <td>1591</td>\n",
              "      <td>[(498, 8.77143669128418), (260, 8.175416946411...</td>\n",
              "    </tr>\n",
              "    <tr>\n",
              "      <th>4</th>\n",
              "      <td>1342</td>\n",
              "      <td>[(174, 9.022489547729492), (269, 8.48479652404...</td>\n",
              "    </tr>\n",
              "  </tbody>\n",
              "</table>\n",
              "</div>"
            ],
            "text/plain": [
              "   movieId                                    recommendations\n",
              "0     1580  [(469, 5.905926704406738), (174, 5.65193843841...\n",
              "1     6620  [(453, 8.031795501708984), (207, 7.01506900787...\n",
              "2      471  [(395, 6.25092077255249), (465, 6.174275398254...\n",
              "3     1591  [(498, 8.77143669128418), (260, 8.175416946411...\n",
              "4     1342  [(174, 9.022489547729492), (269, 8.48479652404..."
            ]
          },
          "metadata": {
            "tags": []
          },
          "execution_count": 43
        }
      ]
    }
  ]
}